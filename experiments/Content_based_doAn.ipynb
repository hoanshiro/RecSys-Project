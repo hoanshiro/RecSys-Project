{
  "nbformat": 4,
  "nbformat_minor": 0,
  "metadata": {
    "colab": {
      "provenance": []
    },
    "kernelspec": {
      "name": "python3",
      "display_name": "Python 3"
    },
    "language_info": {
      "name": "python"
    }
  },
  "cells": [
    {
      "cell_type": "code",
      "execution_count": 1,
      "metadata": {
        "id": "mvnLD4GvOsDq"
      },
      "outputs": [],
      "source": [
        "import pandas as pd"
      ]
    },
    {
      "cell_type": "code",
      "source": [
        "path = '/content/drive/MyDrive/Ki_9/He_Khuyen_Nghi/Content_Based/Data/data_content_based_have_rest_name.csv'\n",
        "\n",
        "data = pd.read_csv(path)"
      ],
      "metadata": {
        "id": "JPv5sQXoSs40"
      },
      "execution_count": 11,
      "outputs": []
    },
    {
      "cell_type": "code",
      "source": [
        "data.sample(3)"
      ],
      "metadata": {
        "colab": {
          "base_uri": "https://localhost:8080/",
          "height": 143
        },
        "id": "42qLYKnBSzZa",
        "outputId": "1c51b687-ffec-45e8-e7fb-c73a49741639"
      },
      "execution_count": 12,
      "outputs": [
        {
          "output_type": "execute_result",
          "data": {
            "text/plain": [
              "                                                   link  \\\n",
              "831   https://www.foody.vn/ha-noi/sushi-kei-nguyen-c...   \n",
              "3116  https://www.foody.vn/ha-noi/hoang-hue-com-rang...   \n",
              "3539  https://www.foody.vn/ho-chi-minh/katinat-saigo...   \n",
              "\n",
              "                                      content_food_info  \\\n",
              "831   Cơm Cuộn California Salad Thanh Cua Salad Cae...   \n",
              "3116  Quà Tặng Cơm Rang Thập Cẩm Quà Tặng Pepsi 300m...   \n",
              "3539  BỘ ĐÔI HOÀN HẢO Trà Sữa Chôm Chôm Trà B'Lao Sữ...   \n",
              "\n",
              "                                              rest_name  \n",
              "831                        Sushi Kei - Nguyễn Chí Thanh  \n",
              "3116  Hoàng Huệ - Cơm Rang & Bún Bò Trộn - Khu Giãn ...  \n",
              "3539             Katinat Saigon Kafe - Huỳnh Thúc Kháng  "
            ],
            "text/html": [
              "\n",
              "  <div id=\"df-a5162534-93c0-442b-ad13-43cbab5239e5\">\n",
              "    <div class=\"colab-df-container\">\n",
              "      <div>\n",
              "<style scoped>\n",
              "    .dataframe tbody tr th:only-of-type {\n",
              "        vertical-align: middle;\n",
              "    }\n",
              "\n",
              "    .dataframe tbody tr th {\n",
              "        vertical-align: top;\n",
              "    }\n",
              "\n",
              "    .dataframe thead th {\n",
              "        text-align: right;\n",
              "    }\n",
              "</style>\n",
              "<table border=\"1\" class=\"dataframe\">\n",
              "  <thead>\n",
              "    <tr style=\"text-align: right;\">\n",
              "      <th></th>\n",
              "      <th>link</th>\n",
              "      <th>content_food_info</th>\n",
              "      <th>rest_name</th>\n",
              "    </tr>\n",
              "  </thead>\n",
              "  <tbody>\n",
              "    <tr>\n",
              "      <th>831</th>\n",
              "      <td>https://www.foody.vn/ha-noi/sushi-kei-nguyen-c...</td>\n",
              "      <td>Cơm Cuộn California Salad Thanh Cua Salad Cae...</td>\n",
              "      <td>Sushi Kei - Nguyễn Chí Thanh</td>\n",
              "    </tr>\n",
              "    <tr>\n",
              "      <th>3116</th>\n",
              "      <td>https://www.foody.vn/ha-noi/hoang-hue-com-rang...</td>\n",
              "      <td>Quà Tặng Cơm Rang Thập Cẩm Quà Tặng Pepsi 300m...</td>\n",
              "      <td>Hoàng Huệ - Cơm Rang &amp; Bún Bò Trộn - Khu Giãn ...</td>\n",
              "    </tr>\n",
              "    <tr>\n",
              "      <th>3539</th>\n",
              "      <td>https://www.foody.vn/ho-chi-minh/katinat-saigo...</td>\n",
              "      <td>BỘ ĐÔI HOÀN HẢO Trà Sữa Chôm Chôm Trà B'Lao Sữ...</td>\n",
              "      <td>Katinat Saigon Kafe - Huỳnh Thúc Kháng</td>\n",
              "    </tr>\n",
              "  </tbody>\n",
              "</table>\n",
              "</div>\n",
              "      <button class=\"colab-df-convert\" onclick=\"convertToInteractive('df-a5162534-93c0-442b-ad13-43cbab5239e5')\"\n",
              "              title=\"Convert this dataframe to an interactive table.\"\n",
              "              style=\"display:none;\">\n",
              "        \n",
              "  <svg xmlns=\"http://www.w3.org/2000/svg\" height=\"24px\"viewBox=\"0 0 24 24\"\n",
              "       width=\"24px\">\n",
              "    <path d=\"M0 0h24v24H0V0z\" fill=\"none\"/>\n",
              "    <path d=\"M18.56 5.44l.94 2.06.94-2.06 2.06-.94-2.06-.94-.94-2.06-.94 2.06-2.06.94zm-11 1L8.5 8.5l.94-2.06 2.06-.94-2.06-.94L8.5 2.5l-.94 2.06-2.06.94zm10 10l.94 2.06.94-2.06 2.06-.94-2.06-.94-.94-2.06-.94 2.06-2.06.94z\"/><path d=\"M17.41 7.96l-1.37-1.37c-.4-.4-.92-.59-1.43-.59-.52 0-1.04.2-1.43.59L10.3 9.45l-7.72 7.72c-.78.78-.78 2.05 0 2.83L4 21.41c.39.39.9.59 1.41.59.51 0 1.02-.2 1.41-.59l7.78-7.78 2.81-2.81c.8-.78.8-2.07 0-2.86zM5.41 20L4 18.59l7.72-7.72 1.47 1.35L5.41 20z\"/>\n",
              "  </svg>\n",
              "      </button>\n",
              "      \n",
              "  <style>\n",
              "    .colab-df-container {\n",
              "      display:flex;\n",
              "      flex-wrap:wrap;\n",
              "      gap: 12px;\n",
              "    }\n",
              "\n",
              "    .colab-df-convert {\n",
              "      background-color: #E8F0FE;\n",
              "      border: none;\n",
              "      border-radius: 50%;\n",
              "      cursor: pointer;\n",
              "      display: none;\n",
              "      fill: #1967D2;\n",
              "      height: 32px;\n",
              "      padding: 0 0 0 0;\n",
              "      width: 32px;\n",
              "    }\n",
              "\n",
              "    .colab-df-convert:hover {\n",
              "      background-color: #E2EBFA;\n",
              "      box-shadow: 0px 1px 2px rgba(60, 64, 67, 0.3), 0px 1px 3px 1px rgba(60, 64, 67, 0.15);\n",
              "      fill: #174EA6;\n",
              "    }\n",
              "\n",
              "    [theme=dark] .colab-df-convert {\n",
              "      background-color: #3B4455;\n",
              "      fill: #D2E3FC;\n",
              "    }\n",
              "\n",
              "    [theme=dark] .colab-df-convert:hover {\n",
              "      background-color: #434B5C;\n",
              "      box-shadow: 0px 1px 3px 1px rgba(0, 0, 0, 0.15);\n",
              "      filter: drop-shadow(0px 1px 2px rgba(0, 0, 0, 0.3));\n",
              "      fill: #FFFFFF;\n",
              "    }\n",
              "  </style>\n",
              "\n",
              "      <script>\n",
              "        const buttonEl =\n",
              "          document.querySelector('#df-a5162534-93c0-442b-ad13-43cbab5239e5 button.colab-df-convert');\n",
              "        buttonEl.style.display =\n",
              "          google.colab.kernel.accessAllowed ? 'block' : 'none';\n",
              "\n",
              "        async function convertToInteractive(key) {\n",
              "          const element = document.querySelector('#df-a5162534-93c0-442b-ad13-43cbab5239e5');\n",
              "          const dataTable =\n",
              "            await google.colab.kernel.invokeFunction('convertToInteractive',\n",
              "                                                     [key], {});\n",
              "          if (!dataTable) return;\n",
              "\n",
              "          const docLinkHtml = 'Like what you see? Visit the ' +\n",
              "            '<a target=\"_blank\" href=https://colab.research.google.com/notebooks/data_table.ipynb>data table notebook</a>'\n",
              "            + ' to learn more about interactive tables.';\n",
              "          element.innerHTML = '';\n",
              "          dataTable['output_type'] = 'display_data';\n",
              "          await google.colab.output.renderOutput(dataTable, element);\n",
              "          const docLink = document.createElement('div');\n",
              "          docLink.innerHTML = docLinkHtml;\n",
              "          element.appendChild(docLink);\n",
              "        }\n",
              "      </script>\n",
              "    </div>\n",
              "  </div>\n",
              "  "
            ]
          },
          "metadata": {},
          "execution_count": 12
        }
      ]
    },
    {
      "cell_type": "code",
      "source": [
        "data.columns"
      ],
      "metadata": {
        "colab": {
          "base_uri": "https://localhost:8080/"
        },
        "id": "UzJEjbQ6S3W9",
        "outputId": "1fbb61e4-cbdc-4cd1-dff0-99714f8f0ece"
      },
      "execution_count": 13,
      "outputs": [
        {
          "output_type": "execute_result",
          "data": {
            "text/plain": [
              "Index(['link', 'content_food_info', 'rest_name'], dtype='object')"
            ]
          },
          "metadata": {},
          "execution_count": 13
        }
      ]
    },
    {
      "cell_type": "code",
      "source": [
        "from sklearn.feature_extraction.text import TfidfVectorizer\n",
        "\n",
        "tfidf = TfidfVectorizer()"
      ],
      "metadata": {
        "id": "QUKag037TNrS"
      },
      "execution_count": 14,
      "outputs": []
    },
    {
      "cell_type": "code",
      "source": [
        "tfidf_matrix = tfidf.fit_transform(data['content_food_info'])"
      ],
      "metadata": {
        "id": "Bp4Vuqw4T5Ia"
      },
      "execution_count": 15,
      "outputs": []
    },
    {
      "cell_type": "code",
      "source": [
        "from sklearn.metrics.pairwise import linear_kernel\n",
        "\n",
        "cosine_sim = linear_kernel(tfidf_matrix, tfidf_matrix)"
      ],
      "metadata": {
        "id": "fz2rM63fT7cs"
      },
      "execution_count": 16,
      "outputs": []
    },
    {
      "cell_type": "code",
      "source": [
        "indices = pd.Series(data.index, index=data['rest_name'])"
      ],
      "metadata": {
        "id": "lCZtq0GKVMvM"
      },
      "execution_count": 17,
      "outputs": []
    },
    {
      "cell_type": "code",
      "source": [
        "indices['Sushi Kei - Nguyễn Chí Thanh']"
      ],
      "metadata": {
        "colab": {
          "base_uri": "https://localhost:8080/"
        },
        "id": "9ycq-EAzbwNQ",
        "outputId": "86e81e2f-4c4c-4323-9fb5-ff93672687bf"
      },
      "execution_count": 18,
      "outputs": [
        {
          "output_type": "execute_result",
          "data": {
            "text/plain": [
              "831"
            ]
          },
          "metadata": {},
          "execution_count": 18
        }
      ]
    },
    {
      "cell_type": "code",
      "source": [
        "def get_recommendation(title, cosine_sim = cosine_sim):\n",
        "  idx = indices[title]\n",
        "  sim_scores = enumerate(cosine_sim[idx])\n",
        "  sim_scores = sorted(sim_scores, key=lambda x: x[1], reverse=True)\n",
        "  sim_scores = sim_scores[:10]\n",
        "  for i in sim_scores:\n",
        "    print(i)\n",
        "\n",
        "  sim_index = [i[0] for i in sim_scores]\n",
        "  print('-------------')\n",
        "  print('top 10 nhà hàng có nội dung liên quan nhất: ')\n",
        "  print(data['rest_name'].iloc[sim_index])\n",
        "\n",
        "\n",
        "\n",
        "get_recommendation('Sushi Kei - Nguyễn Chí Thanh')"
      ],
      "metadata": {
        "colab": {
          "base_uri": "https://localhost:8080/"
        },
        "id": "VKf__foJb00t",
        "outputId": "46288fbe-bee7-4456-abea-bfa8df24f340"
      },
      "execution_count": 21,
      "outputs": [
        {
          "output_type": "stream",
          "name": "stdout",
          "text": [
            "(831, 1.0000000000000002)\n",
            "(829, 0.7456220642028122)\n",
            "(834, 0.7275383803415527)\n",
            "(836, 0.7190818488361987)\n",
            "(352, 0.353834000137112)\n",
            "(815, 0.34918872004448964)\n",
            "(173, 0.3191792449020398)\n",
            "(436, 0.2800233443471954)\n",
            "(100, 0.2798834907807197)\n",
            "(1610, 0.21875505511460605)\n",
            "-------------\n",
            "top 10 nhà hàng có nội dung liên quan nhất: \n",
            "831                          Sushi Kei - Nguyễn Chí Thanh\n",
            "829                       Sushi Kei - AEON Mall Long Biên\n",
            "834                    Sushi Kei - Lotte Center Liễu Giai\n",
            "836                         Sushi Kei - Aeon Mall Hà Đông\n",
            "352          ThaiExpress - Vincom Center Nguyễn Chí Thanh\n",
            "815                           Khao Lao - Nguyễn Chí Thanh\n",
            "173            Daruma Nguyễn Chí Thanh - Quán Ăn Nhật Bản\n",
            "436     King BBQ - Vua Nướng Hàn Quốc - Vincom Center ...\n",
            "100            Sushi Viên Ông Chủ Nhỏ - 78 Nguyễn Tiểu La\n",
            "1610    Sukiya - Cơm Bò Hầm & Mì Ramen - AEON Mall Bìn...\n",
            "Name: rest_name, dtype: object\n"
          ]
        }
      ]
    }
  ]
}