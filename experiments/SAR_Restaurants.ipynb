{
 "cells": [
  {
   "cell_type": "markdown",
   "metadata": {},
   "source": [
    "<i>Copyright (c) Microsoft Corporation. All rights reserved.</i>\n",
    "\n",
    "<i>Licensed under the MIT License.</i>"
   ]
  },
  {
   "cell_type": "markdown",
   "metadata": {},
   "source": [
    "# SAR Single Node on MovieLens (Python, CPU)\n",
    "\n",
    "In this example, we will walk through each step of the Simple Algorithm for Recommendation (SAR) algorithm using a Python single-node implementation.\n",
    "\n",
    "SAR is a fast, scalable, adaptive algorithm for personalized recommendations based on user transaction history. It is powered by understanding the similarity between items, and recommending similar items to those a user has an existing affinity for."
   ]
  },
  {
   "cell_type": "markdown",
   "metadata": {},
   "source": [
    "## 1 SAR algorithm\n",
    "\n",
    "The following figure presents a high-level architecture of SAR. \n",
    "\n",
    "At a very high level, two intermediate matrices are created and used to generate a set of recommendation scores:\n",
    "\n",
    "- An item similarity matrix $S$ estimates item-item relationships.\n",
    "- An affinity matrix $A$ estimates user-item relationships.\n",
    "\n",
    "Recommendation scores are then created by computing the matrix multiplication $A\\times S$.\n",
    "\n",
    "Optional steps (e.g. \"time decay\" and \"remove seen items\") are described in the details below.\n",
    "\n",
    "<img src=\"https://recodatasets.z20.web.core.windows.net/images/sar_schema.svg?sanitize=true\">\n",
    "\n",
    "### 1.1 Compute item co-occurrence and item similarity\n",
    "\n",
    "SAR defines similarity based on item-to-item co-occurrence data. Co-occurrence is defined as the number of times two items appear together for a given user. We can represent the co-occurrence of all items as a $m\\times m$ matrix $C$, where $c_{i,j}$ is the number of times item $i$ occurred with item $j$, and $m$ is the total number of items.\n",
    "\n",
    "The co-occurence matric $C$ has the following properties:\n",
    "\n",
    "- It is symmetric, so $c_{i,j} = c_{j,i}$\n",
    "- It is nonnegative: $c_{i,j} \\geq 0$\n",
    "- The occurrences are at least as large as the co-occurrences. I.e., the largest element for each row (and column) is on the main diagonal: $\\forall(i,j) C_{i,i},C_{j,j} \\geq C_{i,j}$.\n",
    "\n",
    "Once we have a co-occurrence matrix, an item similarity matrix $S$ can be obtained by rescaling the co-occurrences according to a given metric. Options for the metric include `Jaccard`, `lift`, and `counts` (meaning no rescaling).\n",
    "\n",
    "\n",
    "If $c_{ii}$ and $c_{jj}$ are the $i$th and $j$th diagonal elements of $C$, the rescaling options are:\n",
    "\n",
    "- `Jaccard`: $s_{ij}=\\frac{c_{ij}}{(c_{ii}+c_{jj}-c_{ij})}$\n",
    "- `lift`: $s_{ij}=\\frac{c_{ij}}{(c_{ii} \\times c_{jj})}$\n",
    "- `counts`: $s_{ij}=c_{ij}$\n",
    "\n",
    "In general, using `counts` as a similarity metric favours predictability, meaning that the most popular items will be recommended most of the time. `lift` by contrast favours discoverability/serendipity: an item that is less popular overall but highly favoured by a small subset of users is more likely to be recommended. `Jaccard` is a compromise between the two.\n",
    "\n",
    "\n",
    "### 1.2 Compute user affinity scores\n",
    "\n",
    "The affinity matrix in SAR captures the strength of the relationship between each individual user and the items that user has already interacted with. SAR incorporates two factors that can impact users' affinities: \n",
    "\n",
    "- It can consider information about the **type** of user-item interaction through differential weighting of different events (e.g. it may weigh events in which a user rated a particular item more heavily than events in which a user viewed the item).\n",
    "- It can consider information about **when** a user-item event occurred (e.g. it may discount the value of events that take place in the distant past.\n",
    "\n",
    "Formalizing these factors produces us an expression for user-item affinity:\n",
    "\n",
    "$$a_{ij}=\\sum_k w_k \\left(\\frac{1}{2}\\right)^{\\frac{t_0-t_k}{T}} $$\n",
    "\n",
    "where the affinity $a_{ij}$ for user $i$ and item $j$ is the weighted sum of all $k$ events involving user $i$ and item $j$. $w_k$ represents the weight of a particular event, and the power of 2 term reflects the temporally-discounted event. The $(\\frac{1}{2})^n$ scaling factor causes the parameter $T$ to serve as a half-life: events $T$ units before $t_0$ will be given half the weight as those taking place at $t_0$.\n",
    "\n",
    "Repeating this computation for all $n$ users and $m$ items results in an $n\\times m$ matrix $A$. Simplifications of the above expression can be obtained by setting all the weights equal to 1 (effectively ignoring event types), or by setting the half-life parameter $T$ to infinity (ignoring transaction times).\n",
    "\n",
    "### 1.3 Remove seen item\n",
    "\n",
    "Optionally we remove items which have already been seen in the training set, i.e. don't recommend items which have been previously bought by the user again.\n",
    "\n",
    "### 1.4 Top-k item calculation\n",
    "\n",
    "The personalized recommendations for a set of users can then be obtained by multiplying the affinity matrix ($A$) by the similarity matrix ($S$). The result is a recommendation score matrix, where each row corresponds to a user, each column corresponds to an item, and each entry corresponds to a user / item pair. Higher scores correspond to more strongly recommended items.\n",
    "\n",
    "It is worth noting that the complexity of recommending operation depends on the data size. SAR algorithm itself has $O(n^3)$ complexity. Therefore the single-node implementation is not supposed to handle large dataset in a scalable manner. Whenever one uses the algorithm, it is recommended to run with sufficiently large memory. "
   ]
  },
  {
   "cell_type": "markdown",
   "metadata": {},
   "source": [
    "## 2 SAR single-node implementation\n",
    "\n",
    "The SAR implementation illustrated in this notebook was developed in Python, primarily with Python packages like `numpy`, `pandas`, and `scipy` which are commonly used in most of the data analytics / machine learning tasks. Details of the implementation can be found in [Recommenders/recommenders/models/sar/sar_singlenode.py](../../recommenders/models/sar/sar_singlenode.py)."
   ]
  },
  {
   "cell_type": "markdown",
   "metadata": {},
   "source": [
    "## 3 SAR single-node based movie recommender"
   ]
  },
  {
   "cell_type": "code",
   "execution_count": 1,
   "metadata": {},
   "outputs": [
    {
     "name": "stdout",
     "output_type": "stream",
     "text": [
      "System version: 3.7.15 (default, Nov 24 2022, 21:12:53) \n",
      "[GCC 11.2.0]\n",
      "Pandas version: 1.2.5\n"
     ]
    }
   ],
   "source": [
    "# set the environment path to find Recommenders\n",
    "import sys\n",
    "\n",
    "import itertools\n",
    "import logging\n",
    "import os\n",
    "\n",
    "import numpy as np\n",
    "import pandas as pd\n",
    "import papermill as pm\n",
    "\n",
    "from recommenders.datasets import movielens\n",
    "from recommenders.datasets.python_splitters import python_stratified_split\n",
    "from recommenders.evaluation.python_evaluation import map_at_k, ndcg_at_k, precision_at_k, recall_at_k\n",
    "from recommenders.models.sar import SAR\n",
    "\n",
    "print(\"System version: {}\".format(sys.version))\n",
    "print(\"Pandas version: {}\".format(pd.__version__))"
   ]
  },
  {
   "cell_type": "code",
   "execution_count": 3,
   "metadata": {},
   "outputs": [
    {
     "name": "stdout",
     "output_type": "stream",
     "text": [
      "/home/henry/Desktop/UIT/RecSys/RecSys-Project\n"
     ]
    }
   ],
   "source": [
    "cd .."
   ]
  },
  {
   "cell_type": "markdown",
   "metadata": {},
   "source": [
    "### 3.1 Load Data\n",
    "\n",
    "SAR is intended to be used on interactions with the following schema:\n",
    "`<User ID>, <Item ID>, <Time>`. \n",
    "\n",
    "Each row represents a single interaction between a user and an item. These interactions might be different types of events on an e-commerce website, such as a user clicking to view an item, adding it to a shopping basket, following a recommendation link, and so on. \n",
    "\n",
    "The MovieLens dataset is well formatted interactions of Users providing Ratings to Movies (movie ratings are used as the event weight) - we will use it for the rest of the example."
   ]
  },
  {
   "cell_type": "code",
   "execution_count": 4,
   "metadata": {},
   "outputs": [
    {
     "data": {
      "text/html": [
       "<div>\n",
       "<style scoped>\n",
       "    .dataframe tbody tr th:only-of-type {\n",
       "        vertical-align: middle;\n",
       "    }\n",
       "\n",
       "    .dataframe tbody tr th {\n",
       "        vertical-align: top;\n",
       "    }\n",
       "\n",
       "    .dataframe thead th {\n",
       "        text-align: right;\n",
       "    }\n",
       "</style>\n",
       "<table border=\"1\" class=\"dataframe\">\n",
       "  <thead>\n",
       "    <tr style=\"text-align: right;\">\n",
       "      <th></th>\n",
       "      <th>user_id</th>\n",
       "      <th>rest_id</th>\n",
       "      <th>timestamp</th>\n",
       "      <th>user_device</th>\n",
       "      <th>rating_score</th>\n",
       "      <th>cmt</th>\n",
       "    </tr>\n",
       "  </thead>\n",
       "  <tbody>\n",
       "    <tr>\n",
       "      <th>68531</th>\n",
       "      <td>18939</td>\n",
       "      <td>4803</td>\n",
       "      <td>1647783420</td>\n",
       "      <td>MobileWeb</td>\n",
       "      <td>2.6</td>\n",
       "      <td>Lừa đảo. Để bảng giá trên bàn, trước cửa nhưng...</td>\n",
       "    </tr>\n",
       "    <tr>\n",
       "      <th>68532</th>\n",
       "      <td>4426</td>\n",
       "      <td>4895</td>\n",
       "      <td>1653679860</td>\n",
       "      <td>iPhone</td>\n",
       "      <td>2.8</td>\n",
       "      <td>Lần đầu ăn ở chi nhánh này trải nghiệm rất tệ,...</td>\n",
       "    </tr>\n",
       "    <tr>\n",
       "      <th>68533</th>\n",
       "      <td>19840</td>\n",
       "      <td>169</td>\n",
       "      <td>1668005160</td>\n",
       "      <td>iPhone</td>\n",
       "      <td>2.0</td>\n",
       "      <td>Thái độ nhân viên tốt. NHƯNG:\\n\\n1) Rất nhiều ...</td>\n",
       "    </tr>\n",
       "    <tr>\n",
       "      <th>68534</th>\n",
       "      <td>12883</td>\n",
       "      <td>4128</td>\n",
       "      <td>1641547860</td>\n",
       "      <td>iPhone</td>\n",
       "      <td>8.8</td>\n",
       "      <td>Các món chay được tuỳ biến theo phong cách tây...</td>\n",
       "    </tr>\n",
       "    <tr>\n",
       "      <th>68535</th>\n",
       "      <td>13675</td>\n",
       "      <td>4128</td>\n",
       "      <td>1640270280</td>\n",
       "      <td>iPhone</td>\n",
       "      <td>8.2</td>\n",
       "      <td>Đây là một địa điểm tuyệt vời cho những ai muố...</td>\n",
       "    </tr>\n",
       "  </tbody>\n",
       "</table>\n",
       "</div>"
      ],
      "text/plain": [
       "       user_id  rest_id   timestamp user_device  rating_score  \\\n",
       "68531    18939     4803  1647783420   MobileWeb           2.6   \n",
       "68532     4426     4895  1653679860      iPhone           2.8   \n",
       "68533    19840      169  1668005160      iPhone           2.0   \n",
       "68534    12883     4128  1641547860      iPhone           8.8   \n",
       "68535    13675     4128  1640270280      iPhone           8.2   \n",
       "\n",
       "                                                     cmt  \n",
       "68531  Lừa đảo. Để bảng giá trên bàn, trước cửa nhưng...  \n",
       "68532  Lần đầu ăn ở chi nhánh này trải nghiệm rất tệ,...  \n",
       "68533  Thái độ nhân viên tốt. NHƯNG:\\n\\n1) Rất nhiều ...  \n",
       "68534  Các món chay được tuỳ biến theo phong cách tây...  \n",
       "68535  Đây là một địa điểm tuyệt vời cho những ai muố...  "
      ]
     },
     "execution_count": 4,
     "metadata": {},
     "output_type": "execute_result"
    }
   ],
   "source": [
    "df_ratings = pd.read_parquet(\"data/cleaned/ratings.pq\")\n",
    "df_ratings.tail()"
   ]
  },
  {
   "cell_type": "markdown",
   "metadata": {},
   "source": [
    "### 3.2 Split the data using the python random splitter provided in utilities:\n",
    "\n",
    "We split the full dataset into a `train` and `test` dataset to evaluate performance of the algorithm against a held-out set not seen during training. Because SAR generates recommendations based on user preferences, all users that are in the test set must also exist in the training set. For this case, we can use the provided `python_stratified_split` function which holds out a percentage (in this case 25%) of items from each user, but ensures all users are in both `train` and `test` datasets. Other options are available in the `dataset.python_splitters` module which provide more control over how the split occurs.\n"
   ]
  },
  {
   "cell_type": "code",
   "execution_count": 5,
   "metadata": {},
   "outputs": [],
   "source": [
    "header = {\n",
    "    \"col_user\": \"user_id\",\n",
    "    \"col_item\": \"rest_id\",\n",
    "    \"col_rating\": \"rating_score\",\n",
    "    \"col_timestamp\": \"timestamp\",\n",
    "    \"col_prediction\": \"Prediction\",\n",
    "}"
   ]
  },
  {
   "cell_type": "code",
   "execution_count": 7,
   "metadata": {},
   "outputs": [],
   "source": [
    "train, test = python_stratified_split(df_ratings, ratio=0.75, col_user=header[\"col_user\"], col_item=header[\"col_item\"], seed=42)"
   ]
  },
  {
   "cell_type": "markdown",
   "metadata": {},
   "source": [
    "In this case, for the illustration purpose, the following parameter values are used:\n",
    "\n",
    "|Parameter|Value|Description|\n",
    "|---------|---------|-------------|\n",
    "|`similarity_type`|`jaccard`|Method used to calculate item similarity.|\n",
    "|`time_decay_coefficient`|30|Period in days (term of $T$ shown in the formula of Section 1.2)|\n",
    "|`time_now`|`None`|Time decay reference.|\n",
    "|`timedecay_formula`|`True`|Whether time decay formula is used.|"
   ]
  },
  {
   "cell_type": "code",
   "execution_count": 21,
   "metadata": {},
   "outputs": [],
   "source": [
    "# top k items to recommend\n",
    "TOP_K = 20"
   ]
  },
  {
   "cell_type": "code",
   "execution_count": 22,
   "metadata": {},
   "outputs": [],
   "source": [
    "# set log level to INFO\n",
    "logging.basicConfig(level=logging.DEBUG, \n",
    "                    format='%(asctime)s %(levelname)-8s %(message)s')\n",
    "\n",
    "model = SAR(\n",
    "    similarity_type=\"jaccard\", \n",
    "    time_decay_coefficient=30, \n",
    "    time_now=None, \n",
    "    timedecay_formula=True, \n",
    "    **header\n",
    ")"
   ]
  },
  {
   "cell_type": "code",
   "execution_count": 23,
   "metadata": {},
   "outputs": [
    {
     "name": "stderr",
     "output_type": "stream",
     "text": [
      "2022-12-02 22:03:59,950 INFO     Collecting user affinity matrix\n",
      "2022-12-02 22:03:59,953 INFO     Calculating time-decayed affinities\n",
      "2022-12-02 22:03:59,987 INFO     Creating index columns\n",
      "2022-12-02 22:04:00,084 INFO     Building user affinity sparse matrix\n",
      "2022-12-02 22:04:00,088 INFO     Calculating item co-occurrence\n",
      "2022-12-02 22:04:00,165 INFO     Calculating item similarity\n",
      "2022-12-02 22:04:00,165 INFO     Using jaccard based similarity\n",
      "2022-12-02 22:04:01,600 INFO     Done training\n"
     ]
    }
   ],
   "source": [
    "model.fit(train)"
   ]
  },
  {
   "cell_type": "code",
   "execution_count": 24,
   "metadata": {
    "scrolled": true
   },
   "outputs": [
    {
     "name": "stderr",
     "output_type": "stream",
     "text": [
      "2022-12-02 22:04:02,889 INFO     Calculating recommendation scores\n",
      "2022-12-02 22:04:03,188 INFO     Removing seen items\n"
     ]
    }
   ],
   "source": [
    "top_k = model.recommend_k_items(test, top_k=TOP_K, remove_seen=True)"
   ]
  },
  {
   "cell_type": "markdown",
   "metadata": {},
   "source": [
    "The final output from the `recommend_k_items` method generates recommendation scores for each user-item pair, which are shown as follows."
   ]
  },
  {
   "cell_type": "code",
   "execution_count": 25,
   "metadata": {
    "scrolled": true
   },
   "outputs": [
    {
     "data": {
      "text/html": [
       "<div>\n",
       "<style scoped>\n",
       "    .dataframe tbody tr th:only-of-type {\n",
       "        vertical-align: middle;\n",
       "    }\n",
       "\n",
       "    .dataframe tbody tr th {\n",
       "        vertical-align: top;\n",
       "    }\n",
       "\n",
       "    .dataframe thead th {\n",
       "        text-align: right;\n",
       "    }\n",
       "</style>\n",
       "<table border=\"1\" class=\"dataframe\">\n",
       "  <thead>\n",
       "    <tr style=\"text-align: right;\">\n",
       "      <th></th>\n",
       "      <th>user_id</th>\n",
       "      <th>rest_id</th>\n",
       "      <th>Prediction</th>\n",
       "      <th>cmt</th>\n",
       "    </tr>\n",
       "  </thead>\n",
       "  <tbody>\n",
       "    <tr>\n",
       "      <th>97920</th>\n",
       "      <td>27138</td>\n",
       "      <td>2775</td>\n",
       "      <td>1.390787e-09</td>\n",
       "      <td>Nếu muốn ăn kem ngon và rẻ, sự lựa chọn hàng đ...</td>\n",
       "    </tr>\n",
       "    <tr>\n",
       "      <th>97920</th>\n",
       "      <td>27138</td>\n",
       "      <td>2775</td>\n",
       "      <td>1.390787e-09</td>\n",
       "      <td>Chi nhánh macdonald ở trên phố đi bộ*** gửi xe...</td>\n",
       "    </tr>\n",
       "    <tr>\n",
       "      <th>97920</th>\n",
       "      <td>27138</td>\n",
       "      <td>2775</td>\n",
       "      <td>1.390787e-09</td>\n",
       "      <td>Chất lượng vẫn ngon, gà chiên giòn ăn rất đã m...</td>\n",
       "    </tr>\n",
       "    <tr>\n",
       "      <th>97920</th>\n",
       "      <td>27138</td>\n",
       "      <td>2775</td>\n",
       "      <td>1.390787e-09</td>\n",
       "      <td>Lần đầu mình ghé ngang mua bánh với nước mang ...</td>\n",
       "    </tr>\n",
       "    <tr>\n",
       "      <th>97920</th>\n",
       "      <td>27138</td>\n",
       "      <td>2775</td>\n",
       "      <td>1.390787e-09</td>\n",
       "      <td>Khác với không gian ở THĐ, ở McDonald's NH q1 ...</td>\n",
       "    </tr>\n",
       "    <tr>\n",
       "      <th>97920</th>\n",
       "      <td>27138</td>\n",
       "      <td>2775</td>\n",
       "      <td>1.390787e-09</td>\n",
       "      <td>Đi ngang qua chỗ này hoài mà chưa bước chân vô...</td>\n",
       "    </tr>\n",
       "    <tr>\n",
       "      <th>97920</th>\n",
       "      <td>27138</td>\n",
       "      <td>2775</td>\n",
       "      <td>1.390787e-09</td>\n",
       "      <td>📍Vị trí: nằm ở phố đi bộ Nguyễnn Huệ. Từ phía ...</td>\n",
       "    </tr>\n",
       "    <tr>\n",
       "      <th>97920</th>\n",
       "      <td>27138</td>\n",
       "      <td>2775</td>\n",
       "      <td>1.390787e-09</td>\n",
       "      <td>Đi Phố Đi Bộ rồi mỏi chân ghé vô mua nước nên ...</td>\n",
       "    </tr>\n",
       "    <tr>\n",
       "      <th>97920</th>\n",
       "      <td>27138</td>\n",
       "      <td>2775</td>\n",
       "      <td>1.390787e-09</td>\n",
       "      <td>Mình gọi 3 chicken wings mà bạn nhân viên bảo ...</td>\n",
       "    </tr>\n",
       "    <tr>\n",
       "      <th>97920</th>\n",
       "      <td>27138</td>\n",
       "      <td>2775</td>\n",
       "      <td>1.390787e-09</td>\n",
       "      <td>Không có chỗ giữ xe, phải gửi ở những bãi khác...</td>\n",
       "    </tr>\n",
       "  </tbody>\n",
       "</table>\n",
       "</div>"
      ],
      "text/plain": [
       "       user_id  rest_id    Prediction  \\\n",
       "97920    27138     2775  1.390787e-09   \n",
       "97920    27138     2775  1.390787e-09   \n",
       "97920    27138     2775  1.390787e-09   \n",
       "97920    27138     2775  1.390787e-09   \n",
       "97920    27138     2775  1.390787e-09   \n",
       "97920    27138     2775  1.390787e-09   \n",
       "97920    27138     2775  1.390787e-09   \n",
       "97920    27138     2775  1.390787e-09   \n",
       "97920    27138     2775  1.390787e-09   \n",
       "97920    27138     2775  1.390787e-09   \n",
       "\n",
       "                                                     cmt  \n",
       "97920  Nếu muốn ăn kem ngon và rẻ, sự lựa chọn hàng đ...  \n",
       "97920  Chi nhánh macdonald ở trên phố đi bộ*** gửi xe...  \n",
       "97920  Chất lượng vẫn ngon, gà chiên giòn ăn rất đã m...  \n",
       "97920  Lần đầu mình ghé ngang mua bánh với nước mang ...  \n",
       "97920  Khác với không gian ở THĐ, ở McDonald's NH q1 ...  \n",
       "97920  Đi ngang qua chỗ này hoài mà chưa bước chân vô...  \n",
       "97920  📍Vị trí: nằm ở phố đi bộ Nguyễnn Huệ. Từ phía ...  \n",
       "97920  Đi Phố Đi Bộ rồi mỏi chân ghé vô mua nước nên ...  \n",
       "97920  Mình gọi 3 chicken wings mà bạn nhân viên bảo ...  \n",
       "97920  Không có chỗ giữ xe, phải gửi ở những bãi khác...  "
      ]
     },
     "metadata": {},
     "output_type": "display_data"
    }
   ],
   "source": [
    "top_k_with_titles = (top_k.join(df_ratings[['rest_id', 'cmt']].drop_duplicates().set_index('rest_id'), \n",
    "                                on='rest_id', \n",
    "                                how='inner').sort_values(by=['user_id', 'Prediction'], ascending=False))\n",
    "display(top_k_with_titles.head(10))"
   ]
  },
  {
   "cell_type": "markdown",
   "metadata": {},
   "source": [
    "### 3.3 Evaluate the results\n",
    "\n",
    "It should be known that the recommendation scores generated by multiplying the item similarity matrix $S$ and the user affinity matrix $A$ **DOES NOT** have the same scale with the original explicit ratings in the movielens dataset. That is to say, SAR algorithm is meant for the task of *recommending relevent items to users* rather than *predicting explicit ratings for user-item pairs*. \n",
    "\n",
    "To this end, ranking metrics like precision@k, recall@k, etc., are more applicable to evaluate SAR algorithm. The following illustrates how to evaluate SAR model by using the evaluation functions provided in the `recommenders`."
   ]
  },
  {
   "cell_type": "code",
   "execution_count": 26,
   "metadata": {},
   "outputs": [],
   "source": [
    "# all ranking metrics have the same arguments\n",
    "args = [test, top_k]\n",
    "kwargs = dict(col_user='user_id', \n",
    "              col_item='rest_id', \n",
    "              col_rating='rating_score', \n",
    "              col_prediction='Prediction', \n",
    "              relevancy_method='top_k', \n",
    "              k=TOP_K)\n",
    "\n",
    "eval_map = map_at_k(*args, **kwargs)\n",
    "eval_ndcg = ndcg_at_k(*args, **kwargs)\n",
    "eval_precision = precision_at_k(*args, **kwargs)\n",
    "eval_recall = recall_at_k(*args, **kwargs)"
   ]
  },
  {
   "cell_type": "code",
   "execution_count": 27,
   "metadata": {},
   "outputs": [
    {
     "name": "stdout",
     "output_type": "stream",
     "text": [
      "Model:\n",
      "Top K:\t\t 20\n",
      "MAP:\t\t 0.038486\n",
      "NDCG:\t\t 0.050160\n",
      "Precision@K:\t 0.006228\n",
      "Recall@K:\t 0.077149\n"
     ]
    }
   ],
   "source": [
    "print(f\"Model:\",\n",
    "      f\"Top K:\\t\\t {TOP_K}\",\n",
    "      f\"MAP:\\t\\t {eval_map:f}\",\n",
    "      f\"NDCG:\\t\\t {eval_ndcg:f}\",\n",
    "      f\"Precision@K:\\t {eval_precision:f}\",\n",
    "      f\"Recall@K:\\t {eval_recall:f}\", sep='\\n')"
   ]
  },
  {
   "cell_type": "markdown",
   "metadata": {},
   "source": [
    "## References\n",
    "Note SAR is a combinational algorithm that implements different industry heuristics. The followings are references that may be helpful in understanding the SAR logic and implementation. \n",
    "\n",
    "1. Badrul Sarwar, *et al*, \"Item-based collaborative filtering recommendation algorithms\", WWW, 2001.\n",
    "2. Scipy (sparse matrix), url: https://docs.scipy.org/doc/scipy/reference/sparse.html\n",
    "3. Asela Gunawardana and Guy Shani, \"A survey of accuracy evaluation metrics of recommendation tasks\", The Journal of Machine Learning Research, vol. 10, pp 2935-2962, 2009.\t"
   ]
  }
 ],
 "metadata": {
  "kernelspec": {
   "display_name": "Python 3 (ipykernel)",
   "language": "python",
   "name": "python3"
  },
  "language_info": {
   "codemirror_mode": {
    "name": "ipython",
    "version": 3
   },
   "file_extension": ".py",
   "mimetype": "text/x-python",
   "name": "python",
   "nbconvert_exporter": "python",
   "pygments_lexer": "ipython3",
   "version": "3.7.15"
  }
 },
 "nbformat": 4,
 "nbformat_minor": 4
}
