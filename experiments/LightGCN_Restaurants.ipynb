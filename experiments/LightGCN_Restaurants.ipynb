{
 "cells": [
  {
   "cell_type": "markdown",
   "metadata": {
    "id": "d9ZQ8gzVEPk2"
   },
   "source": [
    "<i>Copyright (c) Microsoft Corporation. All rights reserved.</i>\n",
    "\n",
    "<i>Licensed under the MIT License.</i>"
   ]
  },
  {
   "cell_type": "markdown",
   "metadata": {
    "id": "6VHE22KNEPk3"
   },
   "source": [
    "# LightGCN - simplified GCN model for recommendation\n",
    "\n",
    "This notebook serves as an introduction to LightGCN [1], which is an simple, linear and neat Graph Convolution Network (GCN) [3] model for recommendation."
   ]
  },
  {
   "cell_type": "code",
   "execution_count": null,
   "metadata": {
    "colab": {
     "base_uri": "https://localhost:8080/"
    },
    "id": "hMUo-sSEEabH",
    "outputId": "9dfb05e0-bf7c-4036-b0a4-4539d2ddc85a"
   },
   "outputs": [
    {
     "name": "stdout",
     "output_type": "stream",
     "text": [
      "Mounted at /content/drive\n"
     ]
    }
   ],
   "source": [
    "# from google.colab import drive\n",
    "# drive.mount('/content/drive')"
   ]
  },
  {
   "cell_type": "code",
   "execution_count": 1,
   "metadata": {
    "colab": {
     "base_uri": "https://localhost:8080/"
    },
    "id": "pcxj8UsqEo6I",
    "outputId": "d1e193ec-9f71-4201-a5e1-eea8e3db947f"
   },
   "outputs": [
    {
     "name": "stdout",
     "output_type": "stream",
     "text": [
      "Cloning into 'RecSys-Project'...\n",
      "remote: Enumerating objects: 88, done.\u001b[K\n",
      "remote: Total 88 (delta 0), reused 0 (delta 0), pack-reused 88\u001b[K\n",
      "Unpacking objects: 100% (88/88), done.\n",
      "Checking out files: 100% (19/19), done.\n"
     ]
    }
   ],
   "source": [
    "!git clone https://github.com/hoanshiro/RecSys-Project.git"
   ]
  },
  {
   "cell_type": "code",
   "execution_count": 2,
   "metadata": {
    "colab": {
     "base_uri": "https://localhost:8080/"
    },
    "id": "lQs-gQu6Ewef",
    "outputId": "2248ce0e-d858-40a3-c349-4bc724795ac9"
   },
   "outputs": [
    {
     "name": "stdout",
     "output_type": "stream",
     "text": [
      "/content/RecSys-Project\n"
     ]
    }
   ],
   "source": [
    "%cd RecSys-Project"
   ]
  },
  {
   "cell_type": "code",
   "execution_count": 3,
   "metadata": {
    "colab": {
     "base_uri": "https://localhost:8080/"
    },
    "id": "F0MnPEv5Fjn9",
    "outputId": "6345845d-1ee1-43d2-cb14-108c4b5aa478"
   },
   "outputs": [
    {
     "name": "stdout",
     "output_type": "stream",
     "text": [
      "/content/RecSys-Project/config\n"
     ]
    }
   ],
   "source": [
    "%cd config"
   ]
  },
  {
   "cell_type": "code",
   "execution_count": 4,
   "metadata": {
    "colab": {
     "base_uri": "https://localhost:8080/"
    },
    "id": "MHSwN7alFgaE",
    "outputId": "678c965c-fe42-43cc-8a54-d827b68eea7a"
   },
   "outputs": [
    {
     "name": "stdout",
     "output_type": "stream",
     "text": [
      "--2022-12-02 15:40:26--  https://raw.githubusercontent.com/microsoft/recommenders/main/recommenders/models/deeprec/config/lightgcn.yaml\n",
      "Resolving raw.githubusercontent.com (raw.githubusercontent.com)... 185.199.109.133, 185.199.110.133, 185.199.108.133, ...\n",
      "Connecting to raw.githubusercontent.com (raw.githubusercontent.com)|185.199.109.133|:443... connected.\n",
      "HTTP request sent, awaiting response... 200 OK\n",
      "Length: 934 [text/plain]\n",
      "Saving to: ‘lightgcn.yaml.1’\n",
      "\n",
      "lightgcn.yaml.1     100%[===================>]     934  --.-KB/s    in 0s      \n",
      "\n",
      "2022-12-02 15:40:26 (54.7 MB/s) - ‘lightgcn.yaml.1’ saved [934/934]\n",
      "\n"
     ]
    }
   ],
   "source": [
    "!wget https://raw.githubusercontent.com/microsoft/recommenders/main/recommenders/models/deeprec/config/lightgcn.yaml"
   ]
  },
  {
   "cell_type": "code",
   "execution_count": 5,
   "metadata": {
    "colab": {
     "base_uri": "https://localhost:8080/"
    },
    "id": "v2dETA7YF5Yh",
    "outputId": "2497f35e-daeb-43f1-aaa1-0cfa8d54ceb3"
   },
   "outputs": [
    {
     "name": "stdout",
     "output_type": "stream",
     "text": [
      "/content/RecSys-Project\n"
     ]
    }
   ],
   "source": [
    "%cd .."
   ]
  },
  {
   "cell_type": "code",
   "execution_count": 6,
   "metadata": {
    "colab": {
     "base_uri": "https://localhost:8080/"
    },
    "id": "C_Sl7LDnE1sz",
    "outputId": "d79d5291-14f7-478e-c5b5-ba75719413a2"
   },
   "outputs": [
    {
     "name": "stdout",
     "output_type": "stream",
     "text": [
      "/content/RecSys-Project\n"
     ]
    }
   ],
   "source": [
    "!pwd"
   ]
  },
  {
   "cell_type": "markdown",
   "metadata": {
    "id": "062V6vMEEPk4"
   },
   "source": [
    "## 0 Global Settings and Imports"
   ]
  },
  {
   "cell_type": "code",
   "execution_count": 7,
   "metadata": {
    "colab": {
     "base_uri": "https://localhost:8080/"
    },
    "id": "aX5MgSEpE6Hq",
    "outputId": "a6a25e1b-aa25-416f-e159-1d685d287da2"
   },
   "outputs": [
    {
     "name": "stdout",
     "output_type": "stream",
     "text": [
      "\u001b[K     |████████████████████████████████| 1.6 MB 9.6 MB/s \n",
      "\u001b[K     |████████████████████████████████| 71 kB 400 kB/s \n",
      "\u001b[K     |████████████████████████████████| 92 kB 1.1 MB/s \n",
      "\u001b[K     |████████████████████████████████| 107 kB 80.9 MB/s \n",
      "\u001b[K     |████████████████████████████████| 339 kB 4.9 MB/s \n",
      "\u001b[K     |████████████████████████████████| 61 kB 9.4 MB/s \n",
      "\u001b[K     |████████████████████████████████| 5.8 MB 78.6 MB/s \n",
      "\u001b[K     |████████████████████████████████| 310 kB 51.7 MB/s \n",
      "\u001b[K     |████████████████████████████████| 14.4 MB 29.5 MB/s \n",
      "\u001b[K     |████████████████████████████████| 771 kB 73.9 MB/s \n",
      "\u001b[K     |████████████████████████████████| 662 kB 76.3 MB/s \n",
      "\u001b[K     |████████████████████████████████| 122 kB 84.8 MB/s \n",
      "\u001b[K     |████████████████████████████████| 355 kB 83.0 MB/s \n",
      "\u001b[K     |████████████████████████████████| 397 kB 77.8 MB/s \n",
      "\u001b[K     |████████████████████████████████| 182 kB 80.0 MB/s \n",
      "\u001b[K     |████████████████████████████████| 7.6 MB 58.1 MB/s \n",
      "\u001b[?25h  Building wheel for lightfm (setup.py) ... \u001b[?25l\u001b[?25hdone\n",
      "  Building wheel for scikit-surprise (setup.py) ... \u001b[?25l\u001b[?25hdone\n"
     ]
    }
   ],
   "source": [
    "!pip install -q scrapbook\n",
    "!pip install -q recommenders"
   ]
  },
  {
   "cell_type": "code",
   "execution_count": 8,
   "metadata": {
    "colab": {
     "base_uri": "https://localhost:8080/"
    },
    "id": "frOnUtZtEPk4",
    "outputId": "4fc0dbc9-f0ed-483c-efcd-eb077deadb8c"
   },
   "outputs": [
    {
     "name": "stdout",
     "output_type": "stream",
     "text": [
      "System version: 3.8.15 (default, Oct 12 2022, 19:14:39) \n",
      "[GCC 7.5.0]\n",
      "Pandas version: 1.3.5\n",
      "Tensorflow version: 2.9.2\n"
     ]
    }
   ],
   "source": [
    "import sys\n",
    "import os\n",
    "import scrapbook as sb\n",
    "import pandas as pd\n",
    "import numpy as np\n",
    "import tensorflow as tf\n",
    "tf.get_logger().setLevel('ERROR') # only show error messages\n",
    "\n",
    "from recommenders.utils.timer import Timer\n",
    "from recommenders.models.deeprec.models.graphrec.lightgcn import LightGCN\n",
    "from recommenders.models.deeprec.DataModel.ImplicitCF import ImplicitCF\n",
    "from recommenders.datasets import movielens\n",
    "from recommenders.datasets.python_splitters import python_stratified_split\n",
    "from recommenders.evaluation.python_evaluation import map_at_k, ndcg_at_k, precision_at_k, recall_at_k\n",
    "from recommenders.utils.constants import SEED as DEFAULT_SEED\n",
    "from recommenders.models.deeprec.deeprec_utils import prepare_hparams\n",
    "\n",
    "print(\"System version: {}\".format(sys.version))\n",
    "print(\"Pandas version: {}\".format(pd.__version__))\n",
    "print(\"Tensorflow version: {}\".format(tf.__version__))"
   ]
  },
  {
   "cell_type": "markdown",
   "metadata": {
    "id": "cUv2O6pAEPk7"
   },
   "source": [
    "## 1 LightGCN model\n",
    "\n",
    "LightGCN is a simplified version of Neural Graph Collaborative Filtering (NGCF) [4], which adapts GCNs in recommendation systems.\n",
    "\n",
    "### 1.1 Graph Networks in Recommendation Systems\n",
    "\n",
    "GCN are networks that can learn patterns in graph data. They can be applied in many fields, but they are particularly well suited for Recommendation Systems, because of their ability to encode relationships.\n",
    "\n",
    "In traditional models like matrix factorization [5], user and items are represented as embeddings. And the interaction, which is the signal that encodes the behavior, is not part of the embeddings, but it is represented in the loss function, typically as a dot product. \n",
    "\n",
    "Despite their effectiveness, some authors [1,4] argue that these methods are not sufficient to yield satisfactory embeddings for collaborative filtering. The key reason is that the embedding function lacks an explicit encoding of the crucial collaborative signal, which is latent in user-item interactions to reveal the behavioral similarity between users (or items). \n",
    "\n",
    "**GCNs can be used to encode the interaction signal in the embeddings**. Interacted items can be seen as user´s features, because they provide direct evidence on a user’s preference. Similarly, the users that consume an item can be treated as the item’s features and used to measure the collaborative similarity of two items. A natural way to incorporate the interaction signal in the embedding is by exploiting the high-order connectivity from user-item interactions.\n",
    "\n",
    "In the figure below, the user-item interaction is shown (to the left) as well as the concept of higher-order connectivity (to the right).\n",
    "\n",
    "<img src=\"https://recodatasets.z20.web.core.windows.net/images/High_order_connectivity.png\" width=500 style=\"display:block; margin-left:auto; margin-right:auto;\">\n",
    "\n",
    "The high-order connectivity shows the collaborative signal in a graph form. For example, the path $u_1 ← i_2 ← u2$ indicates the behavior\n",
    "similarity between $u_1$ and $u_2$, as both users have interacted with $i_2$; the longer path $u_1 ← i_2 ← u_2 ← i_4$ suggests that $u_1$ is likely to adopt $i_4$, since her similar user $u_2$ has consumed $i_4$ before. Moreover, from the holistic view of $l = 3$, item $i_4$ is more likely to be of interest to $u_1$ than item $i_5$, since there are two paths connecting $<i_4,u_1>$, while only one path connects $<i_5,u_1>$.\n",
    "\n",
    "Based on this high-order connectivity, NGCF [4] defines an embedding propagation layer, which refines a user’s (or an item’s) embedding by aggregating the embeddings of the interacted items (or users). By stacking multiple embedding propagation layers, we can enforce the embeddings\n",
    "to capture the collaborative signal in high-order connectivities.\n",
    "\n",
    "More formally, let $\\mathbf{e}_{u}^{0}$ denote the original embedding of user $u$ and $\\mathbf{e}_{i}^{0}$ denote the original embedding of item $i$. The embedding propagation can be computed recursively as:\n",
    "\n",
    "$$\n",
    "\\begin{array}{l}\n",
    "\\mathbf{e}_{u}^{(k+1)}=\\sigma\\bigl( \\mathbf{W}_{1}\\mathbf{e}_{u}^{(k)} + \\sum_{i \\in \\mathcal{N}_{u}} \\frac{1}{\\sqrt{\\left|\\mathcal{N}_{u}\\right|} \\sqrt{\\left|\\mathcal{N}_{i}\\right|}} (\\mathbf{W}_{1}\\mathbf{e}_{i}^{(k)} + \\mathbf{W}_{2}(\\mathbf{e}_{i}^{(k)}\\cdot\\mathbf{e}_{u}^{(k)}) ) \\bigr)\n",
    "\\\\\n",
    "\\mathbf{e}_{i}^{(k+1)}=\\sigma\\bigl( \\mathbf{W}_{1}\\mathbf{e}_{i}^{(k)} +\\sum_{u \\in \\mathcal{N}_{i}} \\frac{1}{\\sqrt{\\left|\\mathcal{N}_{i}\\right|} \\sqrt{\\left|\\mathcal{N}_{u}\\right|}} (\\mathbf{W}_{1}\\mathbf{e}_{u}^{(k)} + \\mathbf{W}_{2}(\\mathbf{e}_{u}^{(k)}\\cdot\\mathbf{e}_{i}^{(k)}) ) \\bigr)\n",
    "\\end{array}\n",
    "$$\n",
    "\n",
    "where $\\mathbf{W}_{1}$ and $\\mathbf{W}_{2}$ are trainable weight matrices, $\\frac{1}{\\sqrt{\\left|\\mathcal{N}_{i}\\right|} \\sqrt{\\left|\\mathcal{N}_{u}\\right|}}$ is a discount factor expressed as the graph Laplacian norm, $\\mathcal{N}_{u}$ and $\\mathcal{N}_{i}$ denote the first-hop neighbors of user $u$ and item $i$, and $\\sigma$ is a non-linearity that in the paper is set as a LeakyReLU. \n",
    "\n",
    "To obtain the final representation, each propagated embedding is concatenated (i.e., $\\mathbf{e}_{u}^{(*)}=\\mathbf{e}_{u}^{(0)}||...||\\mathbf{e}_{u}^{(l)}$), and then the final user's preference over an item is computed as a dot product: $\\hat y_{u i} = \\mathbf{e}_{u}^{(*)T}\\mathbf{e}_{i}^{(*)}$.\n",
    "\n",
    "### 1.2 LightGCN architecture\n",
    "\n",
    "LightGCN is a simplified version of NGCF [4] to make it more concise and appropriate for recommendations. The model architecture is illustrated below.\n",
    "\n",
    "<img src=\"https://recodatasets.z20.web.core.windows.net/images/lightGCN-model.jpg\" width=600 style=\"display:block; margin-left:auto; margin-right:auto;\">\n",
    "\n",
    "In Light Graph Convolution, only the normalized sum of neighbor embeddings is performed towards next layer; other operations like self-connection, feature transformation via weight matrices, and nonlinear activation are all removed, which largely simplifies NGCF. In the layer combination step, instead of concatenating the embeddings, we sum over the embeddings at each layer to obtain the final representations.\n",
    "\n",
    "### 1.3 Light Graph Convolution (LGC)\n",
    "\n",
    "In LightGCN, we adopt the simple weighted sum aggregator and abandon the use of feature transformation and nonlinear activation. The graph convolution operation in LightGCN is defined as:\n",
    "\n",
    "$$\n",
    "\\begin{array}{l}\n",
    "\\mathbf{e}_{u}^{(k+1)}=\\sum_{i \\in \\mathcal{N}_{u}} \\frac{1}{\\sqrt{\\left|\\mathcal{N}_{u}\\right|} \\sqrt{\\left|\\mathcal{N}_{i}\\right|}} \\mathbf{e}_{i}^{(k)} \\\\\n",
    "\\mathbf{e}_{i}^{(k+1)}=\\sum_{u \\in \\mathcal{N}_{i}} \\frac{1}{\\sqrt{\\left|\\mathcal{N}_{i}\\right|} \\sqrt{\\left|\\mathcal{N}_{u}\\right|}} \\mathbf{e}_{u}^{(k)}\n",
    "\\end{array}\n",
    "$$\n",
    "\n",
    "The symmetric normalization term $\\frac{1}{\\sqrt{\\left|\\mathcal{N}_{u}\\right|} \\sqrt{\\left|\\mathcal{N}_{i}\\right|}}$ follows the design of standard GCN, which can avoid the scale of embeddings increasing with graph convolution operations.\n",
    "\n",
    "\n",
    "### 1.4 Layer Combination and Model Prediction\n",
    "\n",
    "In LightGCN, the only trainable model parameters are the embeddings at the 0-th layer, i.e., $\\mathbf{e}_{u}^{(0)}$ for all users and $\\mathbf{e}_{i}^{(0)}$ for all items. When they are given, the embeddings at higher layers can be computed via LGC. After $K$ layers LGC, we further combine the embeddings obtained at each layer to form the final representation of a user (an item):\n",
    "\n",
    "$$\n",
    "\\mathbf{e}_{u}=\\sum_{k=0}^{K} \\alpha_{k} \\mathbf{e}_{u}^{(k)} ; \\quad \\mathbf{e}_{i}=\\sum_{k=0}^{K} \\alpha_{k} \\mathbf{e}_{i}^{(k)}\n",
    "$$\n",
    "\n",
    "where $\\alpha_{k} \\geq 0$ denotes the importance of the $k$-th layer embedding in constituting the final embedding. In our experiments, we set $\\alpha_{k}$ uniformly as $1 / (K+1)$.\n",
    "\n",
    "The model prediction is defined as the inner product of user and item final representations:\n",
    "\n",
    "$$\n",
    "\\hat{y}_{u i}=\\mathbf{e}_{u}^{T} \\mathbf{e}_{i}\n",
    "$$\n",
    "\n",
    "which is used as the ranking score for recommendation generation.\n",
    "\n",
    "\n",
    "### 1.5 Matrix Form\n",
    "\n",
    "Let the user-item interaction matrix be $\\mathbf{R} \\in \\mathbb{R}^{M \\times N}$ where $M$ and $N$ denote the number of users and items, respectively, and each entry $R_{ui}$ is 1 if $u$ has interacted with item $i$ otherwise 0. We then obtain the adjacency matrix of the user-item graph as\n",
    "\n",
    "$$\n",
    "\\mathbf{A}=\\left(\\begin{array}{cc}\n",
    "\\mathbf{0} & \\mathbf{R} \\\\\n",
    "\\mathbf{R}^{T} & \\mathbf{0}\n",
    "\\end{array}\\right)\n",
    "$$\n",
    "\n",
    "Let the 0-th layer embedding matrix be $\\mathbf{E}^{(0)} \\in \\mathbb{R}^{(M+N) \\times T}$, where $T$ is the embedding size. Then we can obtain the matrix equivalent form of LGC as:\n",
    "\n",
    "$$\n",
    "\\mathbf{E}^{(k+1)}=\\left(\\mathbf{D}^{-\\frac{1}{2}} \\mathbf{A} \\mathbf{D}^{-\\frac{1}{2}}\\right) \\mathbf{E}^{(k)}\n",
    "$$\n",
    "\n",
    "where $\\mathbf{D}$ is a $(M+N) \\times(M+N)$ diagonal matrix, in which each entry $D_{ii}$ denotes the number of nonzero entries in the $i$-th row vector of the adjacency matrix $\\mathbf{A}$ (also named as degree matrix). Lastly, we get the final embedding matrix used for model prediction as:\n",
    "\n",
    "$$\n",
    "\\begin{aligned}\n",
    "\\mathbf{E} &=\\alpha_{0} \\mathbf{E}^{(0)}+\\alpha_{1} \\mathbf{E}^{(1)}+\\alpha_{2} \\mathbf{E}^{(2)}+\\ldots+\\alpha_{K} \\mathbf{E}^{(K)} \\\\\n",
    "&=\\alpha_{0} \\mathbf{E}^{(0)}+\\alpha_{1} \\tilde{\\mathbf{A}} \\mathbf{E}^{(0)}+\\alpha_{2} \\tilde{\\mathbf{A}}^{2} \\mathbf{E}^{(0)}+\\ldots+\\alpha_{K} \\tilde{\\mathbf{A}}^{K} \\mathbf{E}^{(0)}\n",
    "\\end{aligned}\n",
    "$$\n",
    "\n",
    "where $\\tilde{\\mathbf{A}}=\\mathbf{D}^{-\\frac{1}{2}} \\mathbf{A} \\mathbf{D}^{-\\frac{1}{2}}$ is the symmetrically normalized matrix.\n",
    "\n",
    "### 1.6 Model Training\n",
    "\n",
    "We employ the Bayesian Personalized Ranking (BPR) loss which is a pairwise loss that encourages the prediction of an observed entry to be higher than its unobserved counterparts:\n",
    "\n",
    "$$\n",
    "L_{B P R}=-\\sum_{u=1}^{M} \\sum_{i \\in \\mathcal{N}_{u}} \\sum_{j \\notin \\mathcal{N}_{u}} \\ln \\sigma\\left(\\hat{y}_{u i}-\\hat{y}_{u j}\\right)+\\lambda\\left\\|\\mathbf{E}^{(0)}\\right\\|^{2}\n",
    "$$\n",
    "\n",
    "Where $\\lambda$ controls the $L_2$ regularization strength. We employ the Adam optimizer and use it in a mini-batch manner.\n"
   ]
  },
  {
   "cell_type": "markdown",
   "metadata": {
    "id": "WOLbGtTFEPk-"
   },
   "source": [
    "## 2 TensorFlow implementation of LightGCN with MovieLens dataset\n",
    "\n",
    "We will use the MovieLens dataset, which is composed of integer ratings from 1 to 5.\n",
    "\n",
    "We convert MovieLens into implicit feedback for model training and evaluation.\n",
    "\n",
    "### 2.1 Load and split data\n",
    "\n",
    "We split the full dataset into a `train` and `test` dataset to evaluate performance of the algorithm against a held-out set not seen during training. Because SAR generates recommendations based on user preferences, all users that are in the test set must also exist in the training set. For this case, we can use the provided `python_stratified_split` function which holds out a percentage (in this case 25%) of items from each user, but ensures all users are in both `train` and `test` datasets. Other options are available in the `dataset.python_splitters` module which provide more control over how the split occurs."
   ]
  },
  {
   "cell_type": "code",
   "execution_count": null,
   "metadata": {
    "colab": {
     "base_uri": "https://localhost:8080/"
    },
    "id": "tFlCv-t5QYVU",
    "outputId": "3ad8631b-471a-4b23-dfc7-3df1f22de4e6"
   },
   "outputs": [
    {
     "name": "stdout",
     "output_type": "stream",
     "text": [
      "/content/RecSys-Project\n"
     ]
    }
   ],
   "source": [
    "%cd RecSys-Project/"
   ]
  },
  {
   "cell_type": "code",
   "execution_count": 10,
   "metadata": {
    "colab": {
     "base_uri": "https://localhost:8080/",
     "height": 206
    },
    "id": "XahqQaKFGpS5",
    "outputId": "61a2520c-4db3-464c-f81c-3a9b0b791596"
   },
   "outputs": [
    {
     "data": {
      "text/html": [
       "\n",
       "  <div id=\"df-3929b3d9-f0bd-4093-9c16-a8928d2f9903\">\n",
       "    <div class=\"colab-df-container\">\n",
       "      <div>\n",
       "<style scoped>\n",
       "    .dataframe tbody tr th:only-of-type {\n",
       "        vertical-align: middle;\n",
       "    }\n",
       "\n",
       "    .dataframe tbody tr th {\n",
       "        vertical-align: top;\n",
       "    }\n",
       "\n",
       "    .dataframe thead th {\n",
       "        text-align: right;\n",
       "    }\n",
       "</style>\n",
       "<table border=\"1\" class=\"dataframe\">\n",
       "  <thead>\n",
       "    <tr style=\"text-align: right;\">\n",
       "      <th></th>\n",
       "      <th>user_id</th>\n",
       "      <th>rest_id</th>\n",
       "      <th>timestamp</th>\n",
       "      <th>user_device</th>\n",
       "      <th>rating_score</th>\n",
       "      <th>cmt</th>\n",
       "    </tr>\n",
       "  </thead>\n",
       "  <tbody>\n",
       "    <tr>\n",
       "      <th>68531</th>\n",
       "      <td>18939</td>\n",
       "      <td>4803</td>\n",
       "      <td>1647783420</td>\n",
       "      <td>MobileWeb</td>\n",
       "      <td>2.6</td>\n",
       "      <td>Lừa đảo. Để bảng giá trên bàn, trước cửa nhưng...</td>\n",
       "    </tr>\n",
       "    <tr>\n",
       "      <th>68532</th>\n",
       "      <td>4426</td>\n",
       "      <td>4895</td>\n",
       "      <td>1653679860</td>\n",
       "      <td>iPhone</td>\n",
       "      <td>2.8</td>\n",
       "      <td>Lần đầu ăn ở chi nhánh này trải nghiệm rất tệ,...</td>\n",
       "    </tr>\n",
       "    <tr>\n",
       "      <th>68533</th>\n",
       "      <td>19840</td>\n",
       "      <td>169</td>\n",
       "      <td>1668005160</td>\n",
       "      <td>iPhone</td>\n",
       "      <td>2.0</td>\n",
       "      <td>Thái độ nhân viên tốt. NHƯNG:\\n\\n1) Rất nhiều ...</td>\n",
       "    </tr>\n",
       "    <tr>\n",
       "      <th>68534</th>\n",
       "      <td>12883</td>\n",
       "      <td>4128</td>\n",
       "      <td>1641547860</td>\n",
       "      <td>iPhone</td>\n",
       "      <td>8.8</td>\n",
       "      <td>Các món chay được tuỳ biến theo phong cách tây...</td>\n",
       "    </tr>\n",
       "    <tr>\n",
       "      <th>68535</th>\n",
       "      <td>13675</td>\n",
       "      <td>4128</td>\n",
       "      <td>1640270280</td>\n",
       "      <td>iPhone</td>\n",
       "      <td>8.2</td>\n",
       "      <td>Đây là một địa điểm tuyệt vời cho những ai muố...</td>\n",
       "    </tr>\n",
       "  </tbody>\n",
       "</table>\n",
       "</div>\n",
       "      <button class=\"colab-df-convert\" onclick=\"convertToInteractive('df-3929b3d9-f0bd-4093-9c16-a8928d2f9903')\"\n",
       "              title=\"Convert this dataframe to an interactive table.\"\n",
       "              style=\"display:none;\">\n",
       "        \n",
       "  <svg xmlns=\"http://www.w3.org/2000/svg\" height=\"24px\"viewBox=\"0 0 24 24\"\n",
       "       width=\"24px\">\n",
       "    <path d=\"M0 0h24v24H0V0z\" fill=\"none\"/>\n",
       "    <path d=\"M18.56 5.44l.94 2.06.94-2.06 2.06-.94-2.06-.94-.94-2.06-.94 2.06-2.06.94zm-11 1L8.5 8.5l.94-2.06 2.06-.94-2.06-.94L8.5 2.5l-.94 2.06-2.06.94zm10 10l.94 2.06.94-2.06 2.06-.94-2.06-.94-.94-2.06-.94 2.06-2.06.94z\"/><path d=\"M17.41 7.96l-1.37-1.37c-.4-.4-.92-.59-1.43-.59-.52 0-1.04.2-1.43.59L10.3 9.45l-7.72 7.72c-.78.78-.78 2.05 0 2.83L4 21.41c.39.39.9.59 1.41.59.51 0 1.02-.2 1.41-.59l7.78-7.78 2.81-2.81c.8-.78.8-2.07 0-2.86zM5.41 20L4 18.59l7.72-7.72 1.47 1.35L5.41 20z\"/>\n",
       "  </svg>\n",
       "      </button>\n",
       "      \n",
       "  <style>\n",
       "    .colab-df-container {\n",
       "      display:flex;\n",
       "      flex-wrap:wrap;\n",
       "      gap: 12px;\n",
       "    }\n",
       "\n",
       "    .colab-df-convert {\n",
       "      background-color: #E8F0FE;\n",
       "      border: none;\n",
       "      border-radius: 50%;\n",
       "      cursor: pointer;\n",
       "      display: none;\n",
       "      fill: #1967D2;\n",
       "      height: 32px;\n",
       "      padding: 0 0 0 0;\n",
       "      width: 32px;\n",
       "    }\n",
       "\n",
       "    .colab-df-convert:hover {\n",
       "      background-color: #E2EBFA;\n",
       "      box-shadow: 0px 1px 2px rgba(60, 64, 67, 0.3), 0px 1px 3px 1px rgba(60, 64, 67, 0.15);\n",
       "      fill: #174EA6;\n",
       "    }\n",
       "\n",
       "    [theme=dark] .colab-df-convert {\n",
       "      background-color: #3B4455;\n",
       "      fill: #D2E3FC;\n",
       "    }\n",
       "\n",
       "    [theme=dark] .colab-df-convert:hover {\n",
       "      background-color: #434B5C;\n",
       "      box-shadow: 0px 1px 3px 1px rgba(0, 0, 0, 0.15);\n",
       "      filter: drop-shadow(0px 1px 2px rgba(0, 0, 0, 0.3));\n",
       "      fill: #FFFFFF;\n",
       "    }\n",
       "  </style>\n",
       "\n",
       "      <script>\n",
       "        const buttonEl =\n",
       "          document.querySelector('#df-3929b3d9-f0bd-4093-9c16-a8928d2f9903 button.colab-df-convert');\n",
       "        buttonEl.style.display =\n",
       "          google.colab.kernel.accessAllowed ? 'block' : 'none';\n",
       "\n",
       "        async function convertToInteractive(key) {\n",
       "          const element = document.querySelector('#df-3929b3d9-f0bd-4093-9c16-a8928d2f9903');\n",
       "          const dataTable =\n",
       "            await google.colab.kernel.invokeFunction('convertToInteractive',\n",
       "                                                     [key], {});\n",
       "          if (!dataTable) return;\n",
       "\n",
       "          const docLinkHtml = 'Like what you see? Visit the ' +\n",
       "            '<a target=\"_blank\" href=https://colab.research.google.com/notebooks/data_table.ipynb>data table notebook</a>'\n",
       "            + ' to learn more about interactive tables.';\n",
       "          element.innerHTML = '';\n",
       "          dataTable['output_type'] = 'display_data';\n",
       "          await google.colab.output.renderOutput(dataTable, element);\n",
       "          const docLink = document.createElement('div');\n",
       "          docLink.innerHTML = docLinkHtml;\n",
       "          element.appendChild(docLink);\n",
       "        }\n",
       "      </script>\n",
       "    </div>\n",
       "  </div>\n",
       "  "
      ],
      "text/plain": [
       "       user_id  rest_id   timestamp user_device  rating_score  \\\n",
       "68531    18939     4803  1647783420   MobileWeb           2.6   \n",
       "68532     4426     4895  1653679860      iPhone           2.8   \n",
       "68533    19840      169  1668005160      iPhone           2.0   \n",
       "68534    12883     4128  1641547860      iPhone           8.8   \n",
       "68535    13675     4128  1640270280      iPhone           8.2   \n",
       "\n",
       "                                                     cmt  \n",
       "68531  Lừa đảo. Để bảng giá trên bàn, trước cửa nhưng...  \n",
       "68532  Lần đầu ăn ở chi nhánh này trải nghiệm rất tệ,...  \n",
       "68533  Thái độ nhân viên tốt. NHƯNG:\\n\\n1) Rất nhiều ...  \n",
       "68534  Các món chay được tuỳ biến theo phong cách tây...  \n",
       "68535  Đây là một địa điểm tuyệt vời cho những ai muố...  "
      ]
     },
     "execution_count": 10,
     "metadata": {},
     "output_type": "execute_result"
    }
   ],
   "source": [
    "df_ratings = pd.read_parquet(\"data/cleaned/ratings.pq\")\n",
    "df_ratings.tail()"
   ]
  },
  {
   "cell_type": "code",
   "execution_count": 11,
   "metadata": {
    "colab": {
     "base_uri": "https://localhost:8080/",
     "height": 248
    },
    "id": "hZG760yxG3DK",
    "outputId": "1c90e79e-77d0-485c-fedd-d33e7f5d4df9"
   },
   "outputs": [
    {
     "name": "stderr",
     "output_type": "stream",
     "text": [
      "/usr/local/lib/python3.8/dist-packages/pandas/core/generic.py:5516: SettingWithCopyWarning: \n",
      "A value is trying to be set on a copy of a slice from a DataFrame.\n",
      "Try using .loc[row_indexer,col_indexer] = value instead\n",
      "\n",
      "See the caveats in the documentation: https://pandas.pydata.org/pandas-docs/stable/user_guide/indexing.html#returning-a-view-versus-a-copy\n",
      "  self[name] = value\n"
     ]
    },
    {
     "data": {
      "text/html": [
       "\n",
       "  <div id=\"df-2a9b9b77-87ca-4d2b-8f7f-4efdb5a76ca8\">\n",
       "    <div class=\"colab-df-container\">\n",
       "      <div>\n",
       "<style scoped>\n",
       "    .dataframe tbody tr th:only-of-type {\n",
       "        vertical-align: middle;\n",
       "    }\n",
       "\n",
       "    .dataframe tbody tr th {\n",
       "        vertical-align: top;\n",
       "    }\n",
       "\n",
       "    .dataframe thead th {\n",
       "        text-align: right;\n",
       "    }\n",
       "</style>\n",
       "<table border=\"1\" class=\"dataframe\">\n",
       "  <thead>\n",
       "    <tr style=\"text-align: right;\">\n",
       "      <th></th>\n",
       "      <th>userID</th>\n",
       "      <th>itemID</th>\n",
       "      <th>rating</th>\n",
       "    </tr>\n",
       "  </thead>\n",
       "  <tbody>\n",
       "    <tr>\n",
       "      <th>68533</th>\n",
       "      <td>19840</td>\n",
       "      <td>169</td>\n",
       "      <td>2.0</td>\n",
       "    </tr>\n",
       "    <tr>\n",
       "      <th>68534</th>\n",
       "      <td>12883</td>\n",
       "      <td>4128</td>\n",
       "      <td>8.8</td>\n",
       "    </tr>\n",
       "    <tr>\n",
       "      <th>68535</th>\n",
       "      <td>13675</td>\n",
       "      <td>4128</td>\n",
       "      <td>8.2</td>\n",
       "    </tr>\n",
       "  </tbody>\n",
       "</table>\n",
       "</div>\n",
       "      <button class=\"colab-df-convert\" onclick=\"convertToInteractive('df-2a9b9b77-87ca-4d2b-8f7f-4efdb5a76ca8')\"\n",
       "              title=\"Convert this dataframe to an interactive table.\"\n",
       "              style=\"display:none;\">\n",
       "        \n",
       "  <svg xmlns=\"http://www.w3.org/2000/svg\" height=\"24px\"viewBox=\"0 0 24 24\"\n",
       "       width=\"24px\">\n",
       "    <path d=\"M0 0h24v24H0V0z\" fill=\"none\"/>\n",
       "    <path d=\"M18.56 5.44l.94 2.06.94-2.06 2.06-.94-2.06-.94-.94-2.06-.94 2.06-2.06.94zm-11 1L8.5 8.5l.94-2.06 2.06-.94-2.06-.94L8.5 2.5l-.94 2.06-2.06.94zm10 10l.94 2.06.94-2.06 2.06-.94-2.06-.94-.94-2.06-.94 2.06-2.06.94z\"/><path d=\"M17.41 7.96l-1.37-1.37c-.4-.4-.92-.59-1.43-.59-.52 0-1.04.2-1.43.59L10.3 9.45l-7.72 7.72c-.78.78-.78 2.05 0 2.83L4 21.41c.39.39.9.59 1.41.59.51 0 1.02-.2 1.41-.59l7.78-7.78 2.81-2.81c.8-.78.8-2.07 0-2.86zM5.41 20L4 18.59l7.72-7.72 1.47 1.35L5.41 20z\"/>\n",
       "  </svg>\n",
       "      </button>\n",
       "      \n",
       "  <style>\n",
       "    .colab-df-container {\n",
       "      display:flex;\n",
       "      flex-wrap:wrap;\n",
       "      gap: 12px;\n",
       "    }\n",
       "\n",
       "    .colab-df-convert {\n",
       "      background-color: #E8F0FE;\n",
       "      border: none;\n",
       "      border-radius: 50%;\n",
       "      cursor: pointer;\n",
       "      display: none;\n",
       "      fill: #1967D2;\n",
       "      height: 32px;\n",
       "      padding: 0 0 0 0;\n",
       "      width: 32px;\n",
       "    }\n",
       "\n",
       "    .colab-df-convert:hover {\n",
       "      background-color: #E2EBFA;\n",
       "      box-shadow: 0px 1px 2px rgba(60, 64, 67, 0.3), 0px 1px 3px 1px rgba(60, 64, 67, 0.15);\n",
       "      fill: #174EA6;\n",
       "    }\n",
       "\n",
       "    [theme=dark] .colab-df-convert {\n",
       "      background-color: #3B4455;\n",
       "      fill: #D2E3FC;\n",
       "    }\n",
       "\n",
       "    [theme=dark] .colab-df-convert:hover {\n",
       "      background-color: #434B5C;\n",
       "      box-shadow: 0px 1px 3px 1px rgba(0, 0, 0, 0.15);\n",
       "      filter: drop-shadow(0px 1px 2px rgba(0, 0, 0, 0.3));\n",
       "      fill: #FFFFFF;\n",
       "    }\n",
       "  </style>\n",
       "\n",
       "      <script>\n",
       "        const buttonEl =\n",
       "          document.querySelector('#df-2a9b9b77-87ca-4d2b-8f7f-4efdb5a76ca8 button.colab-df-convert');\n",
       "        buttonEl.style.display =\n",
       "          google.colab.kernel.accessAllowed ? 'block' : 'none';\n",
       "\n",
       "        async function convertToInteractive(key) {\n",
       "          const element = document.querySelector('#df-2a9b9b77-87ca-4d2b-8f7f-4efdb5a76ca8');\n",
       "          const dataTable =\n",
       "            await google.colab.kernel.invokeFunction('convertToInteractive',\n",
       "                                                     [key], {});\n",
       "          if (!dataTable) return;\n",
       "\n",
       "          const docLinkHtml = 'Like what you see? Visit the ' +\n",
       "            '<a target=\"_blank\" href=https://colab.research.google.com/notebooks/data_table.ipynb>data table notebook</a>'\n",
       "            + ' to learn more about interactive tables.';\n",
       "          element.innerHTML = '';\n",
       "          dataTable['output_type'] = 'display_data';\n",
       "          await google.colab.output.renderOutput(dataTable, element);\n",
       "          const docLink = document.createElement('div');\n",
       "          docLink.innerHTML = docLinkHtml;\n",
       "          element.appendChild(docLink);\n",
       "        }\n",
       "      </script>\n",
       "    </div>\n",
       "  </div>\n",
       "  "
      ],
      "text/plain": [
       "       userID  itemID  rating\n",
       "68533   19840     169     2.0\n",
       "68534   12883    4128     8.8\n",
       "68535   13675    4128     8.2"
      ]
     },
     "execution_count": 11,
     "metadata": {},
     "output_type": "execute_result"
    }
   ],
   "source": [
    "df = df_ratings[[\"user_id\", \"rest_id\", \"rating_score\"]]\n",
    "df.columns = [\"userID\", \"itemID\", \"rating\"]\n",
    "df.rating = df.rating\n",
    "df.tail(3)"
   ]
  },
  {
   "cell_type": "code",
   "execution_count": 12,
   "metadata": {
    "id": "rDDXn3AEEPk_"
   },
   "outputs": [],
   "source": [
    "train, test = python_stratified_split(df, ratio=0.75)"
   ]
  },
  {
   "cell_type": "markdown",
   "metadata": {
    "id": "X3vaN9ftEPk_"
   },
   "source": [
    "### 2.2 Process data\n",
    "\n",
    "`ImplicitCF` is a class that intializes and loads data for the training process. During the initialization of this class, user IDs and item IDs are reindexed, ratings greater than zero are converted into implicit positive interaction, and adjacency matrix $R$ of user-item graph is created. Some important methods of `ImplicitCF` are:\n",
    "\n",
    "`get_norm_adj_mat`, load normalized adjacency matrix of user-item graph if it already exists in `adj_dir`, otherwise call `create_norm_adj_mat` to create the matrix and save the matrix if `adj_dir` is not `None`. This method will be called during the initialization process of LightGCN model.\n",
    "\n",
    "`create_norm_adj_mat`, create normalized adjacency matrix of user-item graph by calculating $D^{-\\frac{1}{2}} A D^{-\\frac{1}{2}}$, where $\\mathbf{A}=\\left(\\begin{array}{cc}\\mathbf{0} & \\mathbf{R} \\\\ \\mathbf{R}^{T} & \\mathbf{0}\\end{array}\\right)$.\n",
    "\n",
    "`train_loader`, generate a batch of training data — sample a batch of users and then sample one positive item and one negative item for each user. This method will be called before each epoch of the training process.\n"
   ]
  },
  {
   "cell_type": "code",
   "execution_count": 13,
   "metadata": {
    "id": "wO8GDxIJEPlA"
   },
   "outputs": [],
   "source": [
    "data = ImplicitCF(train=train, test=test, seed=42)"
   ]
  },
  {
   "cell_type": "markdown",
   "metadata": {
    "id": "UP9vM4rpEPlA"
   },
   "source": [
    "### 2.3 Prepare hyper-parameters\n",
    "\n",
    "Important parameters of `LightGCN` model are:\n",
    "\n",
    "`data`, initialized LightGCNDataset object.\n",
    "\n",
    "`epochs`, number of epochs for training.\n",
    "\n",
    "`n_layers`, number of layers of the model.\n",
    "\n",
    "`eval_epoch`, if it is not None, evaluation metrics will be calculated on test set every \"eval_epoch\" epochs. In this way, we can observe the effect of the model during the training process.\n",
    "\n",
    "`top_k`, the number of items to be recommended for each user when calculating ranking metrics.\n",
    "\n",
    "A complete list of parameters can be found in `yaml_file`. We use `prepare_hparams` to read the yaml file and prepare a full set of parameters for the model. Parameters passed as the function's parameters will overwrite yaml settings."
   ]
  },
  {
   "cell_type": "code",
   "execution_count": 14,
   "metadata": {
    "id": "GKl_YF-mJp6J"
   },
   "outputs": [],
   "source": [
    "# top k items to recommend\n",
    "TOP_K = 20\n",
    "\n",
    "# Model parameters\n",
    "EPOCHS = 100\n",
    "BATCH_SIZE = 1024\n",
    "\n",
    "SEED = DEFAULT_SEED  # Set None for non-deterministic results\n",
    "\n",
    "yaml_file = \"config/lightgcn.yaml\"\n",
    "user_file = \"data/lightgcn/user_embeddings.csv\"\n",
    "item_file = \"data/lightgcn/item_embeddings.csv\""
   ]
  },
  {
   "cell_type": "code",
   "execution_count": 15,
   "metadata": {
    "id": "-VqX3XQwEPlA"
   },
   "outputs": [],
   "source": [
    "hparams = prepare_hparams(yaml_file,\n",
    "                          n_layers=5,\n",
    "                          batch_size=BATCH_SIZE,\n",
    "                          epochs=EPOCHS,\n",
    "                          learning_rate=0.005,\n",
    "                          eval_epoch=5,\n",
    "                          top_k=TOP_K,\n",
    "                         )"
   ]
  },
  {
   "cell_type": "markdown",
   "metadata": {
    "id": "NA_hIsIFEPlB"
   },
   "source": [
    "### 2.4 Create and train model\n",
    "\n",
    "With data and parameters prepared, we can create the LightGCN model.\n",
    "\n",
    "To train the model, we simply need to call the `fit()` method."
   ]
  },
  {
   "cell_type": "code",
   "execution_count": 16,
   "metadata": {
    "colab": {
     "base_uri": "https://localhost:8080/"
    },
    "id": "GoQHQhjNEPlB",
    "outputId": "f552389b-1a79-4c38-99cb-c65ce50c17e6"
   },
   "outputs": [
    {
     "name": "stdout",
     "output_type": "stream",
     "text": [
      "Already create adjacency matrix.\n",
      "Already normalize adjacency matrix.\n",
      "Using xavier initialization.\n"
     ]
    }
   ],
   "source": [
    "model = LightGCN(hparams, data, seed=SEED)"
   ]
  },
  {
   "cell_type": "code",
   "execution_count": 20,
   "metadata": {
    "colab": {
     "base_uri": "https://localhost:8080/"
    },
    "id": "hnATzmlyEPlB",
    "outputId": "4bc0aa0c-d01f-47d9-a733-4757f6ca690e"
   },
   "outputs": [
    {
     "name": "stdout",
     "output_type": "stream",
     "text": [
      "Epoch 1 (train)1.0s: train loss = 0.00303 = (mf)0.00067 + (embed)0.00237\n",
      "Epoch 2 (train)0.9s: train loss = 0.00318 = (mf)0.00082 + (embed)0.00236\n",
      "Epoch 3 (train)0.9s: train loss = 0.00310 = (mf)0.00075 + (embed)0.00235\n",
      "Epoch 4 (train)1.0s: train loss = 0.00303 = (mf)0.00069 + (embed)0.00234\n",
      "Epoch 5 (train)1.2s + (eval)1.0s: train loss = 0.00316 = (mf)0.00082 + (embed)0.00233, recall = 0.10461, ndcg = 0.06023, precision = 0.00879, map = 0.04221\n",
      "Epoch 6 (train)1.0s: train loss = 0.00300 = (mf)0.00066 + (embed)0.00233\n",
      "Epoch 7 (train)0.9s: train loss = 0.00304 = (mf)0.00072 + (embed)0.00233\n",
      "Epoch 8 (train)0.9s: train loss = 0.00289 = (mf)0.00057 + (embed)0.00231\n",
      "Epoch 9 (train)0.9s: train loss = 0.00290 = (mf)0.00059 + (embed)0.00231\n",
      "Epoch 10 (train)0.9s + (eval)0.8s: train loss = 0.00292 = (mf)0.00062 + (embed)0.00230, recall = 0.10586, ndcg = 0.06126, precision = 0.00890, map = 0.04306\n",
      "Epoch 11 (train)0.9s: train loss = 0.00280 = (mf)0.00051 + (embed)0.00229\n",
      "Epoch 12 (train)0.9s: train loss = 0.00280 = (mf)0.00052 + (embed)0.00229\n",
      "Epoch 13 (train)0.9s: train loss = 0.00279 = (mf)0.00051 + (embed)0.00228\n",
      "Epoch 14 (train)0.9s: train loss = 0.00310 = (mf)0.00083 + (embed)0.00227\n",
      "Epoch 15 (train)0.9s + (eval)0.8s: train loss = 0.00285 = (mf)0.00058 + (embed)0.00227, recall = 0.10566, ndcg = 0.06092, precision = 0.00890, map = 0.04271\n",
      "Epoch 16 (train)0.9s: train loss = 0.00307 = (mf)0.00081 + (embed)0.00226\n",
      "Epoch 17 (train)0.9s: train loss = 0.00290 = (mf)0.00064 + (embed)0.00226\n",
      "Epoch 18 (train)0.9s: train loss = 0.00274 = (mf)0.00049 + (embed)0.00225\n",
      "Epoch 19 (train)0.9s: train loss = 0.00292 = (mf)0.00067 + (embed)0.00225\n",
      "Epoch 20 (train)0.9s + (eval)0.8s: train loss = 0.00286 = (mf)0.00062 + (embed)0.00224, recall = 0.10409, ndcg = 0.06008, precision = 0.00871, map = 0.04232\n",
      "Epoch 21 (train)0.9s: train loss = 0.00281 = (mf)0.00058 + (embed)0.00223\n",
      "Epoch 22 (train)0.9s: train loss = 0.00281 = (mf)0.00058 + (embed)0.00223\n",
      "Epoch 23 (train)0.9s: train loss = 0.00276 = (mf)0.00054 + (embed)0.00222\n",
      "Epoch 24 (train)0.9s: train loss = 0.00287 = (mf)0.00065 + (embed)0.00222\n",
      "Epoch 25 (train)0.9s + (eval)0.8s: train loss = 0.00277 = (mf)0.00054 + (embed)0.00223, recall = 0.10539, ndcg = 0.06159, precision = 0.00879, map = 0.04384\n",
      "Epoch 26 (train)0.9s: train loss = 0.00281 = (mf)0.00059 + (embed)0.00222\n",
      "Epoch 27 (train)0.9s: train loss = 0.00274 = (mf)0.00052 + (embed)0.00221\n",
      "Epoch 28 (train)0.9s: train loss = 0.00294 = (mf)0.00074 + (embed)0.00220\n",
      "Epoch 29 (train)0.9s: train loss = 0.00301 = (mf)0.00080 + (embed)0.00221\n",
      "Epoch 30 (train)0.9s + (eval)0.9s: train loss = 0.00268 = (mf)0.00047 + (embed)0.00221, recall = 0.10473, ndcg = 0.06102, precision = 0.00884, map = 0.04318\n",
      "Epoch 31 (train)0.9s: train loss = 0.00277 = (mf)0.00057 + (embed)0.00221\n",
      "Epoch 32 (train)0.9s: train loss = 0.00272 = (mf)0.00052 + (embed)0.00220\n",
      "Epoch 33 (train)0.9s: train loss = 0.00272 = (mf)0.00052 + (embed)0.00219\n",
      "Epoch 34 (train)0.9s: train loss = 0.00284 = (mf)0.00065 + (embed)0.00218\n",
      "Epoch 35 (train)0.9s + (eval)0.8s: train loss = 0.00266 = (mf)0.00047 + (embed)0.00219, recall = 0.10570, ndcg = 0.06105, precision = 0.00887, map = 0.04297\n",
      "Epoch 36 (train)0.9s: train loss = 0.00277 = (mf)0.00058 + (embed)0.00219\n",
      "Epoch 37 (train)0.9s: train loss = 0.00274 = (mf)0.00055 + (embed)0.00219\n",
      "Epoch 38 (train)0.9s: train loss = 0.00266 = (mf)0.00049 + (embed)0.00217\n",
      "Epoch 39 (train)0.9s: train loss = 0.00261 = (mf)0.00044 + (embed)0.00217\n",
      "Epoch 40 (train)0.9s + (eval)0.8s: train loss = 0.00277 = (mf)0.00060 + (embed)0.00217, recall = 0.10725, ndcg = 0.06256, precision = 0.00906, map = 0.04444\n",
      "Epoch 41 (train)0.9s: train loss = 0.00268 = (mf)0.00052 + (embed)0.00216\n",
      "Epoch 42 (train)0.9s: train loss = 0.00291 = (mf)0.00074 + (embed)0.00216\n",
      "Epoch 43 (train)0.9s: train loss = 0.00265 = (mf)0.00049 + (embed)0.00217\n",
      "Epoch 44 (train)0.9s: train loss = 0.00268 = (mf)0.00051 + (embed)0.00217\n",
      "Epoch 45 (train)0.9s + (eval)0.8s: train loss = 0.00262 = (mf)0.00046 + (embed)0.00216, recall = 0.10584, ndcg = 0.06220, precision = 0.00895, map = 0.04427\n",
      "Epoch 46 (train)0.9s: train loss = 0.00274 = (mf)0.00059 + (embed)0.00215\n",
      "Epoch 47 (train)0.9s: train loss = 0.00262 = (mf)0.00046 + (embed)0.00215\n",
      "Epoch 48 (train)0.9s: train loss = 0.00265 = (mf)0.00051 + (embed)0.00214\n",
      "Epoch 49 (train)0.9s: train loss = 0.00258 = (mf)0.00044 + (embed)0.00214\n",
      "Epoch 50 (train)0.9s + (eval)0.8s: train loss = 0.00272 = (mf)0.00058 + (embed)0.00214, recall = 0.10455, ndcg = 0.06191, precision = 0.00867, map = 0.04429\n",
      "Epoch 51 (train)0.9s: train loss = 0.00261 = (mf)0.00047 + (embed)0.00214\n",
      "Epoch 52 (train)0.9s: train loss = 0.00269 = (mf)0.00056 + (embed)0.00213\n",
      "Epoch 53 (train)0.9s: train loss = 0.00257 = (mf)0.00044 + (embed)0.00213\n",
      "Epoch 54 (train)0.9s: train loss = 0.00272 = (mf)0.00059 + (embed)0.00213\n",
      "Epoch 55 (train)0.9s + (eval)0.8s: train loss = 0.00256 = (mf)0.00043 + (embed)0.00212, recall = 0.10485, ndcg = 0.06273, precision = 0.00870, map = 0.04518\n",
      "Epoch 56 (train)0.9s: train loss = 0.00266 = (mf)0.00054 + (embed)0.00212\n",
      "Epoch 57 (train)0.9s: train loss = 0.00256 = (mf)0.00044 + (embed)0.00212\n",
      "Epoch 58 (train)0.9s: train loss = 0.00257 = (mf)0.00045 + (embed)0.00211\n",
      "Epoch 59 (train)0.9s: train loss = 0.00260 = (mf)0.00049 + (embed)0.00212\n",
      "Epoch 60 (train)0.9s + (eval)0.8s: train loss = 0.00269 = (mf)0.00058 + (embed)0.00212, recall = 0.10535, ndcg = 0.06191, precision = 0.00879, map = 0.04399\n",
      "Epoch 61 (train)0.9s: train loss = 0.00257 = (mf)0.00045 + (embed)0.00213\n",
      "Epoch 62 (train)0.9s: train loss = 0.00262 = (mf)0.00051 + (embed)0.00211\n",
      "Epoch 63 (train)0.9s: train loss = 0.00262 = (mf)0.00051 + (embed)0.00211\n",
      "Epoch 64 (train)0.9s: train loss = 0.00253 = (mf)0.00041 + (embed)0.00211\n",
      "Epoch 65 (train)0.9s + (eval)0.8s: train loss = 0.00255 = (mf)0.00044 + (embed)0.00211, recall = 0.10602, ndcg = 0.06158, precision = 0.00900, map = 0.04330\n",
      "Epoch 66 (train)0.9s: train loss = 0.00260 = (mf)0.00050 + (embed)0.00210\n",
      "Epoch 67 (train)0.9s: train loss = 0.00247 = (mf)0.00037 + (embed)0.00210\n",
      "Epoch 68 (train)0.9s: train loss = 0.00253 = (mf)0.00043 + (embed)0.00210\n",
      "Epoch 69 (train)0.9s: train loss = 0.00254 = (mf)0.00044 + (embed)0.00209\n",
      "Epoch 70 (train)0.9s + (eval)0.8s: train loss = 0.00257 = (mf)0.00047 + (embed)0.00209, recall = 0.10613, ndcg = 0.06221, precision = 0.00891, map = 0.04407\n",
      "Epoch 71 (train)0.9s: train loss = 0.00259 = (mf)0.00050 + (embed)0.00209\n",
      "Epoch 72 (train)0.9s: train loss = 0.00259 = (mf)0.00050 + (embed)0.00209\n",
      "Epoch 73 (train)0.9s: train loss = 0.00266 = (mf)0.00057 + (embed)0.00209\n",
      "Epoch 74 (train)0.9s: train loss = 0.00273 = (mf)0.00063 + (embed)0.00210\n",
      "Epoch 75 (train)0.9s + (eval)0.8s: train loss = 0.00253 = (mf)0.00044 + (embed)0.00210, recall = 0.10332, ndcg = 0.06165, precision = 0.00880, map = 0.04423\n",
      "Epoch 76 (train)0.9s: train loss = 0.00251 = (mf)0.00041 + (embed)0.00210\n",
      "Epoch 77 (train)0.9s: train loss = 0.00244 = (mf)0.00036 + (embed)0.00208\n",
      "Epoch 78 (train)0.9s: train loss = 0.00247 = (mf)0.00038 + (embed)0.00208\n",
      "Epoch 79 (train)0.9s: train loss = 0.00259 = (mf)0.00051 + (embed)0.00208\n",
      "Epoch 80 (train)0.9s + (eval)0.8s: train loss = 0.00256 = (mf)0.00048 + (embed)0.00209, recall = 0.10537, ndcg = 0.06274, precision = 0.00891, map = 0.04493\n",
      "Epoch 81 (train)0.9s: train loss = 0.00253 = (mf)0.00044 + (embed)0.00209\n",
      "Epoch 82 (train)0.9s: train loss = 0.00247 = (mf)0.00039 + (embed)0.00208\n",
      "Epoch 83 (train)0.9s: train loss = 0.00245 = (mf)0.00038 + (embed)0.00207\n",
      "Epoch 84 (train)0.9s: train loss = 0.00255 = (mf)0.00048 + (embed)0.00207\n",
      "Epoch 85 (train)0.9s + (eval)0.8s: train loss = 0.00265 = (mf)0.00057 + (embed)0.00207, recall = 0.10496, ndcg = 0.06060, precision = 0.00891, map = 0.04232\n",
      "Epoch 86 (train)0.9s: train loss = 0.00255 = (mf)0.00047 + (embed)0.00208\n",
      "Epoch 87 (train)1.0s: train loss = 0.00252 = (mf)0.00045 + (embed)0.00207\n",
      "Epoch 88 (train)0.9s: train loss = 0.00256 = (mf)0.00048 + (embed)0.00208\n",
      "Epoch 89 (train)0.9s: train loss = 0.00250 = (mf)0.00042 + (embed)0.00208\n",
      "Epoch 90 (train)0.9s + (eval)0.8s: train loss = 0.00252 = (mf)0.00044 + (embed)0.00209, recall = 0.10554, ndcg = 0.06093, precision = 0.00885, map = 0.04269\n",
      "Epoch 91 (train)0.9s: train loss = 0.00255 = (mf)0.00047 + (embed)0.00208\n",
      "Epoch 92 (train)0.9s: train loss = 0.00248 = (mf)0.00040 + (embed)0.00208\n",
      "Epoch 93 (train)0.9s: train loss = 0.00245 = (mf)0.00039 + (embed)0.00206\n",
      "Epoch 94 (train)0.9s: train loss = 0.00248 = (mf)0.00041 + (embed)0.00207\n",
      "Epoch 95 (train)0.9s + (eval)0.8s: train loss = 0.00251 = (mf)0.00044 + (embed)0.00207, recall = 0.10421, ndcg = 0.05991, precision = 0.00885, map = 0.04179\n",
      "Epoch 96 (train)0.9s: train loss = 0.00256 = (mf)0.00050 + (embed)0.00206\n",
      "Epoch 97 (train)0.9s: train loss = 0.00259 = (mf)0.00052 + (embed)0.00207\n",
      "Epoch 98 (train)0.9s: train loss = 0.00253 = (mf)0.00046 + (embed)0.00207\n",
      "Epoch 99 (train)0.9s: train loss = 0.00244 = (mf)0.00038 + (embed)0.00206\n",
      "Epoch 100 (train)0.9s + (eval)0.8s: train loss = 0.00248 = (mf)0.00042 + (embed)0.00206, recall = 0.10582, ndcg = 0.06127, precision = 0.00890, map = 0.04320\n",
      "Took 109.68691807599998 seconds for training.\n"
     ]
    }
   ],
   "source": [
    "with Timer() as train_time:\n",
    "    model.fit()\n",
    "\n",
    "print(\"Took {} seconds for training.\".format(train_time.interval))"
   ]
  },
  {
   "cell_type": "markdown",
   "metadata": {
    "id": "s6hyGboMEPlC"
   },
   "source": [
    "### 2.5 Recommendation and Evaluation"
   ]
  },
  {
   "cell_type": "markdown",
   "metadata": {
    "id": "cJGv9kJkEPlC"
   },
   "source": [
    "Recommendation and evaluation have been performed on the specified test set during training. After training, we can also use the model to perform recommendation and evalution on other data. Here we still use `test` as test data, but `test` can be replaced by other data with similar data structure."
   ]
  },
  {
   "cell_type": "markdown",
   "metadata": {
    "id": "oRUZm2fKEPlC"
   },
   "source": [
    "#### 2.5.1 Recommendation\n",
    "\n",
    "We can call `recommend_k_items` to recommend k items for each user passed in this function. We set `remove_seen=True` to remove the items already seen by the user. The function returns a dataframe, containing each user and top k items recommended to them and the corresponding ranking scores."
   ]
  },
  {
   "cell_type": "code",
   "execution_count": 21,
   "metadata": {
    "colab": {
     "base_uri": "https://localhost:8080/",
     "height": 206
    },
    "id": "p5befgLQEPlC",
    "outputId": "7c2a9243-d642-4487-a7bf-8c63fb7aabc8"
   },
   "outputs": [
    {
     "data": {
      "text/html": [
       "\n",
       "  <div id=\"df-c5dff019-a1e7-43a4-ba08-26eb949623d1\">\n",
       "    <div class=\"colab-df-container\">\n",
       "      <div>\n",
       "<style scoped>\n",
       "    .dataframe tbody tr th:only-of-type {\n",
       "        vertical-align: middle;\n",
       "    }\n",
       "\n",
       "    .dataframe tbody tr th {\n",
       "        vertical-align: top;\n",
       "    }\n",
       "\n",
       "    .dataframe thead th {\n",
       "        text-align: right;\n",
       "    }\n",
       "</style>\n",
       "<table border=\"1\" class=\"dataframe\">\n",
       "  <thead>\n",
       "    <tr style=\"text-align: right;\">\n",
       "      <th></th>\n",
       "      <th>userID</th>\n",
       "      <th>itemID</th>\n",
       "      <th>prediction</th>\n",
       "    </tr>\n",
       "  </thead>\n",
       "  <tbody>\n",
       "    <tr>\n",
       "      <th>0</th>\n",
       "      <td>10</td>\n",
       "      <td>706</td>\n",
       "      <td>3.649627</td>\n",
       "    </tr>\n",
       "    <tr>\n",
       "      <th>1</th>\n",
       "      <td>10</td>\n",
       "      <td>3119</td>\n",
       "      <td>3.506777</td>\n",
       "    </tr>\n",
       "    <tr>\n",
       "      <th>2</th>\n",
       "      <td>10</td>\n",
       "      <td>3448</td>\n",
       "      <td>3.297736</td>\n",
       "    </tr>\n",
       "    <tr>\n",
       "      <th>3</th>\n",
       "      <td>10</td>\n",
       "      <td>3154</td>\n",
       "      <td>3.202139</td>\n",
       "    </tr>\n",
       "    <tr>\n",
       "      <th>4</th>\n",
       "      <td>10</td>\n",
       "      <td>4233</td>\n",
       "      <td>3.195796</td>\n",
       "    </tr>\n",
       "  </tbody>\n",
       "</table>\n",
       "</div>\n",
       "      <button class=\"colab-df-convert\" onclick=\"convertToInteractive('df-c5dff019-a1e7-43a4-ba08-26eb949623d1')\"\n",
       "              title=\"Convert this dataframe to an interactive table.\"\n",
       "              style=\"display:none;\">\n",
       "        \n",
       "  <svg xmlns=\"http://www.w3.org/2000/svg\" height=\"24px\"viewBox=\"0 0 24 24\"\n",
       "       width=\"24px\">\n",
       "    <path d=\"M0 0h24v24H0V0z\" fill=\"none\"/>\n",
       "    <path d=\"M18.56 5.44l.94 2.06.94-2.06 2.06-.94-2.06-.94-.94-2.06-.94 2.06-2.06.94zm-11 1L8.5 8.5l.94-2.06 2.06-.94-2.06-.94L8.5 2.5l-.94 2.06-2.06.94zm10 10l.94 2.06.94-2.06 2.06-.94-2.06-.94-.94-2.06-.94 2.06-2.06.94z\"/><path d=\"M17.41 7.96l-1.37-1.37c-.4-.4-.92-.59-1.43-.59-.52 0-1.04.2-1.43.59L10.3 9.45l-7.72 7.72c-.78.78-.78 2.05 0 2.83L4 21.41c.39.39.9.59 1.41.59.51 0 1.02-.2 1.41-.59l7.78-7.78 2.81-2.81c.8-.78.8-2.07 0-2.86zM5.41 20L4 18.59l7.72-7.72 1.47 1.35L5.41 20z\"/>\n",
       "  </svg>\n",
       "      </button>\n",
       "      \n",
       "  <style>\n",
       "    .colab-df-container {\n",
       "      display:flex;\n",
       "      flex-wrap:wrap;\n",
       "      gap: 12px;\n",
       "    }\n",
       "\n",
       "    .colab-df-convert {\n",
       "      background-color: #E8F0FE;\n",
       "      border: none;\n",
       "      border-radius: 50%;\n",
       "      cursor: pointer;\n",
       "      display: none;\n",
       "      fill: #1967D2;\n",
       "      height: 32px;\n",
       "      padding: 0 0 0 0;\n",
       "      width: 32px;\n",
       "    }\n",
       "\n",
       "    .colab-df-convert:hover {\n",
       "      background-color: #E2EBFA;\n",
       "      box-shadow: 0px 1px 2px rgba(60, 64, 67, 0.3), 0px 1px 3px 1px rgba(60, 64, 67, 0.15);\n",
       "      fill: #174EA6;\n",
       "    }\n",
       "\n",
       "    [theme=dark] .colab-df-convert {\n",
       "      background-color: #3B4455;\n",
       "      fill: #D2E3FC;\n",
       "    }\n",
       "\n",
       "    [theme=dark] .colab-df-convert:hover {\n",
       "      background-color: #434B5C;\n",
       "      box-shadow: 0px 1px 3px 1px rgba(0, 0, 0, 0.15);\n",
       "      filter: drop-shadow(0px 1px 2px rgba(0, 0, 0, 0.3));\n",
       "      fill: #FFFFFF;\n",
       "    }\n",
       "  </style>\n",
       "\n",
       "      <script>\n",
       "        const buttonEl =\n",
       "          document.querySelector('#df-c5dff019-a1e7-43a4-ba08-26eb949623d1 button.colab-df-convert');\n",
       "        buttonEl.style.display =\n",
       "          google.colab.kernel.accessAllowed ? 'block' : 'none';\n",
       "\n",
       "        async function convertToInteractive(key) {\n",
       "          const element = document.querySelector('#df-c5dff019-a1e7-43a4-ba08-26eb949623d1');\n",
       "          const dataTable =\n",
       "            await google.colab.kernel.invokeFunction('convertToInteractive',\n",
       "                                                     [key], {});\n",
       "          if (!dataTable) return;\n",
       "\n",
       "          const docLinkHtml = 'Like what you see? Visit the ' +\n",
       "            '<a target=\"_blank\" href=https://colab.research.google.com/notebooks/data_table.ipynb>data table notebook</a>'\n",
       "            + ' to learn more about interactive tables.';\n",
       "          element.innerHTML = '';\n",
       "          dataTable['output_type'] = 'display_data';\n",
       "          await google.colab.output.renderOutput(dataTable, element);\n",
       "          const docLink = document.createElement('div');\n",
       "          docLink.innerHTML = docLinkHtml;\n",
       "          element.appendChild(docLink);\n",
       "        }\n",
       "      </script>\n",
       "    </div>\n",
       "  </div>\n",
       "  "
      ],
      "text/plain": [
       "   userID  itemID  prediction\n",
       "0      10     706    3.649627\n",
       "1      10    3119    3.506777\n",
       "2      10    3448    3.297736\n",
       "3      10    3154    3.202139\n",
       "4      10    4233    3.195796"
      ]
     },
     "execution_count": 21,
     "metadata": {},
     "output_type": "execute_result"
    }
   ],
   "source": [
    "topk_scores = model.recommend_k_items(test, top_k=TOP_K, remove_seen=True)\n",
    "\n",
    "topk_scores.head()"
   ]
  },
  {
   "cell_type": "markdown",
   "metadata": {
    "id": "4ZBd3mkKEPlD"
   },
   "source": [
    "#### 2.5.2 Evaluation\n",
    "\n",
    "With `topk_scores` predicted by the model, we can evaluate how LightGCN performs on this test set."
   ]
  },
  {
   "cell_type": "code",
   "execution_count": 22,
   "metadata": {
    "colab": {
     "base_uri": "https://localhost:8080/"
    },
    "id": "NDJ_EF2XEPlD",
    "outputId": "add89172-6ab0-4136-ba62-9682d11746f8"
   },
   "outputs": [
    {
     "name": "stdout",
     "output_type": "stream",
     "text": [
      "MAP:\t0.043201\n",
      "NDCG:\t0.061271\n",
      "Precision@K:\t0.008903\n",
      "Recall@K:\t0.105817\n"
     ]
    }
   ],
   "source": [
    "eval_map = map_at_k(test, topk_scores, k=TOP_K)\n",
    "eval_ndcg = ndcg_at_k(test, topk_scores, k=TOP_K)\n",
    "eval_precision = precision_at_k(test, topk_scores, k=TOP_K)\n",
    "eval_recall = recall_at_k(test, topk_scores, k=TOP_K)\n",
    "\n",
    "print(\"MAP:\\t%f\" % eval_map,\n",
    "      \"NDCG:\\t%f\" % eval_ndcg,\n",
    "      \"Precision@K:\\t%f\" % eval_precision,\n",
    "      \"Recall@K:\\t%f\" % eval_recall, sep='\\n')"
   ]
  },
  {
   "cell_type": "code",
   "execution_count": null,
   "metadata": {
    "id": "5SrFSE1XEPlD",
    "scrolled": true
   },
   "outputs": [],
   "source": [
    "# Record results with papermill for tests\n",
    "sb.glue(\"map\", eval_map)\n",
    "sb.glue(\"ndcg\", eval_ndcg)\n",
    "sb.glue(\"precision\", eval_precision)\n",
    "sb.glue(\"recall\", eval_recall)"
   ]
  },
  {
   "cell_type": "markdown",
   "metadata": {
    "id": "UYUhDTaKEPlD"
   },
   "source": [
    "### 2.6 Infer embeddings\n",
    "\n",
    "With `infer_embedding` method of LightGCN model, we can export the embeddings of users and items in the training set to CSV files for future use."
   ]
  },
  {
   "cell_type": "code",
   "execution_count": 23,
   "metadata": {
    "id": "XMDRJSpPEPlE"
   },
   "outputs": [],
   "source": [
    "model.infer_embedding(user_file, item_file)"
   ]
  },
  {
   "cell_type": "markdown",
   "metadata": {
    "id": "KHVB_iPZEPlE"
   },
   "source": [
    "## 3. Compare LightGCN with SAR and NCF\n",
    "\n",
    "Here there are the performances of LightGCN compared to [SAR](../00_quick_start/sar_movielens.ipynb) and [NCF](../00_quick_start/ncf_movielens.ipynb) on MovieLens dataset of 100k and 1m. The method of data loading and splitting is the same as that described above and the GPU used was a GeForce GTX 1080Ti.\n",
    "\n",
    "Settings common to the three models: `epochs=15, seed=42`.\n",
    "\n",
    "Settings for LightGCN: `embed_size=64, n_layers=3, batch_size=1024, decay=0.0001, learning_rate=0.015 `.\n",
    "\n",
    "Settings for SAR: `similarity_type=\"jaccard\", time_decay_coefficient=30, time_now=None, timedecay_formula=True`.\n",
    "\n",
    "Settings for NCF: `n_factors=4, layer_sizes=[16, 8, 4], batch_size=1024, learning_rate=0.001`.\n",
    "\n",
    "| Data Size | Model    | Training time | Recommending time | MAP@10   | nDCG@10  | Precision@10 | Recall@10 |\n",
    "| --------- | -------- | ------------- | ----------------- | -------- | -------- | ------------ | --------- |\n",
    "| 100k      | LightGCN | 27.8865       | 0.6445            | 0.129236 | 0.436297 | 0.381866     | 0.205816  |\n",
    "| 100k      | SAR      | 0.4895        | 0.1144            | 0.110591 | 0.382461 | 0.330753     | 0.176385  |\n",
    "| 100k      | NCF      | 116.3174      | 7.7660            | 0.105725 | 0.387603 | 0.342100     | 0.174580  |\n",
    "| 1m        | LightGCN | 396.7298      | 1.4343            | 0.075012 | 0.377501 | 0.345679     | 0.128096  |\n",
    "| 1m        | SAR      | 4.5593        | 2.8357            | 0.060579 | 0.299245 | 0.270116     | 0.104350  |\n",
    "| 1m        | NCF      | 1601.5846     | 85.4567           | 0.062821 | 0.348770 | 0.320613     | 0.108121  |\n",
    "\n",
    "From the above results, we can see that LightGCN performs better than the other two models."
   ]
  },
  {
   "cell_type": "markdown",
   "metadata": {
    "id": "Qcf-kdhyEPlE"
   },
   "source": [
    "### References: \n",
    "1. Xiangnan He, Kuan Deng, Xiang Wang, Yan Li, Yongdong Zhang & Meng Wang, LightGCN: Simplifying and Powering Graph Convolution Network for Recommendation, 2020, https://arxiv.org/abs/2002.02126\n",
    "2. LightGCN implementation [TensorFlow]: https://github.com/kuandeng/lightgcn\n",
    "3. Thomas N. Kipf and Max Welling, Semi-Supervised Classification with Graph Convolutional Networks, ICLR, 2017, https://arxiv.org/abs/1609.02907\n",
    "4. Xiang Wang, Xiangnan He, Meng Wang, Fuli Feng, and Tat-Seng Chua, Neural Graph Collaborative Filtering, SIGIR, 2019, https://arxiv.org/abs/1905.08108\n",
    "5. Y. Koren, R. Bell and C. Volinsky, \"Matrix Factorization Techniques for Recommender Systems\", in Computer, vol. 42, no. 8, pp. 30-37, Aug. 2009, doi: 10.1109/MC.2009.263.  url: https://datajobs.com/data-science-repo/Recommender-Systems-%5BNetflix%5D.pdf"
   ]
  }
 ],
 "metadata": {
  "accelerator": "GPU",
  "celltoolbar": "Tags",
  "colab": {
   "provenance": []
  },
  "gpuClass": "standard",
  "interpreter": {
   "hash": "3a9a0c422ff9f08d62211b9648017c63b0a26d2c935edc37ebb8453675d13bb5"
  },
  "kernelspec": {
   "display_name": "Python 3 (ipykernel)",
   "language": "python",
   "name": "python3"
  },
  "language_info": {
   "codemirror_mode": {
    "name": "ipython",
    "version": 3
   },
   "file_extension": ".py",
   "mimetype": "text/x-python",
   "name": "python",
   "nbconvert_exporter": "python",
   "pygments_lexer": "ipython3",
   "version": "3.7.15"
  }
 },
 "nbformat": 4,
 "nbformat_minor": 4
}
