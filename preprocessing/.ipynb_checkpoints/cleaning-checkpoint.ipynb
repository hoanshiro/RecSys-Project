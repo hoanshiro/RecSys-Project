{
 "cells": [
  {
   "cell_type": "code",
   "execution_count": 2,
   "id": "28a47943-2a77-45b5-9b72-3839f6a66735",
   "metadata": {},
   "outputs": [],
   "source": [
    "import pandas as pd\n",
    "import numpy as np\n",
    "import matplotlib.pyplot as plt"
   ]
  },
  {
   "cell_type": "markdown",
   "id": "1a86d7b0-4fef-45e5-8c79-d2b5dab9b943",
   "metadata": {},
   "source": [
    "## 1. Load data"
   ]
  },
  {
   "cell_type": "code",
   "execution_count": 3,
   "id": "a2424998-0e8c-4833-931a-12c86774c5bf",
   "metadata": {},
   "outputs": [
    {
     "data": {
      "text/plain": [
       "'/home/henry/Desktop/UIT/RecSys/RecSys-Project/preprocessing'"
      ]
     },
     "execution_count": 3,
     "metadata": {},
     "output_type": "execute_result"
    }
   ],
   "source": [
    "pwd"
   ]
  },
  {
   "cell_type": "code",
   "execution_count": 4,
   "id": "93d1e269-3706-45cf-911a-0bfd4d37ab4a",
   "metadata": {},
   "outputs": [
    {
     "name": "stdout",
     "output_type": "stream",
     "text": [
      "/home/henry/Desktop/UIT/RecSys/RecSys-Project\n"
     ]
    }
   ],
   "source": [
    "cd .."
   ]
  },
  {
   "cell_type": "code",
   "execution_count": 6,
   "id": "820d80a8-07fd-4743-9774-29d1ccb96406",
   "metadata": {},
   "outputs": [],
   "source": [
    "df_rests = pd.read_parquet(\"data/organized/restaurants.pq\")\n",
    "df_users = pd.read_parquet(\"data/organized/users.pq\")\n",
    "df_meals = pd.read_csv(\"data/organized/meals.csv\")\n",
    "df_ratings = pd.read_parquet(\"data/organized/ratings.pq\")"
   ]
  },
  {
   "cell_type": "markdown",
   "id": "2f649c51-417b-40cb-acc4-1e49d35de323",
   "metadata": {},
   "source": [
    "## 2. restaurants.csv"
   ]
  },
  {
   "cell_type": "code",
   "execution_count": 8,
   "id": "f6e4b732-6d6c-4f3b-be26-9a8fb0a76f80",
   "metadata": {},
   "outputs": [
    {
     "data": {
      "text/html": [
       "<div>\n",
       "<style scoped>\n",
       "    .dataframe tbody tr th:only-of-type {\n",
       "        vertical-align: middle;\n",
       "    }\n",
       "\n",
       "    .dataframe tbody tr th {\n",
       "        vertical-align: top;\n",
       "    }\n",
       "\n",
       "    .dataframe thead th {\n",
       "        text-align: right;\n",
       "    }\n",
       "</style>\n",
       "<table border=\"1\" class=\"dataframe\">\n",
       "  <thead>\n",
       "    <tr style=\"text-align: right;\">\n",
       "      <th></th>\n",
       "      <th>rest_name</th>\n",
       "      <th>rest_address</th>\n",
       "      <th>time_open</th>\n",
       "      <th>price</th>\n",
       "      <th>avg_score</th>\n",
       "      <th>quality_score</th>\n",
       "      <th>price_score</th>\n",
       "      <th>service_score</th>\n",
       "      <th>space_score</th>\n",
       "      <th>location_score</th>\n",
       "      <th>link</th>\n",
       "      <th>Location</th>\n",
       "      <th>Cate</th>\n",
       "      <th>rest_id</th>\n",
       "    </tr>\n",
       "  </thead>\n",
       "  <tbody>\n",
       "    <tr>\n",
       "      <th>5526</th>\n",
       "      <td>Đà Lạt Phố Cafe - Trường Sơn</td>\n",
       "      <td>N40 Trường Sơn, P.15, Quận 10, TP. HCM</td>\n",
       "      <td>07:00 - 22:00</td>\n",
       "      <td>20.000 - 80.000</td>\n",
       "      <td>7.2</td>\n",
       "      <td>6.6</td>\n",
       "      <td>6.6</td>\n",
       "      <td>7.2</td>\n",
       "      <td>8.2</td>\n",
       "      <td>7.4</td>\n",
       "      <td>https://www.foody.vn/ho-chi-minh/da-lat-pho-ca...</td>\n",
       "      <td>TPHCM</td>\n",
       "      <td>Cafe</td>\n",
       "      <td>1198</td>\n",
       "    </tr>\n",
       "    <tr>\n",
       "      <th>5527</th>\n",
       "      <td>Đà Lạt Phố Cafe - Nguyễn Thị Minh Khai</td>\n",
       "      <td>306 Nguyễn Thị Minh Khai, Quận 3, TP. HCM</td>\n",
       "      <td>Đang mở cửa  Cả ngày | 07:00 - 23:00</td>\n",
       "      <td>50.000 - 80.000</td>\n",
       "      <td>6.4</td>\n",
       "      <td>5.6</td>\n",
       "      <td>5.6</td>\n",
       "      <td>5.9</td>\n",
       "      <td>7.7</td>\n",
       "      <td>7.4</td>\n",
       "      <td>https://www.foody.vn/ho-chi-minh/da-lat-pho-ca...</td>\n",
       "      <td>TPHCM</td>\n",
       "      <td>Cafe</td>\n",
       "      <td>166</td>\n",
       "    </tr>\n",
       "    <tr>\n",
       "      <th>5528</th>\n",
       "      <td>Đà Lạt Phố Cafe - Lữ Gia</td>\n",
       "      <td>70 Lữ Gia, Quận 11, TP. HCM</td>\n",
       "      <td>07:00 - 22:00</td>\n",
       "      <td>20.000 - 80.000</td>\n",
       "      <td>6.8</td>\n",
       "      <td>6.4</td>\n",
       "      <td>6.0</td>\n",
       "      <td>6.6</td>\n",
       "      <td>7.6</td>\n",
       "      <td>7.4</td>\n",
       "      <td>https://www.foody.vn/ho-chi-minh/da-lat-pho-ca...</td>\n",
       "      <td>TPHCM</td>\n",
       "      <td>Cafe</td>\n",
       "      <td>3530</td>\n",
       "    </tr>\n",
       "  </tbody>\n",
       "</table>\n",
       "</div>"
      ],
      "text/plain": [
       "                                   rest_name  \\\n",
       "5526            Đà Lạt Phố Cafe - Trường Sơn   \n",
       "5527  Đà Lạt Phố Cafe - Nguyễn Thị Minh Khai   \n",
       "5528                Đà Lạt Phố Cafe - Lữ Gia   \n",
       "\n",
       "                                   rest_address  \\\n",
       "5526     N40 Trường Sơn, P.15, Quận 10, TP. HCM   \n",
       "5527  306 Nguyễn Thị Minh Khai, Quận 3, TP. HCM   \n",
       "5528                70 Lữ Gia, Quận 11, TP. HCM   \n",
       "\n",
       "                                 time_open            price avg_score  \\\n",
       "5526                         07:00 - 22:00  20.000 - 80.000       7.2   \n",
       "5527  Đang mở cửa  Cả ngày | 07:00 - 23:00  50.000 - 80.000       6.4   \n",
       "5528                         07:00 - 22:00  20.000 - 80.000       6.8   \n",
       "\n",
       "     quality_score price_score service_score space_score location_score  \\\n",
       "5526           6.6         6.6           7.2         8.2            7.4   \n",
       "5527           5.6         5.6           5.9         7.7            7.4   \n",
       "5528           6.4         6.0           6.6         7.6            7.4   \n",
       "\n",
       "                                                   link Location  Cate  \\\n",
       "5526  https://www.foody.vn/ho-chi-minh/da-lat-pho-ca...    TPHCM  Cafe   \n",
       "5527  https://www.foody.vn/ho-chi-minh/da-lat-pho-ca...    TPHCM  Cafe   \n",
       "5528  https://www.foody.vn/ho-chi-minh/da-lat-pho-ca...    TPHCM  Cafe   \n",
       "\n",
       "      rest_id  \n",
       "5526     1198  \n",
       "5527      166  \n",
       "5528     3530  "
      ]
     },
     "execution_count": 8,
     "metadata": {},
     "output_type": "execute_result"
    }
   ],
   "source": [
    "df_rests.tail(3)"
   ]
  },
  {
   "cell_type": "code",
   "execution_count": 10,
   "id": "a16bffbe-2288-4288-aa50-26f61f6c34e2",
   "metadata": {},
   "outputs": [],
   "source": [
    "df_rests[\"open_time\"] = df_rests.time_open.map(lambda time: str(time).split(\" - \")[0])\n",
    "df_rests[\"close_time\"] = df_rests.time_open.map(lambda time: str(time).split(\" - \")[-1])"
   ]
  },
  {
   "cell_type": "code",
   "execution_count": 11,
   "id": "b98ab533-693b-4580-a005-e1cfff054c32",
   "metadata": {},
   "outputs": [],
   "source": [
    "df_rests[\"lowest_price\"] = df_rests.price.map(lambda price: str(price).split(\" - \")[0])\n",
    "df_rests[\"hightest_price\"] = df_rests.price.map(lambda price: str(price).split(\" - \")[-1])"
   ]
  },
  {
   "cell_type": "code",
   "execution_count": 12,
   "id": "2d6a8cfe-31ec-470b-b53f-a09f5f5dc9fb",
   "metadata": {},
   "outputs": [],
   "source": [
    "df_rests[\"rest_link\"] = df_rests.link.map(lambda link: link.replace(\"https://www.foody.vn\", \"\"))"
   ]
  },
  {
   "cell_type": "code",
   "execution_count": 13,
   "id": "5d5b1b5d-f974-48fa-8c8d-c2dbe6e0ea32",
   "metadata": {},
   "outputs": [
    {
     "data": {
      "text/plain": [
       "Index(['rest_name', 'rest_address', 'time_open', 'price', 'avg_score',\n",
       "       'quality_score', 'price_score', 'service_score', 'space_score',\n",
       "       'location_score', 'link', 'Location', 'Cate', 'rest_id', 'open_time',\n",
       "       'close_time', 'lowest_price', 'hightest_price', 'rest_link'],\n",
       "      dtype='object')"
      ]
     },
     "execution_count": 13,
     "metadata": {},
     "output_type": "execute_result"
    }
   ],
   "source": [
    "df_rests.columns"
   ]
  },
  {
   "cell_type": "code",
   "execution_count": 14,
   "id": "9857ed3b-32c0-432b-8992-880a1fa45099",
   "metadata": {},
   "outputs": [],
   "source": [
    "df_rests_x = df_rests[[\"rest_id\", \"rest_name\", \"Cate\",\"open_time\", 'close_time', 'lowest_price', 'hightest_price',\n",
    "                     \"avg_score\", 'quality_score', 'price_score', 'service_score', 'space_score', 'location_score',\n",
    "                     \"rest_address\", \"rest_link\"]]"
   ]
  },
  {
   "cell_type": "code",
   "execution_count": 16,
   "id": "14067087-4328-44d0-b873-9138f6bf9587",
   "metadata": {},
   "outputs": [
    {
     "name": "stderr",
     "output_type": "stream",
     "text": [
      "/home/henry/miniconda3/envs/nlpvenv/lib/python3.7/site-packages/pandas/util/_decorators.py:311: SettingWithCopyWarning: \n",
      "A value is trying to be set on a copy of a slice from a DataFrame\n",
      "\n",
      "See the caveats in the documentation: https://pandas.pydata.org/pandas-docs/stable/user_guide/indexing.html#returning-a-view-versus-a-copy\n",
      "  return func(*args, **kwargs)\n"
     ]
    }
   ],
   "source": [
    "df_rests_x.drop_duplicates(inplace=True)"
   ]
  },
  {
   "cell_type": "code",
   "execution_count": 17,
   "id": "6df08f44-1c4f-452a-833b-c4e20c3db20f",
   "metadata": {},
   "outputs": [
    {
     "data": {
      "text/html": [
       "<div>\n",
       "<style scoped>\n",
       "    .dataframe tbody tr th:only-of-type {\n",
       "        vertical-align: middle;\n",
       "    }\n",
       "\n",
       "    .dataframe tbody tr th {\n",
       "        vertical-align: top;\n",
       "    }\n",
       "\n",
       "    .dataframe thead th {\n",
       "        text-align: right;\n",
       "    }\n",
       "</style>\n",
       "<table border=\"1\" class=\"dataframe\">\n",
       "  <thead>\n",
       "    <tr style=\"text-align: right;\">\n",
       "      <th></th>\n",
       "      <th>rest_id</th>\n",
       "      <th>rest_name</th>\n",
       "      <th>Cate</th>\n",
       "      <th>open_time</th>\n",
       "      <th>close_time</th>\n",
       "      <th>lowest_price</th>\n",
       "      <th>hightest_price</th>\n",
       "      <th>avg_score</th>\n",
       "      <th>quality_score</th>\n",
       "      <th>price_score</th>\n",
       "      <th>service_score</th>\n",
       "      <th>space_score</th>\n",
       "      <th>location_score</th>\n",
       "      <th>rest_address</th>\n",
       "      <th>rest_link</th>\n",
       "    </tr>\n",
       "  </thead>\n",
       "  <tbody>\n",
       "    <tr>\n",
       "      <th>5526</th>\n",
       "      <td>1198</td>\n",
       "      <td>Đà Lạt Phố Cafe - Trường Sơn</td>\n",
       "      <td>Cafe</td>\n",
       "      <td>07:00</td>\n",
       "      <td>22:00</td>\n",
       "      <td>20.000</td>\n",
       "      <td>80.000</td>\n",
       "      <td>7.2</td>\n",
       "      <td>6.6</td>\n",
       "      <td>6.6</td>\n",
       "      <td>7.2</td>\n",
       "      <td>8.2</td>\n",
       "      <td>7.4</td>\n",
       "      <td>N40 Trường Sơn, P.15, Quận 10, TP. HCM</td>\n",
       "      <td>/ho-chi-minh/da-lat-pho-cafe-truong-son</td>\n",
       "    </tr>\n",
       "    <tr>\n",
       "      <th>5527</th>\n",
       "      <td>166</td>\n",
       "      <td>Đà Lạt Phố Cafe - Nguyễn Thị Minh Khai</td>\n",
       "      <td>Cafe</td>\n",
       "      <td>Đang mở cửa  Cả ngày | 07:00</td>\n",
       "      <td>23:00</td>\n",
       "      <td>50.000</td>\n",
       "      <td>80.000</td>\n",
       "      <td>6.4</td>\n",
       "      <td>5.6</td>\n",
       "      <td>5.6</td>\n",
       "      <td>5.9</td>\n",
       "      <td>7.7</td>\n",
       "      <td>7.4</td>\n",
       "      <td>306 Nguyễn Thị Minh Khai, Quận 3, TP. HCM</td>\n",
       "      <td>/ho-chi-minh/da-lat-pho-cafe-nguyen-thi-minh-khai</td>\n",
       "    </tr>\n",
       "    <tr>\n",
       "      <th>5528</th>\n",
       "      <td>3530</td>\n",
       "      <td>Đà Lạt Phố Cafe - Lữ Gia</td>\n",
       "      <td>Cafe</td>\n",
       "      <td>07:00</td>\n",
       "      <td>22:00</td>\n",
       "      <td>20.000</td>\n",
       "      <td>80.000</td>\n",
       "      <td>6.8</td>\n",
       "      <td>6.4</td>\n",
       "      <td>6.0</td>\n",
       "      <td>6.6</td>\n",
       "      <td>7.6</td>\n",
       "      <td>7.4</td>\n",
       "      <td>70 Lữ Gia, Quận 11, TP. HCM</td>\n",
       "      <td>/ho-chi-minh/da-lat-pho-cafe-lu-gia</td>\n",
       "    </tr>\n",
       "  </tbody>\n",
       "</table>\n",
       "</div>"
      ],
      "text/plain": [
       "      rest_id                               rest_name  Cate  \\\n",
       "5526     1198            Đà Lạt Phố Cafe - Trường Sơn  Cafe   \n",
       "5527      166  Đà Lạt Phố Cafe - Nguyễn Thị Minh Khai  Cafe   \n",
       "5528     3530                Đà Lạt Phố Cafe - Lữ Gia  Cafe   \n",
       "\n",
       "                         open_time close_time lowest_price hightest_price  \\\n",
       "5526                         07:00      22:00       20.000         80.000   \n",
       "5527  Đang mở cửa  Cả ngày | 07:00      23:00       50.000         80.000   \n",
       "5528                         07:00      22:00       20.000         80.000   \n",
       "\n",
       "     avg_score quality_score price_score service_score space_score  \\\n",
       "5526       7.2           6.6         6.6           7.2         8.2   \n",
       "5527       6.4           5.6         5.6           5.9         7.7   \n",
       "5528       6.8           6.4         6.0           6.6         7.6   \n",
       "\n",
       "     location_score                               rest_address  \\\n",
       "5526            7.4     N40 Trường Sơn, P.15, Quận 10, TP. HCM   \n",
       "5527            7.4  306 Nguyễn Thị Minh Khai, Quận 3, TP. HCM   \n",
       "5528            7.4                70 Lữ Gia, Quận 11, TP. HCM   \n",
       "\n",
       "                                              rest_link  \n",
       "5526            /ho-chi-minh/da-lat-pho-cafe-truong-son  \n",
       "5527  /ho-chi-minh/da-lat-pho-cafe-nguyen-thi-minh-khai  \n",
       "5528                /ho-chi-minh/da-lat-pho-cafe-lu-gia  "
      ]
     },
     "execution_count": 17,
     "metadata": {},
     "output_type": "execute_result"
    }
   ],
   "source": [
    "df_rests_x.tail(3)"
   ]
  },
  {
   "cell_type": "code",
   "execution_count": 18,
   "id": "404d2792-3bc1-4f36-8776-9776915fa985",
   "metadata": {},
   "outputs": [],
   "source": [
    "df_rests_x.to_parquet(\"data/cleaned/restaurants.pq\", index=False)"
   ]
  },
  {
   "cell_type": "markdown",
   "id": "1fb1ff0a-34ba-4683-977c-4c0265c3cef3",
   "metadata": {},
   "source": [
    "## 3. users.csv"
   ]
  },
  {
   "cell_type": "code",
   "execution_count": 19,
   "id": "485a5704-6908-4422-b4a9-3fccf102eacd",
   "metadata": {},
   "outputs": [
    {
     "data": {
      "text/html": [
       "<div>\n",
       "<style scoped>\n",
       "    .dataframe tbody tr th:only-of-type {\n",
       "        vertical-align: middle;\n",
       "    }\n",
       "\n",
       "    .dataframe tbody tr th {\n",
       "        vertical-align: top;\n",
       "    }\n",
       "\n",
       "    .dataframe thead th {\n",
       "        text-align: right;\n",
       "    }\n",
       "</style>\n",
       "<table border=\"1\" class=\"dataframe\">\n",
       "  <thead>\n",
       "    <tr style=\"text-align: right;\">\n",
       "      <th></th>\n",
       "      <th>user_name</th>\n",
       "      <th>user_link</th>\n",
       "      <th>user_id</th>\n",
       "    </tr>\n",
       "  </thead>\n",
       "  <tbody>\n",
       "    <tr>\n",
       "      <th>9881</th>\n",
       "      <td>Manami Sachiko</td>\n",
       "      <td>https://www.foody.vn/thanh-vien/myhanh11235813</td>\n",
       "      <td>11089</td>\n",
       "    </tr>\n",
       "    <tr>\n",
       "      <th>20702</th>\n",
       "      <td>Hồng Lam</td>\n",
       "      <td>https://www.foody.vn/thanh-vien/honglama2</td>\n",
       "      <td>11658</td>\n",
       "    </tr>\n",
       "    <tr>\n",
       "      <th>22796</th>\n",
       "      <td>Võ Nhàn</td>\n",
       "      <td>https://www.foody.vn/thanh-vien/foodee_hk72nr88</td>\n",
       "      <td>8799</td>\n",
       "    </tr>\n",
       "  </tbody>\n",
       "</table>\n",
       "</div>"
      ],
      "text/plain": [
       "            user_name                                        user_link  \\\n",
       "9881   Manami Sachiko   https://www.foody.vn/thanh-vien/myhanh11235813   \n",
       "20702        Hồng Lam        https://www.foody.vn/thanh-vien/honglama2   \n",
       "22796         Võ Nhàn  https://www.foody.vn/thanh-vien/foodee_hk72nr88   \n",
       "\n",
       "       user_id  \n",
       "9881     11089  \n",
       "20702    11658  \n",
       "22796     8799  "
      ]
     },
     "execution_count": 19,
     "metadata": {},
     "output_type": "execute_result"
    }
   ],
   "source": [
    "df_users.sample(3)"
   ]
  },
  {
   "cell_type": "code",
   "execution_count": 20,
   "id": "5925b8c7-f32b-40e6-9378-a61f0d725756",
   "metadata": {},
   "outputs": [],
   "source": [
    "df_users.user_link = df_users.user_link.map(lambda url: url.split(\"thanh-vien\")[-1] if \"/\" in str(url) else \"\")"
   ]
  },
  {
   "cell_type": "code",
   "execution_count": 21,
   "id": "74a91400-df33-4b01-bf63-fbee2c41062f",
   "metadata": {},
   "outputs": [],
   "source": [
    "df_users = df_users[[\"user_id\", \"user_name\", \"user_link\"]]"
   ]
  },
  {
   "cell_type": "code",
   "execution_count": 22,
   "id": "054bd823-d51e-4a6d-b188-e74b29be7d32",
   "metadata": {},
   "outputs": [
    {
     "data": {
      "text/html": [
       "<div>\n",
       "<style scoped>\n",
       "    .dataframe tbody tr th:only-of-type {\n",
       "        vertical-align: middle;\n",
       "    }\n",
       "\n",
       "    .dataframe tbody tr th {\n",
       "        vertical-align: top;\n",
       "    }\n",
       "\n",
       "    .dataframe thead th {\n",
       "        text-align: right;\n",
       "    }\n",
       "</style>\n",
       "<table border=\"1\" class=\"dataframe\">\n",
       "  <thead>\n",
       "    <tr style=\"text-align: right;\">\n",
       "      <th></th>\n",
       "      <th>user_id</th>\n",
       "      <th>user_name</th>\n",
       "      <th>user_link</th>\n",
       "    </tr>\n",
       "  </thead>\n",
       "  <tbody>\n",
       "    <tr>\n",
       "      <th>36537</th>\n",
       "      <td>14219</td>\n",
       "      <td>Foodee_6tvgeatb</td>\n",
       "      <td>/foodee_6tvgeatb</td>\n",
       "    </tr>\n",
       "    <tr>\n",
       "      <th>36538</th>\n",
       "      <td>21695</td>\n",
       "      <td>Quyên Huỳnh</td>\n",
       "      <td>/foodee_6xro13h6</td>\n",
       "    </tr>\n",
       "    <tr>\n",
       "      <th>36539</th>\n",
       "      <td>16855</td>\n",
       "      <td>Hương Đỗ</td>\n",
       "      <td>/dothihuong1303</td>\n",
       "    </tr>\n",
       "  </tbody>\n",
       "</table>\n",
       "</div>"
      ],
      "text/plain": [
       "       user_id        user_name         user_link\n",
       "36537    14219  Foodee_6tvgeatb  /foodee_6tvgeatb\n",
       "36538    21695      Quyên Huỳnh  /foodee_6xro13h6\n",
       "36539    16855         Hương Đỗ   /dothihuong1303"
      ]
     },
     "execution_count": 22,
     "metadata": {},
     "output_type": "execute_result"
    }
   ],
   "source": [
    "df_users.tail(3)"
   ]
  },
  {
   "cell_type": "code",
   "execution_count": 23,
   "id": "be0e849d-22f6-4aa9-af91-48d123adb3e4",
   "metadata": {},
   "outputs": [],
   "source": [
    "df_users.to_parquet(\"data/cleaned/users.pq\", index=False)"
   ]
  },
  {
   "cell_type": "markdown",
   "id": "f0b944c3-645b-4d3b-9a3d-14d327778375",
   "metadata": {},
   "source": [
    "## 4. meals.csv"
   ]
  },
  {
   "cell_type": "code",
   "execution_count": 24,
   "id": "fbd10b17-04b2-41af-9aba-866a690d832f",
   "metadata": {},
   "outputs": [
    {
     "data": {
      "text/html": [
       "<div>\n",
       "<style scoped>\n",
       "    .dataframe tbody tr th:only-of-type {\n",
       "        vertical-align: middle;\n",
       "    }\n",
       "\n",
       "    .dataframe tbody tr th {\n",
       "        vertical-align: top;\n",
       "    }\n",
       "\n",
       "    .dataframe thead th {\n",
       "        text-align: right;\n",
       "    }\n",
       "</style>\n",
       "<table border=\"1\" class=\"dataframe\">\n",
       "  <thead>\n",
       "    <tr style=\"text-align: right;\">\n",
       "      <th></th>\n",
       "      <th>food_id</th>\n",
       "      <th>rest_id</th>\n",
       "      <th>food_name</th>\n",
       "      <th>food_price</th>\n",
       "    </tr>\n",
       "  </thead>\n",
       "  <tbody>\n",
       "    <tr>\n",
       "      <th>2486</th>\n",
       "      <td>541</td>\n",
       "      <td>129</td>\n",
       "      <td>Súp cua bắc thảo óc heo</td>\n",
       "      <td>45000.0</td>\n",
       "    </tr>\n",
       "    <tr>\n",
       "      <th>3143</th>\n",
       "      <td>1888</td>\n",
       "      <td>1193</td>\n",
       "      <td>Chả Cá Vàng Thơm Kèm Sốt (Sốt tiêu đen/Sốt cay)</td>\n",
       "      <td>280000.0</td>\n",
       "    </tr>\n",
       "    <tr>\n",
       "      <th>1171</th>\n",
       "      <td>1171</td>\n",
       "      <td>1201</td>\n",
       "      <td>Cơm bokkum thịt bò</td>\n",
       "      <td>53000.0</td>\n",
       "    </tr>\n",
       "  </tbody>\n",
       "</table>\n",
       "</div>"
      ],
      "text/plain": [
       "      food_id  rest_id                                        food_name  \\\n",
       "2486      541      129                          Súp cua bắc thảo óc heo   \n",
       "3143     1888     1193  Chả Cá Vàng Thơm Kèm Sốt (Sốt tiêu đen/Sốt cay)   \n",
       "1171     1171     1201                               Cơm bokkum thịt bò   \n",
       "\n",
       "      food_price  \n",
       "2486     45000.0  \n",
       "3143    280000.0  \n",
       "1171     53000.0  "
      ]
     },
     "execution_count": 24,
     "metadata": {},
     "output_type": "execute_result"
    }
   ],
   "source": [
    "df_meals.sample(3)"
   ]
  },
  {
   "cell_type": "code",
   "execution_count": 25,
   "id": "ea7ae042-b2f7-4d88-8b8d-7ddb2cb3c65a",
   "metadata": {},
   "outputs": [],
   "source": [
    "df_ratings.to_csv(\"data/cleaned/meals.csv\", index=False)"
   ]
  },
  {
   "cell_type": "markdown",
   "id": "7893171b-535d-4370-bf45-d1b34a098f40",
   "metadata": {},
   "source": [
    "## 5. ratings.csv"
   ]
  },
  {
   "cell_type": "code",
   "execution_count": 26,
   "id": "8d488047-948c-4f42-97a1-2fd689efe35f",
   "metadata": {},
   "outputs": [
    {
     "data": {
      "text/html": [
       "<div>\n",
       "<style scoped>\n",
       "    .dataframe tbody tr th:only-of-type {\n",
       "        vertical-align: middle;\n",
       "    }\n",
       "\n",
       "    .dataframe tbody tr th {\n",
       "        vertical-align: top;\n",
       "    }\n",
       "\n",
       "    .dataframe thead th {\n",
       "        text-align: right;\n",
       "    }\n",
       "</style>\n",
       "<table border=\"1\" class=\"dataframe\">\n",
       "  <thead>\n",
       "    <tr style=\"text-align: right;\">\n",
       "      <th></th>\n",
       "      <th>user_id</th>\n",
       "      <th>rest_id</th>\n",
       "      <th>time</th>\n",
       "      <th>device_user</th>\n",
       "      <th>rating_score</th>\n",
       "      <th>cmt</th>\n",
       "    </tr>\n",
       "  </thead>\n",
       "  <tbody>\n",
       "    <tr>\n",
       "      <th>73714</th>\n",
       "      <td>19840</td>\n",
       "      <td>169</td>\n",
       "      <td>9/11/2022 21:46</td>\n",
       "      <td>via iPhone</td>\n",
       "      <td>2.0</td>\n",
       "      <td>Thái độ nhân viên tốt. NHƯNG:\\n\\n1) Rất nhiều ...</td>\n",
       "    </tr>\n",
       "    <tr>\n",
       "      <th>73715</th>\n",
       "      <td>12883</td>\n",
       "      <td>4128</td>\n",
       "      <td>7/1/2022 16:31</td>\n",
       "      <td>via iPhone</td>\n",
       "      <td>8.8</td>\n",
       "      <td>Các món chay được tuỳ biến theo phong cách tây...</td>\n",
       "    </tr>\n",
       "    <tr>\n",
       "      <th>73716</th>\n",
       "      <td>13675</td>\n",
       "      <td>4128</td>\n",
       "      <td>23/12/2021 21:38</td>\n",
       "      <td>via iPhone</td>\n",
       "      <td>8.2</td>\n",
       "      <td>Đây là một địa điểm tuyệt vời cho những ai muố...</td>\n",
       "    </tr>\n",
       "  </tbody>\n",
       "</table>\n",
       "</div>"
      ],
      "text/plain": [
       "       user_id  rest_id              time device_user  rating_score  \\\n",
       "73714    19840      169   9/11/2022 21:46  via iPhone           2.0   \n",
       "73715    12883     4128    7/1/2022 16:31  via iPhone           8.8   \n",
       "73716    13675     4128  23/12/2021 21:38  via iPhone           8.2   \n",
       "\n",
       "                                                     cmt  \n",
       "73714  Thái độ nhân viên tốt. NHƯNG:\\n\\n1) Rất nhiều ...  \n",
       "73715  Các món chay được tuỳ biến theo phong cách tây...  \n",
       "73716  Đây là một địa điểm tuyệt vời cho những ai muố...  "
      ]
     },
     "execution_count": 26,
     "metadata": {},
     "output_type": "execute_result"
    }
   ],
   "source": [
    "df_ratings.tail(3)"
   ]
  },
  {
   "cell_type": "code",
   "execution_count": 27,
   "id": "8515fe6f-75af-451f-a90e-fa3bf9ef476e",
   "metadata": {},
   "outputs": [],
   "source": [
    "df_ratings[\"date\"] = df_ratings.time.map(lambda time: time.split(\" \")[0])"
   ]
  },
  {
   "cell_type": "code",
   "execution_count": 28,
   "id": "23b3592b-095b-4bb7-a784-62b9017549c4",
   "metadata": {},
   "outputs": [],
   "source": [
    "df_ratings[\"time\"] = df_ratings.time.map(lambda time: time.split(\" \")[1])"
   ]
  },
  {
   "cell_type": "code",
   "execution_count": 29,
   "id": "eda82572-5f98-4806-86fd-d1ca845e0d37",
   "metadata": {},
   "outputs": [],
   "source": [
    "df_ratings[\"device_user\"] = df_ratings.device_user.map(lambda device: device.replace(\"via \", \"\"))"
   ]
  },
  {
   "cell_type": "code",
   "execution_count": 30,
   "id": "e501730f-57c4-4aa5-b411-649bea0d0e5b",
   "metadata": {},
   "outputs": [],
   "source": [
    "col = df_ratings.pop(\"date\")\n",
    "df_ratings.insert(2, col.name, col)"
   ]
  },
  {
   "cell_type": "code",
   "execution_count": 31,
   "id": "49f39612-cf52-4d9b-9439-338cae1e6229",
   "metadata": {},
   "outputs": [],
   "source": [
    "df_ratings.to_parquet(\"data/cleaned/ratings.pq\", index=False)"
   ]
  },
  {
   "cell_type": "code",
   "execution_count": null,
   "id": "60172d14-aa89-4042-9085-8c66b241a13d",
   "metadata": {},
   "outputs": [],
   "source": []
  }
 ],
 "metadata": {
  "kernelspec": {
   "display_name": "Python 3 (ipykernel)",
   "language": "python",
   "name": "python3"
  },
  "language_info": {
   "codemirror_mode": {
    "name": "ipython",
    "version": 3
   },
   "file_extension": ".py",
   "mimetype": "text/x-python",
   "name": "python",
   "nbconvert_exporter": "python",
   "pygments_lexer": "ipython3",
   "version": "3.7.13"
  }
 },
 "nbformat": 4,
 "nbformat_minor": 5
}
