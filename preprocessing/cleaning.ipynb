{
 "cells": [
  {
   "cell_type": "code",
   "execution_count": 1,
   "id": "28a47943-2a77-45b5-9b72-3839f6a66735",
   "metadata": {},
   "outputs": [],
   "source": [
    "import pandas as pd\n",
    "import numpy as np\n",
    "import matplotlib.pyplot as plt"
   ]
  },
  {
   "cell_type": "markdown",
   "id": "1a86d7b0-4fef-45e5-8c79-d2b5dab9b943",
   "metadata": {},
   "source": [
    "## 1. Load data"
   ]
  },
  {
   "cell_type": "code",
   "execution_count": 2,
   "id": "a2424998-0e8c-4833-931a-12c86774c5bf",
   "metadata": {},
   "outputs": [
    {
     "data": {
      "text/plain": [
       "'/home/henry/Desktop/UIT/RecSys/RecSys-Project/preprocessing'"
      ]
     },
     "execution_count": 2,
     "metadata": {},
     "output_type": "execute_result"
    }
   ],
   "source": [
    "pwd"
   ]
  },
  {
   "cell_type": "code",
   "execution_count": 8,
   "id": "93d1e269-3706-45cf-911a-0bfd4d37ab4a",
   "metadata": {},
   "outputs": [
    {
     "name": "stdout",
     "output_type": "stream",
     "text": [
      "/home/henry/Desktop/UIT/RecSys/RecSys-Project\n"
     ]
    }
   ],
   "source": [
    "cd .."
   ]
  },
  {
   "cell_type": "code",
   "execution_count": 9,
   "id": "820d80a8-07fd-4743-9774-29d1ccb96406",
   "metadata": {},
   "outputs": [],
   "source": [
    "df_rests = pd.read_parquet(\"data/organized/restaurants.pq\")\n",
    "df_users = pd.read_parquet(\"data/organized/users.pq\")\n",
    "df_meals = pd.read_csv(\"data/organized/meals.csv\")\n",
    "df_ratings = pd.read_parquet(\"data/organized/ratings.pq\")"
   ]
  },
  {
   "cell_type": "markdown",
   "id": "2f649c51-417b-40cb-acc4-1e49d35de323",
   "metadata": {},
   "source": [
    "## 2. restaurants.csv"
   ]
  },
  {
   "cell_type": "code",
   "execution_count": 10,
   "id": "f6e4b732-6d6c-4f3b-be26-9a8fb0a76f80",
   "metadata": {},
   "outputs": [
    {
     "data": {
      "text/html": [
       "<div>\n",
       "<style scoped>\n",
       "    .dataframe tbody tr th:only-of-type {\n",
       "        vertical-align: middle;\n",
       "    }\n",
       "\n",
       "    .dataframe tbody tr th {\n",
       "        vertical-align: top;\n",
       "    }\n",
       "\n",
       "    .dataframe thead th {\n",
       "        text-align: right;\n",
       "    }\n",
       "</style>\n",
       "<table border=\"1\" class=\"dataframe\">\n",
       "  <thead>\n",
       "    <tr style=\"text-align: right;\">\n",
       "      <th></th>\n",
       "      <th>index</th>\n",
       "      <th>rest_name</th>\n",
       "      <th>rest_address</th>\n",
       "      <th>time_open</th>\n",
       "      <th>price</th>\n",
       "      <th>avg_score</th>\n",
       "      <th>quality_score</th>\n",
       "      <th>price_score</th>\n",
       "      <th>service_score</th>\n",
       "      <th>space_score</th>\n",
       "      <th>location_score</th>\n",
       "      <th>link</th>\n",
       "      <th>Location</th>\n",
       "      <th>Cate</th>\n",
       "      <th>rest_id</th>\n",
       "    </tr>\n",
       "  </thead>\n",
       "  <tbody>\n",
       "    <tr>\n",
       "      <th>4904</th>\n",
       "      <td>6790</td>\n",
       "      <td>Đà Lạt Phố Cafe - Trường Sơn</td>\n",
       "      <td>N40 Trường Sơn, P.15, Quận 10, TP. HCM</td>\n",
       "      <td>07:00 - 22:00</td>\n",
       "      <td>20.000 - 80.000</td>\n",
       "      <td>7.2</td>\n",
       "      <td>6.6</td>\n",
       "      <td>6.6</td>\n",
       "      <td>7.2</td>\n",
       "      <td>8.2</td>\n",
       "      <td>7.4</td>\n",
       "      <td>https://www.foody.vn/ho-chi-minh/da-lat-pho-ca...</td>\n",
       "      <td>TPHCM</td>\n",
       "      <td>Cafe</td>\n",
       "      <td>4753</td>\n",
       "    </tr>\n",
       "    <tr>\n",
       "      <th>4905</th>\n",
       "      <td>6791</td>\n",
       "      <td>Đà Lạt Phố Cafe - Nguyễn Thị Minh Khai</td>\n",
       "      <td>306 Nguyễn Thị Minh Khai, Quận 3, TP. HCM</td>\n",
       "      <td>Đang mở cửa  Cả ngày | 07:00 - 23:00</td>\n",
       "      <td>50.000 - 80.000</td>\n",
       "      <td>6.4</td>\n",
       "      <td>5.6</td>\n",
       "      <td>5.6</td>\n",
       "      <td>5.9</td>\n",
       "      <td>7.7</td>\n",
       "      <td>7.4</td>\n",
       "      <td>https://www.foody.vn/ho-chi-minh/da-lat-pho-ca...</td>\n",
       "      <td>TPHCM</td>\n",
       "      <td>Cafe</td>\n",
       "      <td>3392</td>\n",
       "    </tr>\n",
       "    <tr>\n",
       "      <th>4906</th>\n",
       "      <td>6792</td>\n",
       "      <td>Đà Lạt Phố Cafe - Lữ Gia</td>\n",
       "      <td>70 Lữ Gia, Quận 11, TP. HCM</td>\n",
       "      <td>07:00 - 22:00</td>\n",
       "      <td>20.000 - 80.000</td>\n",
       "      <td>6.8</td>\n",
       "      <td>6.4</td>\n",
       "      <td>6.0</td>\n",
       "      <td>6.6</td>\n",
       "      <td>7.6</td>\n",
       "      <td>7.4</td>\n",
       "      <td>https://www.foody.vn/ho-chi-minh/da-lat-pho-ca...</td>\n",
       "      <td>TPHCM</td>\n",
       "      <td>Cafe</td>\n",
       "      <td>1409</td>\n",
       "    </tr>\n",
       "  </tbody>\n",
       "</table>\n",
       "</div>"
      ],
      "text/plain": [
       "      index                               rest_name  \\\n",
       "4904   6790            Đà Lạt Phố Cafe - Trường Sơn   \n",
       "4905   6791  Đà Lạt Phố Cafe - Nguyễn Thị Minh Khai   \n",
       "4906   6792                Đà Lạt Phố Cafe - Lữ Gia   \n",
       "\n",
       "                                   rest_address  \\\n",
       "4904     N40 Trường Sơn, P.15, Quận 10, TP. HCM   \n",
       "4905  306 Nguyễn Thị Minh Khai, Quận 3, TP. HCM   \n",
       "4906                70 Lữ Gia, Quận 11, TP. HCM   \n",
       "\n",
       "                                 time_open            price avg_score  \\\n",
       "4904                         07:00 - 22:00  20.000 - 80.000       7.2   \n",
       "4905  Đang mở cửa  Cả ngày | 07:00 - 23:00  50.000 - 80.000       6.4   \n",
       "4906                         07:00 - 22:00  20.000 - 80.000       6.8   \n",
       "\n",
       "     quality_score price_score service_score space_score location_score  \\\n",
       "4904           6.6         6.6           7.2         8.2            7.4   \n",
       "4905           5.6         5.6           5.9         7.7            7.4   \n",
       "4906           6.4         6.0           6.6         7.6            7.4   \n",
       "\n",
       "                                                   link Location  Cate  \\\n",
       "4904  https://www.foody.vn/ho-chi-minh/da-lat-pho-ca...    TPHCM  Cafe   \n",
       "4905  https://www.foody.vn/ho-chi-minh/da-lat-pho-ca...    TPHCM  Cafe   \n",
       "4906  https://www.foody.vn/ho-chi-minh/da-lat-pho-ca...    TPHCM  Cafe   \n",
       "\n",
       "      rest_id  \n",
       "4904     4753  \n",
       "4905     3392  \n",
       "4906     1409  "
      ]
     },
     "execution_count": 10,
     "metadata": {},
     "output_type": "execute_result"
    }
   ],
   "source": [
    "df_rests.tail(3)"
   ]
  },
  {
   "cell_type": "code",
   "execution_count": 11,
   "id": "a16bffbe-2288-4288-aa50-26f61f6c34e2",
   "metadata": {},
   "outputs": [],
   "source": [
    "df_rests[\"open_time\"] = df_rests.time_open.map(lambda time: str(time).split(\" - \")[0])\n",
    "df_rests[\"close_time\"] = df_rests.time_open.map(lambda time: str(time).split(\" - \")[-1])"
   ]
  },
  {
   "cell_type": "code",
   "execution_count": 12,
   "id": "b98ab533-693b-4580-a005-e1cfff054c32",
   "metadata": {},
   "outputs": [],
   "source": [
    "df_rests[\"lowest_price\"] = df_rests.price.map(lambda price: str(price).split(\" - \")[0])\n",
    "df_rests[\"hightest_price\"] = df_rests.price.map(lambda price: str(price).split(\" - \")[-1])"
   ]
  },
  {
   "cell_type": "code",
   "execution_count": 13,
   "id": "2d6a8cfe-31ec-470b-b53f-a09f5f5dc9fb",
   "metadata": {},
   "outputs": [],
   "source": [
    "df_rests[\"rest_link\"] = df_rests.link.map(lambda link: link.replace(\"https://www.foody.vn\", \"\"))"
   ]
  },
  {
   "cell_type": "code",
   "execution_count": 14,
   "id": "5d5b1b5d-f974-48fa-8c8d-c2dbe6e0ea32",
   "metadata": {},
   "outputs": [
    {
     "data": {
      "text/plain": [
       "Index(['index', 'rest_name', 'rest_address', 'time_open', 'price', 'avg_score',\n",
       "       'quality_score', 'price_score', 'service_score', 'space_score',\n",
       "       'location_score', 'link', 'Location', 'Cate', 'rest_id', 'open_time',\n",
       "       'close_time', 'lowest_price', 'hightest_price', 'rest_link'],\n",
       "      dtype='object')"
      ]
     },
     "execution_count": 14,
     "metadata": {},
     "output_type": "execute_result"
    }
   ],
   "source": [
    "df_rests.columns"
   ]
  },
  {
   "cell_type": "code",
   "execution_count": 15,
   "id": "9857ed3b-32c0-432b-8992-880a1fa45099",
   "metadata": {},
   "outputs": [],
   "source": [
    "df_rests_x = df_rests[[\"rest_id\", \"rest_name\", \"Cate\",\"open_time\", 'close_time', 'lowest_price', 'hightest_price',\n",
    "                     \"avg_score\", 'quality_score', 'price_score', 'service_score', 'space_score', 'location_score',\n",
    "                     \"rest_address\", \"rest_link\"]]"
   ]
  },
  {
   "cell_type": "code",
   "execution_count": 16,
   "id": "6df08f44-1c4f-452a-833b-c4e20c3db20f",
   "metadata": {},
   "outputs": [
    {
     "data": {
      "text/html": [
       "<div>\n",
       "<style scoped>\n",
       "    .dataframe tbody tr th:only-of-type {\n",
       "        vertical-align: middle;\n",
       "    }\n",
       "\n",
       "    .dataframe tbody tr th {\n",
       "        vertical-align: top;\n",
       "    }\n",
       "\n",
       "    .dataframe thead th {\n",
       "        text-align: right;\n",
       "    }\n",
       "</style>\n",
       "<table border=\"1\" class=\"dataframe\">\n",
       "  <thead>\n",
       "    <tr style=\"text-align: right;\">\n",
       "      <th></th>\n",
       "      <th>rest_id</th>\n",
       "      <th>rest_name</th>\n",
       "      <th>Cate</th>\n",
       "      <th>open_time</th>\n",
       "      <th>close_time</th>\n",
       "      <th>lowest_price</th>\n",
       "      <th>hightest_price</th>\n",
       "      <th>avg_score</th>\n",
       "      <th>quality_score</th>\n",
       "      <th>price_score</th>\n",
       "      <th>service_score</th>\n",
       "      <th>space_score</th>\n",
       "      <th>location_score</th>\n",
       "      <th>rest_address</th>\n",
       "      <th>rest_link</th>\n",
       "    </tr>\n",
       "  </thead>\n",
       "  <tbody>\n",
       "    <tr>\n",
       "      <th>4904</th>\n",
       "      <td>4753</td>\n",
       "      <td>Đà Lạt Phố Cafe - Trường Sơn</td>\n",
       "      <td>Cafe</td>\n",
       "      <td>07:00</td>\n",
       "      <td>22:00</td>\n",
       "      <td>20.000</td>\n",
       "      <td>80.000</td>\n",
       "      <td>7.2</td>\n",
       "      <td>6.6</td>\n",
       "      <td>6.6</td>\n",
       "      <td>7.2</td>\n",
       "      <td>8.2</td>\n",
       "      <td>7.4</td>\n",
       "      <td>N40 Trường Sơn, P.15, Quận 10, TP. HCM</td>\n",
       "      <td>/ho-chi-minh/da-lat-pho-cafe-truong-son</td>\n",
       "    </tr>\n",
       "    <tr>\n",
       "      <th>4905</th>\n",
       "      <td>3392</td>\n",
       "      <td>Đà Lạt Phố Cafe - Nguyễn Thị Minh Khai</td>\n",
       "      <td>Cafe</td>\n",
       "      <td>Đang mở cửa  Cả ngày | 07:00</td>\n",
       "      <td>23:00</td>\n",
       "      <td>50.000</td>\n",
       "      <td>80.000</td>\n",
       "      <td>6.4</td>\n",
       "      <td>5.6</td>\n",
       "      <td>5.6</td>\n",
       "      <td>5.9</td>\n",
       "      <td>7.7</td>\n",
       "      <td>7.4</td>\n",
       "      <td>306 Nguyễn Thị Minh Khai, Quận 3, TP. HCM</td>\n",
       "      <td>/ho-chi-minh/da-lat-pho-cafe-nguyen-thi-minh-khai</td>\n",
       "    </tr>\n",
       "    <tr>\n",
       "      <th>4906</th>\n",
       "      <td>1409</td>\n",
       "      <td>Đà Lạt Phố Cafe - Lữ Gia</td>\n",
       "      <td>Cafe</td>\n",
       "      <td>07:00</td>\n",
       "      <td>22:00</td>\n",
       "      <td>20.000</td>\n",
       "      <td>80.000</td>\n",
       "      <td>6.8</td>\n",
       "      <td>6.4</td>\n",
       "      <td>6.0</td>\n",
       "      <td>6.6</td>\n",
       "      <td>7.6</td>\n",
       "      <td>7.4</td>\n",
       "      <td>70 Lữ Gia, Quận 11, TP. HCM</td>\n",
       "      <td>/ho-chi-minh/da-lat-pho-cafe-lu-gia</td>\n",
       "    </tr>\n",
       "  </tbody>\n",
       "</table>\n",
       "</div>"
      ],
      "text/plain": [
       "      rest_id                               rest_name  Cate  \\\n",
       "4904     4753            Đà Lạt Phố Cafe - Trường Sơn  Cafe   \n",
       "4905     3392  Đà Lạt Phố Cafe - Nguyễn Thị Minh Khai  Cafe   \n",
       "4906     1409                Đà Lạt Phố Cafe - Lữ Gia  Cafe   \n",
       "\n",
       "                         open_time close_time lowest_price hightest_price  \\\n",
       "4904                         07:00      22:00       20.000         80.000   \n",
       "4905  Đang mở cửa  Cả ngày | 07:00      23:00       50.000         80.000   \n",
       "4906                         07:00      22:00       20.000         80.000   \n",
       "\n",
       "     avg_score quality_score price_score service_score space_score  \\\n",
       "4904       7.2           6.6         6.6           7.2         8.2   \n",
       "4905       6.4           5.6         5.6           5.9         7.7   \n",
       "4906       6.8           6.4         6.0           6.6         7.6   \n",
       "\n",
       "     location_score                               rest_address  \\\n",
       "4904            7.4     N40 Trường Sơn, P.15, Quận 10, TP. HCM   \n",
       "4905            7.4  306 Nguyễn Thị Minh Khai, Quận 3, TP. HCM   \n",
       "4906            7.4                70 Lữ Gia, Quận 11, TP. HCM   \n",
       "\n",
       "                                              rest_link  \n",
       "4904            /ho-chi-minh/da-lat-pho-cafe-truong-son  \n",
       "4905  /ho-chi-minh/da-lat-pho-cafe-nguyen-thi-minh-khai  \n",
       "4906                /ho-chi-minh/da-lat-pho-cafe-lu-gia  "
      ]
     },
     "execution_count": 16,
     "metadata": {},
     "output_type": "execute_result"
    }
   ],
   "source": [
    "df_rests_x.tail(3)"
   ]
  },
  {
   "cell_type": "code",
   "execution_count": 17,
   "id": "404d2792-3bc1-4f36-8776-9776915fa985",
   "metadata": {},
   "outputs": [],
   "source": [
    "df_rests_x.to_parquet(\"data/cleaned/restaurants.pq\", index=False)"
   ]
  },
  {
   "cell_type": "markdown",
   "id": "1fb1ff0a-34ba-4683-977c-4c0265c3cef3",
   "metadata": {},
   "source": [
    "## 3. users.csv"
   ]
  },
  {
   "cell_type": "code",
   "execution_count": 18,
   "id": "485a5704-6908-4422-b4a9-3fccf102eacd",
   "metadata": {},
   "outputs": [
    {
     "data": {
      "text/html": [
       "<div>\n",
       "<style scoped>\n",
       "    .dataframe tbody tr th:only-of-type {\n",
       "        vertical-align: middle;\n",
       "    }\n",
       "\n",
       "    .dataframe tbody tr th {\n",
       "        vertical-align: top;\n",
       "    }\n",
       "\n",
       "    .dataframe thead th {\n",
       "        text-align: right;\n",
       "    }\n",
       "</style>\n",
       "<table border=\"1\" class=\"dataframe\">\n",
       "  <thead>\n",
       "    <tr style=\"text-align: right;\">\n",
       "      <th></th>\n",
       "      <th>index</th>\n",
       "      <th>user_name</th>\n",
       "      <th>user_link</th>\n",
       "      <th>user_id</th>\n",
       "    </tr>\n",
       "  </thead>\n",
       "  <tbody>\n",
       "    <tr>\n",
       "      <th>8116</th>\n",
       "      <td>17885</td>\n",
       "      <td>Minhmy9996</td>\n",
       "      <td>https://www.foody.vn/thanh-vien/foodee_ypu7sxav</td>\n",
       "      <td>11084</td>\n",
       "    </tr>\n",
       "    <tr>\n",
       "      <th>20094</th>\n",
       "      <td>55051</td>\n",
       "      <td>Hằng Nguyễn Nguyễn</td>\n",
       "      <td>https://www.foody.vn/thanh-vien/lehang030195</td>\n",
       "      <td>3021</td>\n",
       "    </tr>\n",
       "    <tr>\n",
       "      <th>21109</th>\n",
       "      <td>59480</td>\n",
       "      <td>Frank Merci</td>\n",
       "      <td>https://www.foody.vn/thanh-vien/jin_8x</td>\n",
       "      <td>8082</td>\n",
       "    </tr>\n",
       "  </tbody>\n",
       "</table>\n",
       "</div>"
      ],
      "text/plain": [
       "       index           user_name  \\\n",
       "8116   17885          Minhmy9996   \n",
       "20094  55051  Hằng Nguyễn Nguyễn   \n",
       "21109  59480         Frank Merci   \n",
       "\n",
       "                                             user_link  user_id  \n",
       "8116   https://www.foody.vn/thanh-vien/foodee_ypu7sxav    11084  \n",
       "20094     https://www.foody.vn/thanh-vien/lehang030195     3021  \n",
       "21109           https://www.foody.vn/thanh-vien/jin_8x     8082  "
      ]
     },
     "execution_count": 18,
     "metadata": {},
     "output_type": "execute_result"
    }
   ],
   "source": [
    "df_users.sample(3)"
   ]
  },
  {
   "cell_type": "code",
   "execution_count": 19,
   "id": "5925b8c7-f32b-40e6-9378-a61f0d725756",
   "metadata": {},
   "outputs": [],
   "source": [
    "df_users.user_link = df_users.user_link.map(lambda url: url.split(\"thanh-vien\")[-1] if \"/\" in str(url) else \"\")"
   ]
  },
  {
   "cell_type": "code",
   "execution_count": 20,
   "id": "74a91400-df33-4b01-bf63-fbee2c41062f",
   "metadata": {},
   "outputs": [],
   "source": [
    "df_users = df_users[[\"user_id\", \"user_name\", \"user_link\"]]"
   ]
  },
  {
   "cell_type": "code",
   "execution_count": 21,
   "id": "054bd823-d51e-4a6d-b188-e74b29be7d32",
   "metadata": {},
   "outputs": [
    {
     "data": {
      "text/html": [
       "<div>\n",
       "<style scoped>\n",
       "    .dataframe tbody tr th:only-of-type {\n",
       "        vertical-align: middle;\n",
       "    }\n",
       "\n",
       "    .dataframe tbody tr th {\n",
       "        vertical-align: top;\n",
       "    }\n",
       "\n",
       "    .dataframe thead th {\n",
       "        text-align: right;\n",
       "    }\n",
       "</style>\n",
       "<table border=\"1\" class=\"dataframe\">\n",
       "  <thead>\n",
       "    <tr style=\"text-align: right;\">\n",
       "      <th></th>\n",
       "      <th>user_id</th>\n",
       "      <th>user_name</th>\n",
       "      <th>user_link</th>\n",
       "    </tr>\n",
       "  </thead>\n",
       "  <tbody>\n",
       "    <tr>\n",
       "      <th>27137</th>\n",
       "      <td>15100</td>\n",
       "      <td>Foodee_6tvgeatb</td>\n",
       "      <td>/foodee_6tvgeatb</td>\n",
       "    </tr>\n",
       "    <tr>\n",
       "      <th>27138</th>\n",
       "      <td>6518</td>\n",
       "      <td>Quyên Huỳnh</td>\n",
       "      <td>/foodee_6xro13h6</td>\n",
       "    </tr>\n",
       "    <tr>\n",
       "      <th>27139</th>\n",
       "      <td>18401</td>\n",
       "      <td>Hương Đỗ</td>\n",
       "      <td>/dothihuong1303</td>\n",
       "    </tr>\n",
       "  </tbody>\n",
       "</table>\n",
       "</div>"
      ],
      "text/plain": [
       "       user_id        user_name         user_link\n",
       "27137    15100  Foodee_6tvgeatb  /foodee_6tvgeatb\n",
       "27138     6518      Quyên Huỳnh  /foodee_6xro13h6\n",
       "27139    18401         Hương Đỗ   /dothihuong1303"
      ]
     },
     "execution_count": 21,
     "metadata": {},
     "output_type": "execute_result"
    }
   ],
   "source": [
    "df_users.tail(3)"
   ]
  },
  {
   "cell_type": "code",
   "execution_count": 22,
   "id": "be0e849d-22f6-4aa9-af91-48d123adb3e4",
   "metadata": {},
   "outputs": [],
   "source": [
    "df_users.to_parquet(\"data/cleaned/users.pq\", index=False)"
   ]
  },
  {
   "cell_type": "markdown",
   "id": "f0b944c3-645b-4d3b-9a3d-14d327778375",
   "metadata": {},
   "source": [
    "## 4. meals.csv"
   ]
  },
  {
   "cell_type": "code",
   "execution_count": 23,
   "id": "fbd10b17-04b2-41af-9aba-866a690d832f",
   "metadata": {},
   "outputs": [
    {
     "data": {
      "text/html": [
       "<div>\n",
       "<style scoped>\n",
       "    .dataframe tbody tr th:only-of-type {\n",
       "        vertical-align: middle;\n",
       "    }\n",
       "\n",
       "    .dataframe tbody tr th {\n",
       "        vertical-align: top;\n",
       "    }\n",
       "\n",
       "    .dataframe thead th {\n",
       "        text-align: right;\n",
       "    }\n",
       "</style>\n",
       "<table border=\"1\" class=\"dataframe\">\n",
       "  <thead>\n",
       "    <tr style=\"text-align: right;\">\n",
       "      <th></th>\n",
       "      <th>food_id</th>\n",
       "      <th>rest_id</th>\n",
       "      <th>food_name</th>\n",
       "      <th>food_price</th>\n",
       "    </tr>\n",
       "  </thead>\n",
       "  <tbody>\n",
       "    <tr>\n",
       "      <th>120</th>\n",
       "      <td>316</td>\n",
       "      <td>550</td>\n",
       "      <td>Chả giò Quảng Đông</td>\n",
       "      <td>105840.0</td>\n",
       "    </tr>\n",
       "    <tr>\n",
       "      <th>2173</th>\n",
       "      <td>813</td>\n",
       "      <td>818</td>\n",
       "      <td>Đùi gà rán phủ sốt</td>\n",
       "      <td>42900.0</td>\n",
       "    </tr>\n",
       "    <tr>\n",
       "      <th>2046</th>\n",
       "      <td>866</td>\n",
       "      <td>2</td>\n",
       "      <td>Combo Give A Try</td>\n",
       "      <td>89000.0</td>\n",
       "    </tr>\n",
       "  </tbody>\n",
       "</table>\n",
       "</div>"
      ],
      "text/plain": [
       "      food_id  rest_id           food_name  food_price\n",
       "120       316      550  Chả giò Quảng Đông    105840.0\n",
       "2173      813      818  Đùi gà rán phủ sốt     42900.0\n",
       "2046      866        2    Combo Give A Try     89000.0"
      ]
     },
     "execution_count": 23,
     "metadata": {},
     "output_type": "execute_result"
    }
   ],
   "source": [
    "df_meals.sample(3)"
   ]
  },
  {
   "cell_type": "code",
   "execution_count": 24,
   "id": "ea7ae042-b2f7-4d88-8b8d-7ddb2cb3c65a",
   "metadata": {},
   "outputs": [],
   "source": [
    "df_meals.to_csv(\"data/cleaned/meals.csv\", index=False)"
   ]
  },
  {
   "cell_type": "markdown",
   "id": "7893171b-535d-4370-bf45-d1b34a098f40",
   "metadata": {},
   "source": [
    "## 5. ratings.csv"
   ]
  },
  {
   "cell_type": "code",
   "execution_count": 25,
   "id": "8d488047-948c-4f42-97a1-2fd689efe35f",
   "metadata": {},
   "outputs": [
    {
     "data": {
      "text/html": [
       "<div>\n",
       "<style scoped>\n",
       "    .dataframe tbody tr th:only-of-type {\n",
       "        vertical-align: middle;\n",
       "    }\n",
       "\n",
       "    .dataframe tbody tr th {\n",
       "        vertical-align: top;\n",
       "    }\n",
       "\n",
       "    .dataframe thead th {\n",
       "        text-align: right;\n",
       "    }\n",
       "</style>\n",
       "<table border=\"1\" class=\"dataframe\">\n",
       "  <thead>\n",
       "    <tr style=\"text-align: right;\">\n",
       "      <th></th>\n",
       "      <th>index</th>\n",
       "      <th>user_id</th>\n",
       "      <th>rest_id</th>\n",
       "      <th>time</th>\n",
       "      <th>device_user</th>\n",
       "      <th>rating_score</th>\n",
       "      <th>cmt</th>\n",
       "    </tr>\n",
       "  </thead>\n",
       "  <tbody>\n",
       "    <tr>\n",
       "      <th>68432</th>\n",
       "      <td>83692</td>\n",
       "      <td>11540</td>\n",
       "      <td>3725</td>\n",
       "      <td>9/11/2022 21:46</td>\n",
       "      <td>via iPhone</td>\n",
       "      <td>2.0</td>\n",
       "      <td>Thái độ nhân viên tốt. NHƯNG:\\n\\n1) Rất nhiều ...</td>\n",
       "    </tr>\n",
       "    <tr>\n",
       "      <th>68433</th>\n",
       "      <td>83693</td>\n",
       "      <td>8308</td>\n",
       "      <td>4336</td>\n",
       "      <td>7/1/2022 16:31</td>\n",
       "      <td>via iPhone</td>\n",
       "      <td>8.8</td>\n",
       "      <td>Các món chay được tuỳ biến theo phong cách tây...</td>\n",
       "    </tr>\n",
       "    <tr>\n",
       "      <th>68434</th>\n",
       "      <td>83694</td>\n",
       "      <td>13883</td>\n",
       "      <td>4336</td>\n",
       "      <td>23/12/2021 21:38</td>\n",
       "      <td>via iPhone</td>\n",
       "      <td>8.2</td>\n",
       "      <td>Đây là một địa điểm tuyệt vời cho những ai muố...</td>\n",
       "    </tr>\n",
       "  </tbody>\n",
       "</table>\n",
       "</div>"
      ],
      "text/plain": [
       "       index  user_id  rest_id              time device_user  rating_score  \\\n",
       "68432  83692    11540     3725   9/11/2022 21:46  via iPhone           2.0   \n",
       "68433  83693     8308     4336    7/1/2022 16:31  via iPhone           8.8   \n",
       "68434  83694    13883     4336  23/12/2021 21:38  via iPhone           8.2   \n",
       "\n",
       "                                                     cmt  \n",
       "68432  Thái độ nhân viên tốt. NHƯNG:\\n\\n1) Rất nhiều ...  \n",
       "68433  Các món chay được tuỳ biến theo phong cách tây...  \n",
       "68434  Đây là một địa điểm tuyệt vời cho những ai muố...  "
      ]
     },
     "execution_count": 25,
     "metadata": {},
     "output_type": "execute_result"
    }
   ],
   "source": [
    "df_ratings.tail(3)"
   ]
  },
  {
   "cell_type": "code",
   "execution_count": 26,
   "id": "8515fe6f-75af-451f-a90e-fa3bf9ef476e",
   "metadata": {},
   "outputs": [],
   "source": [
    "# df_ratings[\"date\"] = df_ratings.time.map(lambda time: time.split(\" \")[0])\n",
    "# df_ratings[\"time\"] = df_ratings.time.map(lambda time: time.split(\" \")[1])"
   ]
  },
  {
   "cell_type": "code",
   "execution_count": 28,
   "id": "04e1e0ce-a915-4c04-a1f4-ed9a7b1f4680",
   "metadata": {},
   "outputs": [],
   "source": [
    "import datetime"
   ]
  },
  {
   "cell_type": "code",
   "execution_count": 29,
   "id": "23b3592b-095b-4bb7-a784-62b9017549c4",
   "metadata": {},
   "outputs": [],
   "source": [
    "df_ratings[\"timestamp\"] = df_ratings.time.map(\n",
    "    lambda time: \n",
    "    int(datetime.datetime.strptime(time, \"%d/%m/%Y %H:%M\")\n",
    "    .timestamp())\n",
    ")"
   ]
  },
  {
   "cell_type": "code",
   "execution_count": 30,
   "id": "eda82572-5f98-4806-86fd-d1ca845e0d37",
   "metadata": {},
   "outputs": [],
   "source": [
    "df_ratings[\"device_user\"] = df_ratings.device_user.map(lambda device: device.replace(\"via \", \"\"))"
   ]
  },
  {
   "cell_type": "code",
   "execution_count": 31,
   "id": "e501730f-57c4-4aa5-b411-649bea0d0e5b",
   "metadata": {},
   "outputs": [],
   "source": [
    "col = df_ratings.pop(\"timestamp\")\n",
    "df_ratings.pop(\"time\")\n",
    "df_ratings.insert(2, col.name, col)"
   ]
  },
  {
   "cell_type": "code",
   "execution_count": 32,
   "id": "3373c32d-9aeb-4d9f-bfef-e7cfdc62c5a2",
   "metadata": {},
   "outputs": [],
   "source": [
    "df_ratings.rename(columns={\"device_user\": \"user_device\"}, inplace=True)"
   ]
  },
  {
   "cell_type": "code",
   "execution_count": 33,
   "id": "5c32f819-55c5-45d8-a82e-4a5fc648d375",
   "metadata": {},
   "outputs": [
    {
     "data": {
      "text/html": [
       "<div>\n",
       "<style scoped>\n",
       "    .dataframe tbody tr th:only-of-type {\n",
       "        vertical-align: middle;\n",
       "    }\n",
       "\n",
       "    .dataframe tbody tr th {\n",
       "        vertical-align: top;\n",
       "    }\n",
       "\n",
       "    .dataframe thead th {\n",
       "        text-align: right;\n",
       "    }\n",
       "</style>\n",
       "<table border=\"1\" class=\"dataframe\">\n",
       "  <thead>\n",
       "    <tr style=\"text-align: right;\">\n",
       "      <th></th>\n",
       "      <th>index</th>\n",
       "      <th>user_id</th>\n",
       "      <th>timestamp</th>\n",
       "      <th>rest_id</th>\n",
       "      <th>user_device</th>\n",
       "      <th>rating_score</th>\n",
       "      <th>cmt</th>\n",
       "    </tr>\n",
       "  </thead>\n",
       "  <tbody>\n",
       "    <tr>\n",
       "      <th>68432</th>\n",
       "      <td>83692</td>\n",
       "      <td>11540</td>\n",
       "      <td>1668005160</td>\n",
       "      <td>3725</td>\n",
       "      <td>iPhone</td>\n",
       "      <td>2.0</td>\n",
       "      <td>Thái độ nhân viên tốt. NHƯNG:\\n\\n1) Rất nhiều ...</td>\n",
       "    </tr>\n",
       "    <tr>\n",
       "      <th>68433</th>\n",
       "      <td>83693</td>\n",
       "      <td>8308</td>\n",
       "      <td>1641547860</td>\n",
       "      <td>4336</td>\n",
       "      <td>iPhone</td>\n",
       "      <td>8.8</td>\n",
       "      <td>Các món chay được tuỳ biến theo phong cách tây...</td>\n",
       "    </tr>\n",
       "    <tr>\n",
       "      <th>68434</th>\n",
       "      <td>83694</td>\n",
       "      <td>13883</td>\n",
       "      <td>1640270280</td>\n",
       "      <td>4336</td>\n",
       "      <td>iPhone</td>\n",
       "      <td>8.2</td>\n",
       "      <td>Đây là một địa điểm tuyệt vời cho những ai muố...</td>\n",
       "    </tr>\n",
       "  </tbody>\n",
       "</table>\n",
       "</div>"
      ],
      "text/plain": [
       "       index  user_id   timestamp  rest_id user_device  rating_score  \\\n",
       "68432  83692    11540  1668005160     3725      iPhone           2.0   \n",
       "68433  83693     8308  1641547860     4336      iPhone           8.8   \n",
       "68434  83694    13883  1640270280     4336      iPhone           8.2   \n",
       "\n",
       "                                                     cmt  \n",
       "68432  Thái độ nhân viên tốt. NHƯNG:\\n\\n1) Rất nhiều ...  \n",
       "68433  Các món chay được tuỳ biến theo phong cách tây...  \n",
       "68434  Đây là một địa điểm tuyệt vời cho những ai muố...  "
      ]
     },
     "execution_count": 33,
     "metadata": {},
     "output_type": "execute_result"
    }
   ],
   "source": [
    "df_ratings = df_ratings.drop_duplicates(subset=[\"user_id\", \"rest_id\"], keep=\"last\").reset_index(drop=True)\n",
    "df_ratings.tail(3)"
   ]
  },
  {
   "cell_type": "code",
   "execution_count": 34,
   "id": "49f39612-cf52-4d9b-9439-338cae1e6229",
   "metadata": {},
   "outputs": [],
   "source": [
    "df_ratings.to_parquet(\"data/cleaned/ratings.pq\", index=False)"
   ]
  },
  {
   "cell_type": "code",
   "execution_count": null,
   "id": "821fab0f-5d2a-4b8f-845a-c6a1922a0fe2",
   "metadata": {},
   "outputs": [],
   "source": []
  }
 ],
 "metadata": {
  "kernelspec": {
   "display_name": "Python 3 (ipykernel)",
   "language": "python",
   "name": "python3"
  },
  "language_info": {
   "codemirror_mode": {
    "name": "ipython",
    "version": 3
   },
   "file_extension": ".py",
   "mimetype": "text/x-python",
   "name": "python",
   "nbconvert_exporter": "python",
   "pygments_lexer": "ipython3",
   "version": "3.7.15"
  }
 },
 "nbformat": 4,
 "nbformat_minor": 5
}
