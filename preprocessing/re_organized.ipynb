{
 "cells": [
  {
   "cell_type": "code",
   "execution_count": 1,
   "id": "14b2732d-014a-4a10-89ec-2d8ee59f771e",
   "metadata": {},
   "outputs": [],
   "source": [
    "import pandas as pd\n",
    "import numpy as np"
   ]
  },
  {
   "cell_type": "code",
   "execution_count": 2,
   "id": "70794622-3f56-4195-b23a-e50060700503",
   "metadata": {},
   "outputs": [
    {
     "name": "stdout",
     "output_type": "stream",
     "text": [
      "/home/henry/Desktop/UIT/RecSys/RecSys-Project\n"
     ]
    }
   ],
   "source": [
    "cd .."
   ]
  },
  {
   "cell_type": "markdown",
   "id": "1ab7942e-cb82-47dc-abd9-9898b22b9dd5",
   "metadata": {},
   "source": [
    "## 2. restaurant.csv"
   ]
  },
  {
   "cell_type": "markdown",
   "id": "54556d8a-8b3f-4cb3-a499-40ddf5d5a3f1",
   "metadata": {},
   "source": [
    "### 2.1 Merge files"
   ]
  },
  {
   "cell_type": "code",
   "execution_count": 3,
   "id": "7acfd6f9-7577-4924-82dc-554a98f17b5c",
   "metadata": {},
   "outputs": [
    {
     "data": {
      "text/html": [
       "<div>\n",
       "<style scoped>\n",
       "    .dataframe tbody tr th:only-of-type {\n",
       "        vertical-align: middle;\n",
       "    }\n",
       "\n",
       "    .dataframe tbody tr th {\n",
       "        vertical-align: top;\n",
       "    }\n",
       "\n",
       "    .dataframe thead th {\n",
       "        text-align: right;\n",
       "    }\n",
       "</style>\n",
       "<table border=\"1\" class=\"dataframe\">\n",
       "  <thead>\n",
       "    <tr style=\"text-align: right;\">\n",
       "      <th></th>\n",
       "      <th>Location</th>\n",
       "      <th>Cate</th>\n",
       "      <th>Link_rest</th>\n",
       "    </tr>\n",
       "  </thead>\n",
       "  <tbody>\n",
       "    <tr>\n",
       "      <th>5524</th>\n",
       "      <td>HaNoi</td>\n",
       "      <td>Tiem Banh</td>\n",
       "      <td>https://www.foody.vn/ha-noi/huong-phuc-bakery-...</td>\n",
       "    </tr>\n",
       "    <tr>\n",
       "      <th>5525</th>\n",
       "      <td>HaNoi</td>\n",
       "      <td>Tiem Banh</td>\n",
       "      <td>https://www.foody.vn/ha-noi/tiem-banh-changi</td>\n",
       "    </tr>\n",
       "    <tr>\n",
       "      <th>5526</th>\n",
       "      <td>HaNoi</td>\n",
       "      <td>Tiem Banh</td>\n",
       "      <td>https://www.foody.vn/ha-noi/tiem-banh-changi-c...</td>\n",
       "    </tr>\n",
       "  </tbody>\n",
       "</table>\n",
       "</div>"
      ],
      "text/plain": [
       "     Location       Cate                                          Link_rest\n",
       "5524    HaNoi  Tiem Banh  https://www.foody.vn/ha-noi/huong-phuc-bakery-...\n",
       "5525    HaNoi  Tiem Banh       https://www.foody.vn/ha-noi/tiem-banh-changi\n",
       "5526    HaNoi  Tiem Banh  https://www.foody.vn/ha-noi/tiem-banh-changi-c..."
      ]
     },
     "execution_count": 3,
     "metadata": {},
     "output_type": "execute_result"
    }
   ],
   "source": [
    "df_rest_info = pd.read_csv(\"data/raw/df_total_HN_HCM_restLink_20221129.csv\")\n",
    "df_rest_info.tail(3)"
   ]
  },
  {
   "cell_type": "code",
   "execution_count": 4,
   "id": "824a6cd1-2ead-4735-b45b-735f8f487474",
   "metadata": {},
   "outputs": [],
   "source": [
    "df_rest_info.rename(columns={\"Link_rest\": \"link\"}, inplace=True)"
   ]
  },
  {
   "cell_type": "code",
   "execution_count": 12,
   "id": "47816acb-3231-457d-9dca-84712539b56a",
   "metadata": {},
   "outputs": [],
   "source": [
    "df_rest_full_info =  pd.read_csv(\"data/raw/data_HN_HCM_step_2_restInfo_20221128.csv\")"
   ]
  },
  {
   "cell_type": "code",
   "execution_count": 13,
   "id": "45e410ee-cfbb-4b2f-82ca-fc0ae4a84ca6",
   "metadata": {},
   "outputs": [
    {
     "data": {
      "text/html": [
       "<div>\n",
       "<style scoped>\n",
       "    .dataframe tbody tr th:only-of-type {\n",
       "        vertical-align: middle;\n",
       "    }\n",
       "\n",
       "    .dataframe tbody tr th {\n",
       "        vertical-align: top;\n",
       "    }\n",
       "\n",
       "    .dataframe thead th {\n",
       "        text-align: right;\n",
       "    }\n",
       "</style>\n",
       "<table border=\"1\" class=\"dataframe\">\n",
       "  <thead>\n",
       "    <tr style=\"text-align: right;\">\n",
       "      <th></th>\n",
       "      <th>rest_name</th>\n",
       "      <th>rest_address</th>\n",
       "      <th>time_open</th>\n",
       "      <th>price</th>\n",
       "      <th>avg_score</th>\n",
       "      <th>quality_score</th>\n",
       "      <th>price_score</th>\n",
       "      <th>service_score</th>\n",
       "      <th>space_score</th>\n",
       "      <th>location_score</th>\n",
       "      <th>link</th>\n",
       "    </tr>\n",
       "  </thead>\n",
       "  <tbody>\n",
       "    <tr>\n",
       "      <th>5524</th>\n",
       "      <td>Đà Lạt Phố Cafe - Trường Sơn</td>\n",
       "      <td>N40 Trường Sơn, P.15, Quận 10, TP. HCM</td>\n",
       "      <td>07:00 - 22:00</td>\n",
       "      <td>20.000 - 80.000</td>\n",
       "      <td>7.2</td>\n",
       "      <td>6.6</td>\n",
       "      <td>6.6</td>\n",
       "      <td>7.2</td>\n",
       "      <td>8.2</td>\n",
       "      <td>7.4</td>\n",
       "      <td>https://www.foody.vn/ho-chi-minh/da-lat-pho-ca...</td>\n",
       "    </tr>\n",
       "    <tr>\n",
       "      <th>5525</th>\n",
       "      <td>Đà Lạt Phố Cafe - Nguyễn Thị Minh Khai</td>\n",
       "      <td>306 Nguyễn Thị Minh Khai, Quận 3, TP. HCM</td>\n",
       "      <td>Đang mở cửa  Cả ngày | 07:00 - 23:00</td>\n",
       "      <td>50.000 - 80.000</td>\n",
       "      <td>6.4</td>\n",
       "      <td>5.6</td>\n",
       "      <td>5.6</td>\n",
       "      <td>5.9</td>\n",
       "      <td>7.7</td>\n",
       "      <td>7.4</td>\n",
       "      <td>https://www.foody.vn/ho-chi-minh/da-lat-pho-ca...</td>\n",
       "    </tr>\n",
       "    <tr>\n",
       "      <th>5526</th>\n",
       "      <td>Đà Lạt Phố Cafe - Lữ Gia</td>\n",
       "      <td>70 Lữ Gia, Quận 11, TP. HCM</td>\n",
       "      <td>07:00 - 22:00</td>\n",
       "      <td>20.000 - 80.000</td>\n",
       "      <td>6.8</td>\n",
       "      <td>6.4</td>\n",
       "      <td>6.0</td>\n",
       "      <td>6.6</td>\n",
       "      <td>7.6</td>\n",
       "      <td>7.4</td>\n",
       "      <td>https://www.foody.vn/ho-chi-minh/da-lat-pho-ca...</td>\n",
       "    </tr>\n",
       "  </tbody>\n",
       "</table>\n",
       "</div>"
      ],
      "text/plain": [
       "                                   rest_name  \\\n",
       "5524            Đà Lạt Phố Cafe - Trường Sơn   \n",
       "5525  Đà Lạt Phố Cafe - Nguyễn Thị Minh Khai   \n",
       "5526                Đà Lạt Phố Cafe - Lữ Gia   \n",
       "\n",
       "                                   rest_address  \\\n",
       "5524     N40 Trường Sơn, P.15, Quận 10, TP. HCM   \n",
       "5525  306 Nguyễn Thị Minh Khai, Quận 3, TP. HCM   \n",
       "5526                70 Lữ Gia, Quận 11, TP. HCM   \n",
       "\n",
       "                                 time_open            price avg_score  \\\n",
       "5524                         07:00 - 22:00  20.000 - 80.000       7.2   \n",
       "5525  Đang mở cửa  Cả ngày | 07:00 - 23:00  50.000 - 80.000       6.4   \n",
       "5526                         07:00 - 22:00  20.000 - 80.000       6.8   \n",
       "\n",
       "     quality_score price_score service_score space_score location_score  \\\n",
       "5524           6.6         6.6           7.2         8.2            7.4   \n",
       "5525           5.6         5.6           5.9         7.7            7.4   \n",
       "5526           6.4         6.0           6.6         7.6            7.4   \n",
       "\n",
       "                                                   link  \n",
       "5524  https://www.foody.vn/ho-chi-minh/da-lat-pho-ca...  \n",
       "5525  https://www.foody.vn/ho-chi-minh/da-lat-pho-ca...  \n",
       "5526  https://www.foody.vn/ho-chi-minh/da-lat-pho-ca...  "
      ]
     },
     "execution_count": 13,
     "metadata": {},
     "output_type": "execute_result"
    }
   ],
   "source": [
    "df_rest_full_info.tail(3)"
   ]
  },
  {
   "cell_type": "code",
   "execution_count": 14,
   "id": "2ee902be-2467-4dc4-b873-69c530e7e2f7",
   "metadata": {},
   "outputs": [],
   "source": [
    "df_rest_full = df_rest_full_info.merge(df_rest_info, how=\"inner\", on=\"link\")"
   ]
  },
  {
   "cell_type": "code",
   "execution_count": 15,
   "id": "99c3f006-b53a-4b07-a804-99eef7bcb9e3",
   "metadata": {},
   "outputs": [],
   "source": [
    "def createId(df, column):\n",
    "    ls_value = list(set(df[column]))\n",
    "    map_ls_value = dict(zip(ls_value, range(len(ls_value))))\n",
    "    return map_ls_value"
   ]
  },
  {
   "cell_type": "code",
   "execution_count": 16,
   "id": "be654792-47f1-4180-87e7-62e7b046f86b",
   "metadata": {},
   "outputs": [],
   "source": [
    "map_rest_name = createId(df_rest_full, \"rest_name\")\n",
    "df_rest_full[\"rest_id\"] = df_rest_full.rest_name.map(map_rest_name)"
   ]
  },
  {
   "cell_type": "code",
   "execution_count": 17,
   "id": "1e981701-ba66-4e3c-9230-179a0ca6e5aa",
   "metadata": {},
   "outputs": [],
   "source": [
    "df_rest_full.drop_duplicates(inplace=True)"
   ]
  },
  {
   "cell_type": "code",
   "execution_count": 18,
   "id": "3460cd5b-ea48-432c-a4a9-bb2031b351ca",
   "metadata": {},
   "outputs": [
    {
     "data": {
      "text/html": [
       "<div>\n",
       "<style scoped>\n",
       "    .dataframe tbody tr th:only-of-type {\n",
       "        vertical-align: middle;\n",
       "    }\n",
       "\n",
       "    .dataframe tbody tr th {\n",
       "        vertical-align: top;\n",
       "    }\n",
       "\n",
       "    .dataframe thead th {\n",
       "        text-align: right;\n",
       "    }\n",
       "</style>\n",
       "<table border=\"1\" class=\"dataframe\">\n",
       "  <thead>\n",
       "    <tr style=\"text-align: right;\">\n",
       "      <th></th>\n",
       "      <th>rest_name</th>\n",
       "      <th>rest_address</th>\n",
       "      <th>time_open</th>\n",
       "      <th>price</th>\n",
       "      <th>avg_score</th>\n",
       "      <th>quality_score</th>\n",
       "      <th>price_score</th>\n",
       "      <th>service_score</th>\n",
       "      <th>space_score</th>\n",
       "      <th>location_score</th>\n",
       "      <th>link</th>\n",
       "      <th>Location</th>\n",
       "      <th>Cate</th>\n",
       "      <th>rest_id</th>\n",
       "    </tr>\n",
       "  </thead>\n",
       "  <tbody>\n",
       "    <tr>\n",
       "      <th>6790</th>\n",
       "      <td>Đà Lạt Phố Cafe - Trường Sơn</td>\n",
       "      <td>N40 Trường Sơn, P.15, Quận 10, TP. HCM</td>\n",
       "      <td>07:00 - 22:00</td>\n",
       "      <td>20.000 - 80.000</td>\n",
       "      <td>7.2</td>\n",
       "      <td>6.6</td>\n",
       "      <td>6.6</td>\n",
       "      <td>7.2</td>\n",
       "      <td>8.2</td>\n",
       "      <td>7.4</td>\n",
       "      <td>https://www.foody.vn/ho-chi-minh/da-lat-pho-ca...</td>\n",
       "      <td>TPHCM</td>\n",
       "      <td>Cafe</td>\n",
       "      <td>1198</td>\n",
       "    </tr>\n",
       "    <tr>\n",
       "      <th>6791</th>\n",
       "      <td>Đà Lạt Phố Cafe - Nguyễn Thị Minh Khai</td>\n",
       "      <td>306 Nguyễn Thị Minh Khai, Quận 3, TP. HCM</td>\n",
       "      <td>Đang mở cửa  Cả ngày | 07:00 - 23:00</td>\n",
       "      <td>50.000 - 80.000</td>\n",
       "      <td>6.4</td>\n",
       "      <td>5.6</td>\n",
       "      <td>5.6</td>\n",
       "      <td>5.9</td>\n",
       "      <td>7.7</td>\n",
       "      <td>7.4</td>\n",
       "      <td>https://www.foody.vn/ho-chi-minh/da-lat-pho-ca...</td>\n",
       "      <td>TPHCM</td>\n",
       "      <td>Cafe</td>\n",
       "      <td>166</td>\n",
       "    </tr>\n",
       "    <tr>\n",
       "      <th>6792</th>\n",
       "      <td>Đà Lạt Phố Cafe - Lữ Gia</td>\n",
       "      <td>70 Lữ Gia, Quận 11, TP. HCM</td>\n",
       "      <td>07:00 - 22:00</td>\n",
       "      <td>20.000 - 80.000</td>\n",
       "      <td>6.8</td>\n",
       "      <td>6.4</td>\n",
       "      <td>6.0</td>\n",
       "      <td>6.6</td>\n",
       "      <td>7.6</td>\n",
       "      <td>7.4</td>\n",
       "      <td>https://www.foody.vn/ho-chi-minh/da-lat-pho-ca...</td>\n",
       "      <td>TPHCM</td>\n",
       "      <td>Cafe</td>\n",
       "      <td>3530</td>\n",
       "    </tr>\n",
       "  </tbody>\n",
       "</table>\n",
       "</div>"
      ],
      "text/plain": [
       "                                   rest_name  \\\n",
       "6790            Đà Lạt Phố Cafe - Trường Sơn   \n",
       "6791  Đà Lạt Phố Cafe - Nguyễn Thị Minh Khai   \n",
       "6792                Đà Lạt Phố Cafe - Lữ Gia   \n",
       "\n",
       "                                   rest_address  \\\n",
       "6790     N40 Trường Sơn, P.15, Quận 10, TP. HCM   \n",
       "6791  306 Nguyễn Thị Minh Khai, Quận 3, TP. HCM   \n",
       "6792                70 Lữ Gia, Quận 11, TP. HCM   \n",
       "\n",
       "                                 time_open            price avg_score  \\\n",
       "6790                         07:00 - 22:00  20.000 - 80.000       7.2   \n",
       "6791  Đang mở cửa  Cả ngày | 07:00 - 23:00  50.000 - 80.000       6.4   \n",
       "6792                         07:00 - 22:00  20.000 - 80.000       6.8   \n",
       "\n",
       "     quality_score price_score service_score space_score location_score  \\\n",
       "6790           6.6         6.6           7.2         8.2            7.4   \n",
       "6791           5.6         5.6           5.9         7.7            7.4   \n",
       "6792           6.4         6.0           6.6         7.6            7.4   \n",
       "\n",
       "                                                   link Location  Cate  \\\n",
       "6790  https://www.foody.vn/ho-chi-minh/da-lat-pho-ca...    TPHCM  Cafe   \n",
       "6791  https://www.foody.vn/ho-chi-minh/da-lat-pho-ca...    TPHCM  Cafe   \n",
       "6792  https://www.foody.vn/ho-chi-minh/da-lat-pho-ca...    TPHCM  Cafe   \n",
       "\n",
       "      rest_id  \n",
       "6790     1198  \n",
       "6791      166  \n",
       "6792     3530  "
      ]
     },
     "execution_count": 19,
     "metadata": {},
     "output_type": "execute_result"
    }
   ],
   "source": [
    "df_rest_full.tail(3)"
   ]
  },
  {
   "cell_type": "code",
   "execution_count": 21,
   "id": "f7862687-ef4a-4b38-a462-82321131a9eb",
   "metadata": {},
   "outputs": [],
   "source": [
    "df_rest_full.to_parquet(\"data/organized/restaurants.pq\", index=False)"
   ]
  },
  {
   "cell_type": "markdown",
   "id": "75bb4c66-658b-43e4-b109-8e229fa04554",
   "metadata": {},
   "source": [
    "## 3. meals.csv"
   ]
  },
  {
   "cell_type": "code",
   "execution_count": 23,
   "id": "711ddaef-0404-4eb5-9fdd-3cd2f1f838f6",
   "metadata": {},
   "outputs": [],
   "source": [
    " # df_meals = pd.read_csv(\"data/raw/data_food_info.csv\")"
   ]
  },
  {
   "cell_type": "code",
   "execution_count": 13,
   "id": "ea09a64c-d5d1-4c3c-95f8-71d91966cc16",
   "metadata": {},
   "outputs": [],
   "source": [
    "df_meals.rename(columns={\"link_rest\": \"link\", \"name_food\": \"food_name\", \"price_food\": \"food_price\" }, inplace=True)"
   ]
  },
  {
   "cell_type": "code",
   "execution_count": 14,
   "id": "7c9b145e-0248-45df-affc-2a23fd8c0393",
   "metadata": {},
   "outputs": [
    {
     "data": {
      "text/html": [
       "<div>\n",
       "<style scoped>\n",
       "    .dataframe tbody tr th:only-of-type {\n",
       "        vertical-align: middle;\n",
       "    }\n",
       "\n",
       "    .dataframe tbody tr th {\n",
       "        vertical-align: top;\n",
       "    }\n",
       "\n",
       "    .dataframe thead th {\n",
       "        text-align: right;\n",
       "    }\n",
       "</style>\n",
       "<table border=\"1\" class=\"dataframe\">\n",
       "  <thead>\n",
       "    <tr style=\"text-align: right;\">\n",
       "      <th></th>\n",
       "      <th>food_name</th>\n",
       "      <th>food_price</th>\n",
       "      <th>link</th>\n",
       "    </tr>\n",
       "  </thead>\n",
       "  <tbody>\n",
       "    <tr>\n",
       "      <th>3734</th>\n",
       "      <td>Bánh Mì Chả Cá Nóng + Pepsi</td>\n",
       "      <td>33000.0</td>\n",
       "      <td>https://www.foody.vn/ho-chi-minh/banh-mi-ma-ha...</td>\n",
       "    </tr>\n",
       "    <tr>\n",
       "      <th>1748</th>\n",
       "      <td>Trà Lài Sữa Matcha</td>\n",
       "      <td>35000.0</td>\n",
       "      <td>https://www.foody.vn/ho-chi-minh/bun-cay-thai-...</td>\n",
       "    </tr>\n",
       "    <tr>\n",
       "      <th>3828</th>\n",
       "      <td>Set Combo 3</td>\n",
       "      <td>245000.0</td>\n",
       "      <td>https://www.foody.vn/ho-chi-minh/street-food-g...</td>\n",
       "    </tr>\n",
       "  </tbody>\n",
       "</table>\n",
       "</div>"
      ],
      "text/plain": [
       "                        food_name  food_price  \\\n",
       "3734  Bánh Mì Chả Cá Nóng + Pepsi     33000.0   \n",
       "1748           Trà Lài Sữa Matcha     35000.0   \n",
       "3828                  Set Combo 3    245000.0   \n",
       "\n",
       "                                                   link  \n",
       "3734  https://www.foody.vn/ho-chi-minh/banh-mi-ma-ha...  \n",
       "1748  https://www.foody.vn/ho-chi-minh/bun-cay-thai-...  \n",
       "3828  https://www.foody.vn/ho-chi-minh/street-food-g...  "
      ]
     },
     "execution_count": 14,
     "metadata": {},
     "output_type": "execute_result"
    }
   ],
   "source": [
    "df_meals.sample(3)"
   ]
  },
  {
   "cell_type": "code",
   "execution_count": 15,
   "id": "a0589903-9a76-42be-a08e-3ffb77d2df12",
   "metadata": {},
   "outputs": [],
   "source": [
    "df_meals = df_meals.merge(df_rest_full[[\"rest_id\", \"link\"]], how=\"inner\", on=\"link\")"
   ]
  },
  {
   "cell_type": "code",
   "execution_count": 16,
   "id": "edf44856-e159-415b-ab86-0dfab2e4875e",
   "metadata": {},
   "outputs": [],
   "source": [
    "map_food_name = createId(df_meals, \"food_name\")\n",
    "df_meals[\"food_id\"] = df_meals.food_name.map(map_food_name)"
   ]
  },
  {
   "cell_type": "code",
   "execution_count": 17,
   "id": "9ce96fda-e85e-408d-bdb7-9c471e719baa",
   "metadata": {},
   "outputs": [],
   "source": [
    "df_meals = df_meals[[\"food_id\", \"rest_id\", \"food_name\", \"food_price\"]]"
   ]
  },
  {
   "cell_type": "code",
   "execution_count": 18,
   "id": "60063b2e-6de9-4421-90fa-3d079f516474",
   "metadata": {},
   "outputs": [],
   "source": [
    "df_meals.drop_duplicates(inplace=True)"
   ]
  },
  {
   "cell_type": "code",
   "execution_count": 19,
   "id": "4079f174-b498-449e-b766-f91f2f115e14",
   "metadata": {},
   "outputs": [
    {
     "data": {
      "text/html": [
       "<div>\n",
       "<style scoped>\n",
       "    .dataframe tbody tr th:only-of-type {\n",
       "        vertical-align: middle;\n",
       "    }\n",
       "\n",
       "    .dataframe tbody tr th {\n",
       "        vertical-align: top;\n",
       "    }\n",
       "\n",
       "    .dataframe thead th {\n",
       "        text-align: right;\n",
       "    }\n",
       "</style>\n",
       "<table border=\"1\" class=\"dataframe\">\n",
       "  <thead>\n",
       "    <tr style=\"text-align: right;\">\n",
       "      <th></th>\n",
       "      <th>food_id</th>\n",
       "      <th>rest_id</th>\n",
       "      <th>food_name</th>\n",
       "      <th>food_price</th>\n",
       "    </tr>\n",
       "  </thead>\n",
       "  <tbody>\n",
       "    <tr>\n",
       "      <th>0</th>\n",
       "      <td>607</td>\n",
       "      <td>1008</td>\n",
       "      <td>Tôm Viên Hạnh Nhân</td>\n",
       "      <td>68000.0</td>\n",
       "    </tr>\n",
       "    <tr>\n",
       "      <th>1</th>\n",
       "      <td>1798</td>\n",
       "      <td>1008</td>\n",
       "      <td>Bánh Cuốn X.O Sò Điệp Khô</td>\n",
       "      <td>86000.0</td>\n",
       "    </tr>\n",
       "    <tr>\n",
       "      <th>2</th>\n",
       "      <td>1454</td>\n",
       "      <td>1008</td>\n",
       "      <td>Tổ Chim Chiên Xù</td>\n",
       "      <td>60000.0</td>\n",
       "    </tr>\n",
       "    <tr>\n",
       "      <th>3</th>\n",
       "      <td>1447</td>\n",
       "      <td>1008</td>\n",
       "      <td>Bánh Nướng Phô Mai</td>\n",
       "      <td>48000.0</td>\n",
       "    </tr>\n",
       "    <tr>\n",
       "      <th>4</th>\n",
       "      <td>110</td>\n",
       "      <td>1008</td>\n",
       "      <td>Há Cảo Hải Sản Dát Vàng</td>\n",
       "      <td>99000.0</td>\n",
       "    </tr>\n",
       "    <tr>\n",
       "      <th>...</th>\n",
       "      <td>...</td>\n",
       "      <td>...</td>\n",
       "      <td>...</td>\n",
       "      <td>...</td>\n",
       "    </tr>\n",
       "    <tr>\n",
       "      <th>4500</th>\n",
       "      <td>1683</td>\n",
       "      <td>974</td>\n",
       "      <td>Trà sữa Matcha</td>\n",
       "      <td>25000.0</td>\n",
       "    </tr>\n",
       "    <tr>\n",
       "      <th>4501</th>\n",
       "      <td>563</td>\n",
       "      <td>220</td>\n",
       "      <td>Sữa chua lắc Dâu</td>\n",
       "      <td>24000.0</td>\n",
       "    </tr>\n",
       "    <tr>\n",
       "      <th>4502</th>\n",
       "      <td>1543</td>\n",
       "      <td>220</td>\n",
       "      <td>Sữa chua lắc Xoài</td>\n",
       "      <td>24000.0</td>\n",
       "    </tr>\n",
       "    <tr>\n",
       "      <th>4503</th>\n",
       "      <td>777</td>\n",
       "      <td>220</td>\n",
       "      <td>Sữa chua lắc Đào</td>\n",
       "      <td>24000.0</td>\n",
       "    </tr>\n",
       "    <tr>\n",
       "      <th>4504</th>\n",
       "      <td>714</td>\n",
       "      <td>220</td>\n",
       "      <td>Sữa Chua Lắc Ổi Hồng</td>\n",
       "      <td>24000.0</td>\n",
       "    </tr>\n",
       "  </tbody>\n",
       "</table>\n",
       "<p>4109 rows × 4 columns</p>\n",
       "</div>"
      ],
      "text/plain": [
       "      food_id  rest_id                  food_name  food_price\n",
       "0         607     1008         Tôm Viên Hạnh Nhân     68000.0\n",
       "1        1798     1008  Bánh Cuốn X.O Sò Điệp Khô     86000.0\n",
       "2        1454     1008           Tổ Chim Chiên Xù     60000.0\n",
       "3        1447     1008         Bánh Nướng Phô Mai     48000.0\n",
       "4         110     1008    Há Cảo Hải Sản Dát Vàng     99000.0\n",
       "...       ...      ...                        ...         ...\n",
       "4500     1683      974             Trà sữa Matcha     25000.0\n",
       "4501      563      220           Sữa chua lắc Dâu     24000.0\n",
       "4502     1543      220          Sữa chua lắc Xoài     24000.0\n",
       "4503      777      220           Sữa chua lắc Đào     24000.0\n",
       "4504      714      220       Sữa Chua Lắc Ổi Hồng     24000.0\n",
       "\n",
       "[4109 rows x 4 columns]"
      ]
     },
     "execution_count": 19,
     "metadata": {},
     "output_type": "execute_result"
    }
   ],
   "source": [
    "df_meals"
   ]
  },
  {
   "cell_type": "code",
   "execution_count": 20,
   "id": "d78ebf61-f86c-46c6-ac33-6b79c12ace54",
   "metadata": {},
   "outputs": [],
   "source": [
    "df_meals.to_csv(\"data/organized/meals.csv\", index=False)"
   ]
  },
  {
   "cell_type": "markdown",
   "id": "cd0f34cf-8342-4881-aceb-4a6bb1b3b36e",
   "metadata": {},
   "source": [
    "## 4. comments.csv"
   ]
  },
  {
   "cell_type": "markdown",
   "id": "9fe67e8e-605a-4fe3-8624-5196dd4f0d1a",
   "metadata": {},
   "source": [
    "### 4.1 users.csv"
   ]
  },
  {
   "cell_type": "code",
   "execution_count": 24,
   "id": "c434b15d-43cd-4b90-86dc-c2c69c4ac859",
   "metadata": {},
   "outputs": [],
   "source": [
    " df_ratings = pd.read_csv(\"data/raw/data_HN_HCM_step_3_userInfo_20221128.csv\")"
   ]
  },
  {
   "cell_type": "code",
   "execution_count": 25,
   "id": "89736a98-f6d0-48d7-9118-984f8e49e00e",
   "metadata": {},
   "outputs": [
    {
     "data": {
      "text/html": [
       "<div>\n",
       "<style scoped>\n",
       "    .dataframe tbody tr th:only-of-type {\n",
       "        vertical-align: middle;\n",
       "    }\n",
       "\n",
       "    .dataframe tbody tr th {\n",
       "        vertical-align: top;\n",
       "    }\n",
       "\n",
       "    .dataframe thead th {\n",
       "        text-align: right;\n",
       "    }\n",
       "</style>\n",
       "<table border=\"1\" class=\"dataframe\">\n",
       "  <thead>\n",
       "    <tr style=\"text-align: right;\">\n",
       "      <th></th>\n",
       "      <th>cmt</th>\n",
       "      <th>user_link</th>\n",
       "      <th>device_user</th>\n",
       "      <th>time</th>\n",
       "      <th>rating_score</th>\n",
       "      <th>user_name</th>\n",
       "      <th>link_rest</th>\n",
       "    </tr>\n",
       "  </thead>\n",
       "  <tbody>\n",
       "    <tr>\n",
       "      <th>48176</th>\n",
       "      <td>A</td>\n",
       "      <td>https://www.foody.vn/thanh-vien/foodee_0c9r3kp0</td>\n",
       "      <td>via MobileWeb</td>\n",
       "      <td>30/6/2022 20:30</td>\n",
       "      <td>10.0</td>\n",
       "      <td>Từ</td>\n",
       "      <td>https://www.foody.vn/ho-chi-minh/gogi-house-qu...</td>\n",
       "    </tr>\n",
       "    <tr>\n",
       "      <th>61117</th>\n",
       "      <td>Mình đặt 1 lẩu cà kèo nhỏ, 1 bún gạo xào thập ...</td>\n",
       "      <td>https://www.foody.vn/thanh-vien/onlyone.love</td>\n",
       "      <td>via iPhone</td>\n",
       "      <td>14/6/2019 19:17</td>\n",
       "      <td>3.8</td>\n",
       "      <td>Lê Hậu</td>\n",
       "      <td>https://www.foody.vn/ho-chi-minh/lau-ca-keo-ba...</td>\n",
       "    </tr>\n",
       "    <tr>\n",
       "      <th>30399</th>\n",
       "      <td>Hôm bữa mk có gọi ship bánh mỳ của savor về ăn...</td>\n",
       "      <td>https://www.foody.vn/thanh-vien/muom0611</td>\n",
       "      <td>via Android</td>\n",
       "      <td>31/10/2019 13:40</td>\n",
       "      <td>6.4</td>\n",
       "      <td>Mai Hươngg</td>\n",
       "      <td>https://www.foody.vn/ha-noi/savor-banh-mi-xoi-...</td>\n",
       "    </tr>\n",
       "  </tbody>\n",
       "</table>\n",
       "</div>"
      ],
      "text/plain": [
       "                                                     cmt  \\\n",
       "48176                                                  A   \n",
       "61117  Mình đặt 1 lẩu cà kèo nhỏ, 1 bún gạo xào thập ...   \n",
       "30399  Hôm bữa mk có gọi ship bánh mỳ của savor về ăn...   \n",
       "\n",
       "                                             user_link    device_user  \\\n",
       "48176  https://www.foody.vn/thanh-vien/foodee_0c9r3kp0  via MobileWeb   \n",
       "61117     https://www.foody.vn/thanh-vien/onlyone.love     via iPhone   \n",
       "30399         https://www.foody.vn/thanh-vien/muom0611    via Android   \n",
       "\n",
       "                   time  rating_score   user_name  \\\n",
       "48176   30/6/2022 20:30          10.0          Từ   \n",
       "61117   14/6/2019 19:17           3.8      Lê Hậu   \n",
       "30399  31/10/2019 13:40           6.4  Mai Hươngg   \n",
       "\n",
       "                                               link_rest  \n",
       "48176  https://www.foody.vn/ho-chi-minh/gogi-house-qu...  \n",
       "61117  https://www.foody.vn/ho-chi-minh/lau-ca-keo-ba...  \n",
       "30399  https://www.foody.vn/ha-noi/savor-banh-mi-xoi-...  "
      ]
     },
     "execution_count": 25,
     "metadata": {},
     "output_type": "execute_result"
    }
   ],
   "source": [
    "df_ratings.sample(3)"
   ]
  },
  {
   "cell_type": "code",
   "execution_count": 26,
   "id": "43d5ab63-19f7-46e5-b3e0-fb8dc5b62569",
   "metadata": {},
   "outputs": [],
   "source": [
    "df_users = df_ratings[[\"user_name\", \"user_link\"]]"
   ]
  },
  {
   "cell_type": "code",
   "execution_count": 27,
   "id": "48760dde-5aa3-4f88-93c3-1958f93d2971",
   "metadata": {},
   "outputs": [
    {
     "name": "stderr",
     "output_type": "stream",
     "text": [
      "/home/henry/miniconda3/envs/nlpvenv/lib/python3.7/site-packages/ipykernel_launcher.py:2: SettingWithCopyWarning: \n",
      "A value is trying to be set on a copy of a slice from a DataFrame.\n",
      "Try using .loc[row_indexer,col_indexer] = value instead\n",
      "\n",
      "See the caveats in the documentation: https://pandas.pydata.org/pandas-docs/stable/user_guide/indexing.html#returning-a-view-versus-a-copy\n",
      "  \n"
     ]
    }
   ],
   "source": [
    "map_userId = createId(df_users, \"user_name\")\n",
    "df_users[\"user_id\"] = df_users.user_name.map(map_userId)"
   ]
  },
  {
   "cell_type": "code",
   "execution_count": 28,
   "id": "33bbe4f1-a744-41ca-9bfd-214b279d35d0",
   "metadata": {},
   "outputs": [
    {
     "name": "stderr",
     "output_type": "stream",
     "text": [
      "/home/henry/miniconda3/envs/nlpvenv/lib/python3.7/site-packages/pandas/util/_decorators.py:311: SettingWithCopyWarning: \n",
      "A value is trying to be set on a copy of a slice from a DataFrame\n",
      "\n",
      "See the caveats in the documentation: https://pandas.pydata.org/pandas-docs/stable/user_guide/indexing.html#returning-a-view-versus-a-copy\n",
      "  return func(*args, **kwargs)\n"
     ]
    }
   ],
   "source": [
    "df_users.drop_duplicates(inplace=True)"
   ]
  },
  {
   "cell_type": "code",
   "execution_count": 39,
   "id": "e01c2aab-aadc-433d-959a-94427e393e8a",
   "metadata": {},
   "outputs": [
    {
     "name": "stderr",
     "output_type": "stream",
     "text": [
      "/home/henry/miniconda3/envs/nlpvenv/lib/python3.7/site-packages/pandas/util/_decorators.py:311: SettingWithCopyWarning: \n",
      "A value is trying to be set on a copy of a slice from a DataFrame\n",
      "\n",
      "See the caveats in the documentation: https://pandas.pydata.org/pandas-docs/stable/user_guide/indexing.html#returning-a-view-versus-a-copy\n",
      "  return func(*args, **kwargs)\n"
     ]
    }
   ],
   "source": [
    "df_users.drop_duplicates(inplace=True)"
   ]
  },
  {
   "cell_type": "code",
   "execution_count": 40,
   "id": "5eadfa6d-1e56-44c3-8851-bc31630d9577",
   "metadata": {},
   "outputs": [
    {
     "data": {
      "text/html": [
       "<div>\n",
       "<style scoped>\n",
       "    .dataframe tbody tr th:only-of-type {\n",
       "        vertical-align: middle;\n",
       "    }\n",
       "\n",
       "    .dataframe tbody tr th {\n",
       "        vertical-align: top;\n",
       "    }\n",
       "\n",
       "    .dataframe thead th {\n",
       "        text-align: right;\n",
       "    }\n",
       "</style>\n",
       "<table border=\"1\" class=\"dataframe\">\n",
       "  <thead>\n",
       "    <tr style=\"text-align: right;\">\n",
       "      <th></th>\n",
       "      <th>user_name</th>\n",
       "      <th>user_link</th>\n",
       "      <th>user_id</th>\n",
       "    </tr>\n",
       "  </thead>\n",
       "  <tbody>\n",
       "    <tr>\n",
       "      <th>83974</th>\n",
       "      <td>Foodee_6tvgeatb</td>\n",
       "      <td>https://www.foody.vn/thanh-vien/foodee_6tvgeatb</td>\n",
       "      <td>14219</td>\n",
       "    </tr>\n",
       "    <tr>\n",
       "      <th>83977</th>\n",
       "      <td>Quyên Huỳnh</td>\n",
       "      <td>https://www.foody.vn/thanh-vien/foodee_6xro13h6</td>\n",
       "      <td>21695</td>\n",
       "    </tr>\n",
       "    <tr>\n",
       "      <th>83978</th>\n",
       "      <td>Hương Đỗ</td>\n",
       "      <td>https://www.foody.vn/thanh-vien/dothihuong1303</td>\n",
       "      <td>16855</td>\n",
       "    </tr>\n",
       "  </tbody>\n",
       "</table>\n",
       "</div>"
      ],
      "text/plain": [
       "             user_name                                        user_link  \\\n",
       "83974  Foodee_6tvgeatb  https://www.foody.vn/thanh-vien/foodee_6tvgeatb   \n",
       "83977      Quyên Huỳnh  https://www.foody.vn/thanh-vien/foodee_6xro13h6   \n",
       "83978         Hương Đỗ   https://www.foody.vn/thanh-vien/dothihuong1303   \n",
       "\n",
       "       user_id  \n",
       "83974    14219  \n",
       "83977    21695  \n",
       "83978    16855  "
      ]
     },
     "execution_count": 40,
     "metadata": {},
     "output_type": "execute_result"
    }
   ],
   "source": [
    "df_users.tail(3)"
   ]
  },
  {
   "cell_type": "code",
   "execution_count": 41,
   "id": "97b04e40-d560-49c2-a496-bdd830ebb1f5",
   "metadata": {},
   "outputs": [],
   "source": [
    "df_users.to_parquet(\"data/organized/users.pq\", index=False)"
   ]
  },
  {
   "cell_type": "markdown",
   "id": "52cf42e4-0157-48e8-8344-bfb716520da3",
   "metadata": {},
   "source": [
    "### 4.2 ratings.csv"
   ]
  },
  {
   "cell_type": "code",
   "execution_count": 31,
   "id": "51f74def-cf0c-4e21-882d-91c965d818fe",
   "metadata": {},
   "outputs": [],
   "source": [
    "df_ratings.rename(columns={\"link_rest\": \"link\"}, inplace=True)"
   ]
  },
  {
   "cell_type": "code",
   "execution_count": 33,
   "id": "d00c25b8-a03a-41be-b137-dd8aaf7e801b",
   "metadata": {},
   "outputs": [
    {
     "data": {
      "text/html": [
       "<div>\n",
       "<style scoped>\n",
       "    .dataframe tbody tr th:only-of-type {\n",
       "        vertical-align: middle;\n",
       "    }\n",
       "\n",
       "    .dataframe tbody tr th {\n",
       "        vertical-align: top;\n",
       "    }\n",
       "\n",
       "    .dataframe thead th {\n",
       "        text-align: right;\n",
       "    }\n",
       "</style>\n",
       "<table border=\"1\" class=\"dataframe\">\n",
       "  <thead>\n",
       "    <tr style=\"text-align: right;\">\n",
       "      <th></th>\n",
       "      <th>cmt</th>\n",
       "      <th>user_link</th>\n",
       "      <th>device_user</th>\n",
       "      <th>time</th>\n",
       "      <th>rating_score</th>\n",
       "      <th>user_name</th>\n",
       "      <th>link</th>\n",
       "    </tr>\n",
       "  </thead>\n",
       "  <tbody>\n",
       "    <tr>\n",
       "      <th>83981</th>\n",
       "      <td>Hôm nay mình với mấy chị đồng nghiệp order bán...</td>\n",
       "      <td>https://www.foody.vn/thanh-vien/quynhmai2306</td>\n",
       "      <td>via iPhone</td>\n",
       "      <td>12/5/2021 20:04</td>\n",
       "      <td>9.0</td>\n",
       "      <td>Quỳnh Mai</td>\n",
       "      <td>https://www.foody.vn/ho-chi-minh/quan-chay-sala</td>\n",
       "    </tr>\n",
       "    <tr>\n",
       "      <th>83982</th>\n",
       "      <td>Ko bỏ muỗng đũa, đặt mì quảng chay có tí xíu m...</td>\n",
       "      <td>https://www.foody.vn/thanh-vien/foodee_thw809fs</td>\n",
       "      <td>via iPhone</td>\n",
       "      <td>12/5/2021 13:28</td>\n",
       "      <td>1.0</td>\n",
       "      <td>Thanh</td>\n",
       "      <td>https://www.foody.vn/ho-chi-minh/quan-chay-sala</td>\n",
       "    </tr>\n",
       "    <tr>\n",
       "      <th>83983</th>\n",
       "      <td>Hôm nay mình đặt Cơm tấm chay, Bánh canh chay ...</td>\n",
       "      <td>https://www.foody.vn/thanh-vien/quynhmai2306</td>\n",
       "      <td>via iPhone</td>\n",
       "      <td>26/4/2021 20:06</td>\n",
       "      <td>9.0</td>\n",
       "      <td>Quỳnh Mai</td>\n",
       "      <td>https://www.foody.vn/ho-chi-minh/quan-chay-sala</td>\n",
       "    </tr>\n",
       "  </tbody>\n",
       "</table>\n",
       "</div>"
      ],
      "text/plain": [
       "                                                     cmt  \\\n",
       "83981  Hôm nay mình với mấy chị đồng nghiệp order bán...   \n",
       "83982  Ko bỏ muỗng đũa, đặt mì quảng chay có tí xíu m...   \n",
       "83983  Hôm nay mình đặt Cơm tấm chay, Bánh canh chay ...   \n",
       "\n",
       "                                             user_link device_user  \\\n",
       "83981     https://www.foody.vn/thanh-vien/quynhmai2306  via iPhone   \n",
       "83982  https://www.foody.vn/thanh-vien/foodee_thw809fs  via iPhone   \n",
       "83983     https://www.foody.vn/thanh-vien/quynhmai2306  via iPhone   \n",
       "\n",
       "                  time  rating_score  user_name  \\\n",
       "83981  12/5/2021 20:04           9.0  Quỳnh Mai   \n",
       "83982  12/5/2021 13:28           1.0      Thanh   \n",
       "83983  26/4/2021 20:06           9.0  Quỳnh Mai   \n",
       "\n",
       "                                                  link  \n",
       "83981  https://www.foody.vn/ho-chi-minh/quan-chay-sala  \n",
       "83982  https://www.foody.vn/ho-chi-minh/quan-chay-sala  \n",
       "83983  https://www.foody.vn/ho-chi-minh/quan-chay-sala  "
      ]
     },
     "execution_count": 33,
     "metadata": {},
     "output_type": "execute_result"
    }
   ],
   "source": [
    "df_ratings.tail(3)"
   ]
  },
  {
   "cell_type": "code",
   "execution_count": 34,
   "id": "2802ff0c-9ff5-4647-b889-d2dc5b3b52a7",
   "metadata": {},
   "outputs": [],
   "source": [
    "df_ratings = df_ratings.merge(df_users[[\"user_name\", \"user_id\"]], how=\"inner\", on=\"user_name\")"
   ]
  },
  {
   "cell_type": "code",
   "execution_count": 35,
   "id": "34e821c5-5226-4325-ba4c-7b78201891d5",
   "metadata": {},
   "outputs": [],
   "source": [
    "df_ratings = df_ratings.merge(df_rest_full[[\"rest_id\", \"link\"]], how=\"inner\", on=\"link\")"
   ]
  },
  {
   "cell_type": "code",
   "execution_count": 36,
   "id": "68c11337-ce3e-4bd5-bf14-ae47601a18f6",
   "metadata": {},
   "outputs": [],
   "source": [
    "df_ratings_org = df_ratings[[\"user_id\", \"rest_id\", \"time\", \"device_user\", \"rating_score\", \"cmt\"]]"
   ]
  },
  {
   "cell_type": "code",
   "execution_count": 37,
   "id": "c3ef3eec-73b6-4b6c-b267-acd3781a0203",
   "metadata": {},
   "outputs": [
    {
     "name": "stderr",
     "output_type": "stream",
     "text": [
      "/home/henry/miniconda3/envs/nlpvenv/lib/python3.7/site-packages/pandas/util/_decorators.py:311: SettingWithCopyWarning: \n",
      "A value is trying to be set on a copy of a slice from a DataFrame\n",
      "\n",
      "See the caveats in the documentation: https://pandas.pydata.org/pandas-docs/stable/user_guide/indexing.html#returning-a-view-versus-a-copy\n",
      "  return func(*args, **kwargs)\n"
     ]
    }
   ],
   "source": [
    "df_ratings_org.drop_duplicates(inplace=True)"
   ]
  },
  {
   "cell_type": "code",
   "execution_count": 38,
   "id": "5416fd36-c328-4f04-91fb-88e973f04c07",
   "metadata": {},
   "outputs": [
    {
     "data": {
      "text/html": [
       "<div>\n",
       "<style scoped>\n",
       "    .dataframe tbody tr th:only-of-type {\n",
       "        vertical-align: middle;\n",
       "    }\n",
       "\n",
       "    .dataframe tbody tr th {\n",
       "        vertical-align: top;\n",
       "    }\n",
       "\n",
       "    .dataframe thead th {\n",
       "        text-align: right;\n",
       "    }\n",
       "</style>\n",
       "<table border=\"1\" class=\"dataframe\">\n",
       "  <thead>\n",
       "    <tr style=\"text-align: right;\">\n",
       "      <th></th>\n",
       "      <th>user_id</th>\n",
       "      <th>rest_id</th>\n",
       "      <th>time</th>\n",
       "      <th>device_user</th>\n",
       "      <th>rating_score</th>\n",
       "      <th>cmt</th>\n",
       "    </tr>\n",
       "  </thead>\n",
       "  <tbody>\n",
       "    <tr>\n",
       "      <th>0</th>\n",
       "      <td>26450</td>\n",
       "      <td>3968</td>\n",
       "      <td>29/2/2016 17:49</td>\n",
       "      <td>via Web</td>\n",
       "      <td>8.0</td>\n",
       "      <td>Mình mới đến lại thứ 7 vừa rồi, mình thích nhấ...</td>\n",
       "    </tr>\n",
       "    <tr>\n",
       "      <th>1</th>\n",
       "      <td>4464</td>\n",
       "      <td>3968</td>\n",
       "      <td>27/10/2015 7:49</td>\n",
       "      <td>via iPhone</td>\n",
       "      <td>5.4</td>\n",
       "      <td>Quán này nghỉ vào 14-15 âm hàng tháng. Hôm qua...</td>\n",
       "    </tr>\n",
       "    <tr>\n",
       "      <th>7</th>\n",
       "      <td>11879</td>\n",
       "      <td>3968</td>\n",
       "      <td>30/7/2015 20:15</td>\n",
       "      <td>via Web</td>\n",
       "      <td>7.2</td>\n",
       "      <td>Mình ăn ở đây từ cái hồi mới nghe danh bên địa...</td>\n",
       "    </tr>\n",
       "    <tr>\n",
       "      <th>8</th>\n",
       "      <td>11879</td>\n",
       "      <td>3968</td>\n",
       "      <td>26/5/2014 22:02</td>\n",
       "      <td>via Web</td>\n",
       "      <td>5.6</td>\n",
       "      <td>quán ruột sau khi ăn ở bên 533/59 ốc luộc huỳn...</td>\n",
       "    </tr>\n",
       "    <tr>\n",
       "      <th>9</th>\n",
       "      <td>16010</td>\n",
       "      <td>3968</td>\n",
       "      <td>14/7/2015 22:49</td>\n",
       "      <td>via iPhone</td>\n",
       "      <td>6.2</td>\n",
       "      <td>Lần đầu đi với đám bạn tới đây. Đường đi đúng ...</td>\n",
       "    </tr>\n",
       "    <tr>\n",
       "      <th>...</th>\n",
       "      <td>...</td>\n",
       "      <td>...</td>\n",
       "      <td>...</td>\n",
       "      <td>...</td>\n",
       "      <td>...</td>\n",
       "      <td>...</td>\n",
       "    </tr>\n",
       "    <tr>\n",
       "      <th>355873</th>\n",
       "      <td>18939</td>\n",
       "      <td>4803</td>\n",
       "      <td>20/3/2022 20:37</td>\n",
       "      <td>via MobileWeb</td>\n",
       "      <td>2.6</td>\n",
       "      <td>Lừa đảo. Để bảng giá trên bàn, trước cửa nhưng...</td>\n",
       "    </tr>\n",
       "    <tr>\n",
       "      <th>355874</th>\n",
       "      <td>4426</td>\n",
       "      <td>4895</td>\n",
       "      <td>28/5/2022 2:31</td>\n",
       "      <td>via iPhone</td>\n",
       "      <td>2.8</td>\n",
       "      <td>Lần đầu ăn ở chi nhánh này trải nghiệm rất tệ,...</td>\n",
       "    </tr>\n",
       "    <tr>\n",
       "      <th>355875</th>\n",
       "      <td>19840</td>\n",
       "      <td>169</td>\n",
       "      <td>9/11/2022 21:46</td>\n",
       "      <td>via iPhone</td>\n",
       "      <td>2.0</td>\n",
       "      <td>Thái độ nhân viên tốt. NHƯNG:\\n\\n1) Rất nhiều ...</td>\n",
       "    </tr>\n",
       "    <tr>\n",
       "      <th>355876</th>\n",
       "      <td>12883</td>\n",
       "      <td>4128</td>\n",
       "      <td>7/1/2022 16:31</td>\n",
       "      <td>via iPhone</td>\n",
       "      <td>8.8</td>\n",
       "      <td>Các món chay được tuỳ biến theo phong cách tây...</td>\n",
       "    </tr>\n",
       "    <tr>\n",
       "      <th>355877</th>\n",
       "      <td>13675</td>\n",
       "      <td>4128</td>\n",
       "      <td>23/12/2021 21:38</td>\n",
       "      <td>via iPhone</td>\n",
       "      <td>8.2</td>\n",
       "      <td>Đây là một địa điểm tuyệt vời cho những ai muố...</td>\n",
       "    </tr>\n",
       "  </tbody>\n",
       "</table>\n",
       "<p>73717 rows × 6 columns</p>\n",
       "</div>"
      ],
      "text/plain": [
       "        user_id  rest_id              time    device_user  rating_score  \\\n",
       "0         26450     3968   29/2/2016 17:49        via Web           8.0   \n",
       "1          4464     3968   27/10/2015 7:49     via iPhone           5.4   \n",
       "7         11879     3968   30/7/2015 20:15        via Web           7.2   \n",
       "8         11879     3968   26/5/2014 22:02        via Web           5.6   \n",
       "9         16010     3968   14/7/2015 22:49     via iPhone           6.2   \n",
       "...         ...      ...               ...            ...           ...   \n",
       "355873    18939     4803   20/3/2022 20:37  via MobileWeb           2.6   \n",
       "355874     4426     4895    28/5/2022 2:31     via iPhone           2.8   \n",
       "355875    19840      169   9/11/2022 21:46     via iPhone           2.0   \n",
       "355876    12883     4128    7/1/2022 16:31     via iPhone           8.8   \n",
       "355877    13675     4128  23/12/2021 21:38     via iPhone           8.2   \n",
       "\n",
       "                                                      cmt  \n",
       "0       Mình mới đến lại thứ 7 vừa rồi, mình thích nhấ...  \n",
       "1       Quán này nghỉ vào 14-15 âm hàng tháng. Hôm qua...  \n",
       "7       Mình ăn ở đây từ cái hồi mới nghe danh bên địa...  \n",
       "8       quán ruột sau khi ăn ở bên 533/59 ốc luộc huỳn...  \n",
       "9       Lần đầu đi với đám bạn tới đây. Đường đi đúng ...  \n",
       "...                                                   ...  \n",
       "355873  Lừa đảo. Để bảng giá trên bàn, trước cửa nhưng...  \n",
       "355874  Lần đầu ăn ở chi nhánh này trải nghiệm rất tệ,...  \n",
       "355875  Thái độ nhân viên tốt. NHƯNG:\\n\\n1) Rất nhiều ...  \n",
       "355876  Các món chay được tuỳ biến theo phong cách tây...  \n",
       "355877  Đây là một địa điểm tuyệt vời cho những ai muố...  \n",
       "\n",
       "[73717 rows x 6 columns]"
      ]
     },
     "execution_count": 38,
     "metadata": {},
     "output_type": "execute_result"
    }
   ],
   "source": [
    "df_ratings_org"
   ]
  },
  {
   "cell_type": "code",
   "execution_count": 42,
   "id": "039a00e2-18dd-4a66-8030-8f235e727edc",
   "metadata": {},
   "outputs": [],
   "source": [
    "df_ratings_org.to_parquet(\"data/organized/ratings.pq\", index=False)"
   ]
  },
  {
   "cell_type": "code",
   "execution_count": null,
   "id": "77dbca30-dec9-4690-99ce-ec7f666a2fc2",
   "metadata": {},
   "outputs": [],
   "source": []
  }
 ],
 "metadata": {
  "kernelspec": {
   "display_name": "Python 3 (ipykernel)",
   "language": "python",
   "name": "python3"
  },
  "language_info": {
   "codemirror_mode": {
    "name": "ipython",
    "version": 3
   },
   "file_extension": ".py",
   "mimetype": "text/x-python",
   "name": "python",
   "nbconvert_exporter": "python",
   "pygments_lexer": "ipython3",
   "version": "3.7.13"
  }
 },
 "nbformat": 4,
 "nbformat_minor": 5
}
