{
 "cells": [
  {
   "cell_type": "code",
   "execution_count": 1,
   "id": "14b2732d-014a-4a10-89ec-2d8ee59f771e",
   "metadata": {},
   "outputs": [],
   "source": [
    "import pandas as pd\n",
    "import numpy as np"
   ]
  },
  {
   "cell_type": "code",
   "execution_count": 2,
   "id": "70794622-3f56-4195-b23a-e50060700503",
   "metadata": {},
   "outputs": [
    {
     "name": "stdout",
     "output_type": "stream",
     "text": [
      "/home/henry/Desktop/UIT/RecSys/RecSys-Project\n"
     ]
    }
   ],
   "source": [
    "cd .."
   ]
  },
  {
   "cell_type": "code",
   "execution_count": 3,
   "id": "80758a76-70a3-4a67-b769-d6785480f03d",
   "metadata": {},
   "outputs": [],
   "source": [
    "df_rest_info = pd.read_csv(\"data/raw/df_total_4.csv\")\n",
    "df_rest_full_info =  pd.read_csv(\"data/raw/rest_info.csv\")"
   ]
  },
  {
   "cell_type": "markdown",
   "id": "1ab7942e-cb82-47dc-abd9-9898b22b9dd5",
   "metadata": {},
   "source": [
    "## 2. restaurant.csv"
   ]
  },
  {
   "cell_type": "markdown",
   "id": "54556d8a-8b3f-4cb3-a499-40ddf5d5a3f1",
   "metadata": {},
   "source": [
    "### 2.1 Merge files"
   ]
  },
  {
   "cell_type": "code",
   "execution_count": 4,
   "id": "7acfd6f9-7577-4924-82dc-554a98f17b5c",
   "metadata": {},
   "outputs": [
    {
     "data": {
      "text/html": [
       "<div>\n",
       "<style scoped>\n",
       "    .dataframe tbody tr th:only-of-type {\n",
       "        vertical-align: middle;\n",
       "    }\n",
       "\n",
       "    .dataframe tbody tr th {\n",
       "        vertical-align: top;\n",
       "    }\n",
       "\n",
       "    .dataframe thead th {\n",
       "        text-align: right;\n",
       "    }\n",
       "</style>\n",
       "<table border=\"1\" class=\"dataframe\">\n",
       "  <thead>\n",
       "    <tr style=\"text-align: right;\">\n",
       "      <th></th>\n",
       "      <th>Location</th>\n",
       "      <th>Cate</th>\n",
       "      <th>Link_rest</th>\n",
       "    </tr>\n",
       "  </thead>\n",
       "  <tbody>\n",
       "    <tr>\n",
       "      <th>1357</th>\n",
       "      <td>TPHCM</td>\n",
       "      <td>Sang Trong</td>\n",
       "      <td>https://www.foody.vn/ho-chi-minh/lotteria-htv</td>\n",
       "    </tr>\n",
       "    <tr>\n",
       "      <th>1358</th>\n",
       "      <td>TPHCM</td>\n",
       "      <td>Sang Trong</td>\n",
       "      <td>https://www.foody.vn/ho-chi-minh/lotteria-ba-t...</td>\n",
       "    </tr>\n",
       "    <tr>\n",
       "      <th>1359</th>\n",
       "      <td>TPHCM</td>\n",
       "      <td>Sang Trong</td>\n",
       "      <td>https://www.foody.vn/ho-chi-minh/lotteria-thu-duc</td>\n",
       "    </tr>\n",
       "  </tbody>\n",
       "</table>\n",
       "</div>"
      ],
      "text/plain": [
       "     Location        Cate                                          Link_rest\n",
       "1357    TPHCM  Sang Trong      https://www.foody.vn/ho-chi-minh/lotteria-htv\n",
       "1358    TPHCM  Sang Trong  https://www.foody.vn/ho-chi-minh/lotteria-ba-t...\n",
       "1359    TPHCM  Sang Trong  https://www.foody.vn/ho-chi-minh/lotteria-thu-duc"
      ]
     },
     "execution_count": 4,
     "metadata": {},
     "output_type": "execute_result"
    }
   ],
   "source": [
    "df_rest_info.tail(3)"
   ]
  },
  {
   "cell_type": "code",
   "execution_count": 5,
   "id": "824a6cd1-2ead-4735-b45b-735f8f487474",
   "metadata": {},
   "outputs": [],
   "source": [
    "df_rest_info.rename(columns={\"Link_rest\": \"link\"}, inplace=True)"
   ]
  },
  {
   "cell_type": "code",
   "execution_count": 6,
   "id": "fbb070ba-2db2-45e7-8abb-0c63f98a8668",
   "metadata": {},
   "outputs": [
    {
     "data": {
      "text/html": [
       "<div>\n",
       "<style scoped>\n",
       "    .dataframe tbody tr th:only-of-type {\n",
       "        vertical-align: middle;\n",
       "    }\n",
       "\n",
       "    .dataframe tbody tr th {\n",
       "        vertical-align: top;\n",
       "    }\n",
       "\n",
       "    .dataframe thead th {\n",
       "        text-align: right;\n",
       "    }\n",
       "</style>\n",
       "<table border=\"1\" class=\"dataframe\">\n",
       "  <thead>\n",
       "    <tr style=\"text-align: right;\">\n",
       "      <th></th>\n",
       "      <th>rest_name</th>\n",
       "      <th>rest_address</th>\n",
       "      <th>time_open</th>\n",
       "      <th>price</th>\n",
       "      <th>avg_score</th>\n",
       "      <th>quality_score</th>\n",
       "      <th>price_score</th>\n",
       "      <th>service_score</th>\n",
       "      <th>space_score</th>\n",
       "      <th>location_score</th>\n",
       "      <th>link</th>\n",
       "    </tr>\n",
       "  </thead>\n",
       "  <tbody>\n",
       "    <tr>\n",
       "      <th>1357</th>\n",
       "      <td>Lẩu Tươi MK - AEON Mall Bình Tân</td>\n",
       "      <td>Tầng 3,  Tầng 3, Aeon Mall Bình Tân, 1 Đường S...</td>\n",
       "      <td>10:00 - 22:00</td>\n",
       "      <td>200.000 - 300.000</td>\n",
       "      <td>6.9</td>\n",
       "      <td>6.9</td>\n",
       "      <td>6.6</td>\n",
       "      <td>7.2</td>\n",
       "      <td>6.9</td>\n",
       "      <td>7.1</td>\n",
       "      <td>https://www.foody.vn/ho-chi-minh/lau-tuoi-mk-a...</td>\n",
       "    </tr>\n",
       "    <tr>\n",
       "      <th>1358</th>\n",
       "      <td>Lẩu Tươi MK - Vạn Hạnh Mall</td>\n",
       "      <td>Tầng 5,  02 Tầng 5 Vạn Hạnh Mall, 11 Sư Vạn Hạ...</td>\n",
       "      <td>09:00 - 22:00</td>\n",
       "      <td>100.000 - 500.000</td>\n",
       "      <td>6.9</td>\n",
       "      <td>6.9</td>\n",
       "      <td>6.5</td>\n",
       "      <td>6.9</td>\n",
       "      <td>6.7</td>\n",
       "      <td>7.4</td>\n",
       "      <td>https://www.foody.vn/ho-chi-minh/lau-tuoi-mk-v...</td>\n",
       "    </tr>\n",
       "    <tr>\n",
       "      <th>1359</th>\n",
       "      <td>Lẩu Tươi MK - Vincom Landmark 81</td>\n",
       "      <td>Tầng Hầm 1,  Tầng B1 Vincom Landmark 81, 772 Đ...</td>\n",
       "      <td>10:00 - 22:00</td>\n",
       "      <td>200.000 - 330.000</td>\n",
       "      <td>6.4</td>\n",
       "      <td>6.5</td>\n",
       "      <td>6.2</td>\n",
       "      <td>6.2</td>\n",
       "      <td>6.5</td>\n",
       "      <td>6.6</td>\n",
       "      <td>https://www.foody.vn/ho-chi-minh/lau-tuoi-mk-v...</td>\n",
       "    </tr>\n",
       "  </tbody>\n",
       "</table>\n",
       "</div>"
      ],
      "text/plain": [
       "                             rest_name  \\\n",
       "1357  Lẩu Tươi MK - AEON Mall Bình Tân   \n",
       "1358       Lẩu Tươi MK - Vạn Hạnh Mall   \n",
       "1359  Lẩu Tươi MK - Vincom Landmark 81   \n",
       "\n",
       "                                           rest_address      time_open  \\\n",
       "1357  Tầng 3,  Tầng 3, Aeon Mall Bình Tân, 1 Đường S...  10:00 - 22:00   \n",
       "1358  Tầng 5,  02 Tầng 5 Vạn Hạnh Mall, 11 Sư Vạn Hạ...  09:00 - 22:00   \n",
       "1359  Tầng Hầm 1,  Tầng B1 Vincom Landmark 81, 772 Đ...  10:00 - 22:00   \n",
       "\n",
       "                  price avg_score quality_score price_score service_score  \\\n",
       "1357  200.000 - 300.000       6.9           6.9         6.6           7.2   \n",
       "1358  100.000 - 500.000       6.9           6.9         6.5           6.9   \n",
       "1359  200.000 - 330.000       6.4           6.5         6.2           6.2   \n",
       "\n",
       "     space_score location_score  \\\n",
       "1357         6.9            7.1   \n",
       "1358         6.7            7.4   \n",
       "1359         6.5            6.6   \n",
       "\n",
       "                                                   link  \n",
       "1357  https://www.foody.vn/ho-chi-minh/lau-tuoi-mk-a...  \n",
       "1358  https://www.foody.vn/ho-chi-minh/lau-tuoi-mk-v...  \n",
       "1359  https://www.foody.vn/ho-chi-minh/lau-tuoi-mk-v...  "
      ]
     },
     "execution_count": 6,
     "metadata": {},
     "output_type": "execute_result"
    }
   ],
   "source": [
    "df_rest_full_info.tail(3)"
   ]
  },
  {
   "cell_type": "code",
   "execution_count": 7,
   "id": "2ee902be-2467-4dc4-b873-69c530e7e2f7",
   "metadata": {},
   "outputs": [],
   "source": [
    "df_rest_full = df_rest_full_info.merge(df_rest_info, how=\"inner\", on=\"link\")"
   ]
  },
  {
   "cell_type": "code",
   "execution_count": 8,
   "id": "99c3f006-b53a-4b07-a804-99eef7bcb9e3",
   "metadata": {},
   "outputs": [],
   "source": [
    "def createId(df, column):\n",
    "    ls_value = list(set(df[column]))\n",
    "    map_ls_value = dict(zip(ls_value, range(len(ls_value))))\n",
    "    return map_ls_value"
   ]
  },
  {
   "cell_type": "code",
   "execution_count": 9,
   "id": "be654792-47f1-4180-87e7-62e7b046f86b",
   "metadata": {},
   "outputs": [],
   "source": [
    "map_rest_name = createId(df_rest_full, \"rest_name\")\n",
    "df_rest_full[\"rest_id\"] = df_rest_full.rest_name.map(map_rest_name)"
   ]
  },
  {
   "cell_type": "code",
   "execution_count": 10,
   "id": "1e981701-ba66-4e3c-9230-179a0ca6e5aa",
   "metadata": {},
   "outputs": [],
   "source": [
    "df_rest_full.drop_duplicates(inplace=True)"
   ]
  },
  {
   "cell_type": "code",
   "execution_count": 11,
   "id": "f7862687-ef4a-4b38-a462-82321131a9eb",
   "metadata": {},
   "outputs": [],
   "source": [
    "df_rest_full.to_csv(\"data/organized/restaurants.csv\", index=False)"
   ]
  },
  {
   "cell_type": "markdown",
   "id": "75bb4c66-658b-43e4-b109-8e229fa04554",
   "metadata": {},
   "source": [
    "## 3. meals.csv"
   ]
  },
  {
   "cell_type": "code",
   "execution_count": 12,
   "id": "711ddaef-0404-4eb5-9fdd-3cd2f1f838f6",
   "metadata": {},
   "outputs": [],
   "source": [
    " df_meals = pd.read_csv(\"data/raw/data_food_info.csv\")"
   ]
  },
  {
   "cell_type": "code",
   "execution_count": 13,
   "id": "ea09a64c-d5d1-4c3c-95f8-71d91966cc16",
   "metadata": {},
   "outputs": [],
   "source": [
    "df_meals.rename(columns={\"link_rest\": \"link\", \"name_food\": \"food_name\", \"price_food\": \"food_price\" }, inplace=True)"
   ]
  },
  {
   "cell_type": "code",
   "execution_count": 14,
   "id": "7c9b145e-0248-45df-affc-2a23fd8c0393",
   "metadata": {},
   "outputs": [
    {
     "data": {
      "text/html": [
       "<div>\n",
       "<style scoped>\n",
       "    .dataframe tbody tr th:only-of-type {\n",
       "        vertical-align: middle;\n",
       "    }\n",
       "\n",
       "    .dataframe tbody tr th {\n",
       "        vertical-align: top;\n",
       "    }\n",
       "\n",
       "    .dataframe thead th {\n",
       "        text-align: right;\n",
       "    }\n",
       "</style>\n",
       "<table border=\"1\" class=\"dataframe\">\n",
       "  <thead>\n",
       "    <tr style=\"text-align: right;\">\n",
       "      <th></th>\n",
       "      <th>food_name</th>\n",
       "      <th>food_price</th>\n",
       "      <th>link</th>\n",
       "    </tr>\n",
       "  </thead>\n",
       "  <tbody>\n",
       "    <tr>\n",
       "      <th>3734</th>\n",
       "      <td>Bánh Mì Chả Cá Nóng + Pepsi</td>\n",
       "      <td>33000.0</td>\n",
       "      <td>https://www.foody.vn/ho-chi-minh/banh-mi-ma-ha...</td>\n",
       "    </tr>\n",
       "    <tr>\n",
       "      <th>1748</th>\n",
       "      <td>Trà Lài Sữa Matcha</td>\n",
       "      <td>35000.0</td>\n",
       "      <td>https://www.foody.vn/ho-chi-minh/bun-cay-thai-...</td>\n",
       "    </tr>\n",
       "    <tr>\n",
       "      <th>3828</th>\n",
       "      <td>Set Combo 3</td>\n",
       "      <td>245000.0</td>\n",
       "      <td>https://www.foody.vn/ho-chi-minh/street-food-g...</td>\n",
       "    </tr>\n",
       "  </tbody>\n",
       "</table>\n",
       "</div>"
      ],
      "text/plain": [
       "                        food_name  food_price  \\\n",
       "3734  Bánh Mì Chả Cá Nóng + Pepsi     33000.0   \n",
       "1748           Trà Lài Sữa Matcha     35000.0   \n",
       "3828                  Set Combo 3    245000.0   \n",
       "\n",
       "                                                   link  \n",
       "3734  https://www.foody.vn/ho-chi-minh/banh-mi-ma-ha...  \n",
       "1748  https://www.foody.vn/ho-chi-minh/bun-cay-thai-...  \n",
       "3828  https://www.foody.vn/ho-chi-minh/street-food-g...  "
      ]
     },
     "execution_count": 14,
     "metadata": {},
     "output_type": "execute_result"
    }
   ],
   "source": [
    "df_meals.sample(3)"
   ]
  },
  {
   "cell_type": "code",
   "execution_count": 15,
   "id": "a0589903-9a76-42be-a08e-3ffb77d2df12",
   "metadata": {},
   "outputs": [],
   "source": [
    "df_meals = df_meals.merge(df_rest_full[[\"rest_id\", \"link\"]], how=\"inner\", on=\"link\")"
   ]
  },
  {
   "cell_type": "code",
   "execution_count": 16,
   "id": "edf44856-e159-415b-ab86-0dfab2e4875e",
   "metadata": {},
   "outputs": [],
   "source": [
    "map_food_name = createId(df_meals, \"food_name\")\n",
    "df_meals[\"food_id\"] = df_meals.food_name.map(map_food_name)"
   ]
  },
  {
   "cell_type": "code",
   "execution_count": 17,
   "id": "9ce96fda-e85e-408d-bdb7-9c471e719baa",
   "metadata": {},
   "outputs": [],
   "source": [
    "df_meals = df_meals[[\"food_id\", \"rest_id\", \"food_name\", \"food_price\"]]"
   ]
  },
  {
   "cell_type": "code",
   "execution_count": 18,
   "id": "60063b2e-6de9-4421-90fa-3d079f516474",
   "metadata": {},
   "outputs": [],
   "source": [
    "df_meals.drop_duplicates(inplace=True)"
   ]
  },
  {
   "cell_type": "code",
   "execution_count": 19,
   "id": "4079f174-b498-449e-b766-f91f2f115e14",
   "metadata": {},
   "outputs": [
    {
     "data": {
      "text/html": [
       "<div>\n",
       "<style scoped>\n",
       "    .dataframe tbody tr th:only-of-type {\n",
       "        vertical-align: middle;\n",
       "    }\n",
       "\n",
       "    .dataframe tbody tr th {\n",
       "        vertical-align: top;\n",
       "    }\n",
       "\n",
       "    .dataframe thead th {\n",
       "        text-align: right;\n",
       "    }\n",
       "</style>\n",
       "<table border=\"1\" class=\"dataframe\">\n",
       "  <thead>\n",
       "    <tr style=\"text-align: right;\">\n",
       "      <th></th>\n",
       "      <th>food_id</th>\n",
       "      <th>rest_id</th>\n",
       "      <th>food_name</th>\n",
       "      <th>food_price</th>\n",
       "    </tr>\n",
       "  </thead>\n",
       "  <tbody>\n",
       "    <tr>\n",
       "      <th>0</th>\n",
       "      <td>607</td>\n",
       "      <td>1008</td>\n",
       "      <td>Tôm Viên Hạnh Nhân</td>\n",
       "      <td>68000.0</td>\n",
       "    </tr>\n",
       "    <tr>\n",
       "      <th>1</th>\n",
       "      <td>1798</td>\n",
       "      <td>1008</td>\n",
       "      <td>Bánh Cuốn X.O Sò Điệp Khô</td>\n",
       "      <td>86000.0</td>\n",
       "    </tr>\n",
       "    <tr>\n",
       "      <th>2</th>\n",
       "      <td>1454</td>\n",
       "      <td>1008</td>\n",
       "      <td>Tổ Chim Chiên Xù</td>\n",
       "      <td>60000.0</td>\n",
       "    </tr>\n",
       "    <tr>\n",
       "      <th>3</th>\n",
       "      <td>1447</td>\n",
       "      <td>1008</td>\n",
       "      <td>Bánh Nướng Phô Mai</td>\n",
       "      <td>48000.0</td>\n",
       "    </tr>\n",
       "    <tr>\n",
       "      <th>4</th>\n",
       "      <td>110</td>\n",
       "      <td>1008</td>\n",
       "      <td>Há Cảo Hải Sản Dát Vàng</td>\n",
       "      <td>99000.0</td>\n",
       "    </tr>\n",
       "    <tr>\n",
       "      <th>...</th>\n",
       "      <td>...</td>\n",
       "      <td>...</td>\n",
       "      <td>...</td>\n",
       "      <td>...</td>\n",
       "    </tr>\n",
       "    <tr>\n",
       "      <th>4500</th>\n",
       "      <td>1683</td>\n",
       "      <td>974</td>\n",
       "      <td>Trà sữa Matcha</td>\n",
       "      <td>25000.0</td>\n",
       "    </tr>\n",
       "    <tr>\n",
       "      <th>4501</th>\n",
       "      <td>563</td>\n",
       "      <td>220</td>\n",
       "      <td>Sữa chua lắc Dâu</td>\n",
       "      <td>24000.0</td>\n",
       "    </tr>\n",
       "    <tr>\n",
       "      <th>4502</th>\n",
       "      <td>1543</td>\n",
       "      <td>220</td>\n",
       "      <td>Sữa chua lắc Xoài</td>\n",
       "      <td>24000.0</td>\n",
       "    </tr>\n",
       "    <tr>\n",
       "      <th>4503</th>\n",
       "      <td>777</td>\n",
       "      <td>220</td>\n",
       "      <td>Sữa chua lắc Đào</td>\n",
       "      <td>24000.0</td>\n",
       "    </tr>\n",
       "    <tr>\n",
       "      <th>4504</th>\n",
       "      <td>714</td>\n",
       "      <td>220</td>\n",
       "      <td>Sữa Chua Lắc Ổi Hồng</td>\n",
       "      <td>24000.0</td>\n",
       "    </tr>\n",
       "  </tbody>\n",
       "</table>\n",
       "<p>4109 rows × 4 columns</p>\n",
       "</div>"
      ],
      "text/plain": [
       "      food_id  rest_id                  food_name  food_price\n",
       "0         607     1008         Tôm Viên Hạnh Nhân     68000.0\n",
       "1        1798     1008  Bánh Cuốn X.O Sò Điệp Khô     86000.0\n",
       "2        1454     1008           Tổ Chim Chiên Xù     60000.0\n",
       "3        1447     1008         Bánh Nướng Phô Mai     48000.0\n",
       "4         110     1008    Há Cảo Hải Sản Dát Vàng     99000.0\n",
       "...       ...      ...                        ...         ...\n",
       "4500     1683      974             Trà sữa Matcha     25000.0\n",
       "4501      563      220           Sữa chua lắc Dâu     24000.0\n",
       "4502     1543      220          Sữa chua lắc Xoài     24000.0\n",
       "4503      777      220           Sữa chua lắc Đào     24000.0\n",
       "4504      714      220       Sữa Chua Lắc Ổi Hồng     24000.0\n",
       "\n",
       "[4109 rows x 4 columns]"
      ]
     },
     "execution_count": 19,
     "metadata": {},
     "output_type": "execute_result"
    }
   ],
   "source": [
    "df_meals"
   ]
  },
  {
   "cell_type": "code",
   "execution_count": 20,
   "id": "d78ebf61-f86c-46c6-ac33-6b79c12ace54",
   "metadata": {},
   "outputs": [],
   "source": [
    "df_meals.to_csv(\"data/organized/meals.csv\", index=False)"
   ]
  },
  {
   "cell_type": "markdown",
   "id": "cd0f34cf-8342-4881-aceb-4a6bb1b3b36e",
   "metadata": {},
   "source": [
    "## 4. comments.csv"
   ]
  },
  {
   "cell_type": "markdown",
   "id": "9fe67e8e-605a-4fe3-8624-5196dd4f0d1a",
   "metadata": {},
   "source": [
    "### 4.1 users.csv"
   ]
  },
  {
   "cell_type": "code",
   "execution_count": 21,
   "id": "c434b15d-43cd-4b90-86dc-c2c69c4ac859",
   "metadata": {},
   "outputs": [],
   "source": [
    " df_ratings = pd.read_csv(\"data/raw/cmt_data_step_3_full_features.csv\")"
   ]
  },
  {
   "cell_type": "code",
   "execution_count": 22,
   "id": "89736a98-f6d0-48d7-9118-984f8e49e00e",
   "metadata": {},
   "outputs": [
    {
     "data": {
      "text/html": [
       "<div>\n",
       "<style scoped>\n",
       "    .dataframe tbody tr th:only-of-type {\n",
       "        vertical-align: middle;\n",
       "    }\n",
       "\n",
       "    .dataframe tbody tr th {\n",
       "        vertical-align: top;\n",
       "    }\n",
       "\n",
       "    .dataframe thead th {\n",
       "        text-align: right;\n",
       "    }\n",
       "</style>\n",
       "<table border=\"1\" class=\"dataframe\">\n",
       "  <thead>\n",
       "    <tr style=\"text-align: right;\">\n",
       "      <th></th>\n",
       "      <th>cmt</th>\n",
       "      <th>user_link</th>\n",
       "      <th>device_user</th>\n",
       "      <th>time</th>\n",
       "      <th>rating_score</th>\n",
       "      <th>user_name</th>\n",
       "      <th>link_rest</th>\n",
       "    </tr>\n",
       "  </thead>\n",
       "  <tbody>\n",
       "    <tr>\n",
       "      <th>11845</th>\n",
       "      <td>Mình với đứa bạn ghé Pizza Hut Trương Định tro...</td>\n",
       "      <td>https://www.foody.vn/thanh-vien/thanhthanhthyng</td>\n",
       "      <td>via Android</td>\n",
       "      <td>3/8/2018 13:36</td>\n",
       "      <td>9.0</td>\n",
       "      <td>Thanhthanhthyng</td>\n",
       "      <td>https://www.foody.vn/ho-chi-minh/pizza-hut-tru...</td>\n",
       "    </tr>\n",
       "    <tr>\n",
       "      <th>9016</th>\n",
       "      <td>Menu đa dạng món ăn, thịt bò mềm ngon. Chi nhá...</td>\n",
       "      <td>https://www.foody.vn/thanh-vien/phantrang1601</td>\n",
       "      <td>via iPhone</td>\n",
       "      <td>15/4/2019 22:42</td>\n",
       "      <td>8.8</td>\n",
       "      <td>Trang Phan</td>\n",
       "      <td>https://www.foody.vn/ho-chi-minh/sumo-bbq-tttm...</td>\n",
       "    </tr>\n",
       "    <tr>\n",
       "      <th>14971</th>\n",
       "      <td>Lâu lâu thèm gà là nghĩ đến thương h...</td>\n",
       "      <td>https://www.foody.vn/thanh-vien/minnieprt</td>\n",
       "      <td>via iPhone</td>\n",
       "      <td>19/7/2020 23:41</td>\n",
       "      <td>7.4</td>\n",
       "      <td>Minnie Pham</td>\n",
       "      <td>https://www.foody.vn/ho-chi-minh/papas-chicken...</td>\n",
       "    </tr>\n",
       "  </tbody>\n",
       "</table>\n",
       "</div>"
      ],
      "text/plain": [
       "                                                     cmt  \\\n",
       "11845  Mình với đứa bạn ghé Pizza Hut Trương Định tro...   \n",
       "9016   Menu đa dạng món ăn, thịt bò mềm ngon. Chi nhá...   \n",
       "14971  Lâu lâu thèm gà là nghĩ đến thương h...   \n",
       "\n",
       "                                             user_link  device_user  \\\n",
       "11845  https://www.foody.vn/thanh-vien/thanhthanhthyng  via Android   \n",
       "9016     https://www.foody.vn/thanh-vien/phantrang1601   via iPhone   \n",
       "14971        https://www.foody.vn/thanh-vien/minnieprt   via iPhone   \n",
       "\n",
       "                  time  rating_score        user_name  \\\n",
       "11845   3/8/2018 13:36           9.0  Thanhthanhthyng   \n",
       "9016   15/4/2019 22:42           8.8       Trang Phan   \n",
       "14971  19/7/2020 23:41           7.4      Minnie Pham   \n",
       "\n",
       "                                               link_rest  \n",
       "11845  https://www.foody.vn/ho-chi-minh/pizza-hut-tru...  \n",
       "9016   https://www.foody.vn/ho-chi-minh/sumo-bbq-tttm...  \n",
       "14971  https://www.foody.vn/ho-chi-minh/papas-chicken...  "
      ]
     },
     "execution_count": 22,
     "metadata": {},
     "output_type": "execute_result"
    }
   ],
   "source": [
    "df_ratings.sample(3)"
   ]
  },
  {
   "cell_type": "code",
   "execution_count": 23,
   "id": "43d5ab63-19f7-46e5-b3e0-fb8dc5b62569",
   "metadata": {},
   "outputs": [],
   "source": [
    "df_users = df_ratings[[\"user_name\", \"user_link\"]]"
   ]
  },
  {
   "cell_type": "code",
   "execution_count": 24,
   "id": "48760dde-5aa3-4f88-93c3-1958f93d2971",
   "metadata": {},
   "outputs": [
    {
     "name": "stderr",
     "output_type": "stream",
     "text": [
      "/home/henry/miniconda3/envs/nlpvenv/lib/python3.7/site-packages/ipykernel_launcher.py:2: SettingWithCopyWarning: \n",
      "A value is trying to be set on a copy of a slice from a DataFrame.\n",
      "Try using .loc[row_indexer,col_indexer] = value instead\n",
      "\n",
      "See the caveats in the documentation: https://pandas.pydata.org/pandas-docs/stable/user_guide/indexing.html#returning-a-view-versus-a-copy\n",
      "  \n"
     ]
    }
   ],
   "source": [
    "map_userId = createId(df_users, \"user_name\")\n",
    "df_users[\"user_id\"] = df_users.user_name.map(map_userId)"
   ]
  },
  {
   "cell_type": "code",
   "execution_count": 25,
   "id": "33bbe4f1-a744-41ca-9bfd-214b279d35d0",
   "metadata": {},
   "outputs": [
    {
     "name": "stderr",
     "output_type": "stream",
     "text": [
      "/home/henry/miniconda3/envs/nlpvenv/lib/python3.7/site-packages/pandas/util/_decorators.py:311: SettingWithCopyWarning: \n",
      "A value is trying to be set on a copy of a slice from a DataFrame\n",
      "\n",
      "See the caveats in the documentation: https://pandas.pydata.org/pandas-docs/stable/user_guide/indexing.html#returning-a-view-versus-a-copy\n",
      "  return func(*args, **kwargs)\n"
     ]
    }
   ],
   "source": [
    "df_users.drop_duplicates(inplace=True)"
   ]
  },
  {
   "cell_type": "code",
   "execution_count": 26,
   "id": "e01c2aab-aadc-433d-959a-94427e393e8a",
   "metadata": {},
   "outputs": [
    {
     "data": {
      "text/html": [
       "<div>\n",
       "<style scoped>\n",
       "    .dataframe tbody tr th:only-of-type {\n",
       "        vertical-align: middle;\n",
       "    }\n",
       "\n",
       "    .dataframe tbody tr th {\n",
       "        vertical-align: top;\n",
       "    }\n",
       "\n",
       "    .dataframe thead th {\n",
       "        text-align: right;\n",
       "    }\n",
       "</style>\n",
       "<table border=\"1\" class=\"dataframe\">\n",
       "  <thead>\n",
       "    <tr style=\"text-align: right;\">\n",
       "      <th></th>\n",
       "      <th>user_name</th>\n",
       "      <th>user_link</th>\n",
       "      <th>user_id</th>\n",
       "    </tr>\n",
       "  </thead>\n",
       "  <tbody>\n",
       "    <tr>\n",
       "      <th>0</th>\n",
       "      <td>Lam Nhung</td>\n",
       "      <td>https://www.foody.vn/thanh-vien/calyna2004</td>\n",
       "      <td>7847</td>\n",
       "    </tr>\n",
       "    <tr>\n",
       "      <th>1</th>\n",
       "      <td>Ngọc Ánh Nguyễn</td>\n",
       "      <td>https://www.foody.vn/thanh-vien/nguyenngocanh1...</td>\n",
       "      <td>1972</td>\n",
       "    </tr>\n",
       "    <tr>\n",
       "      <th>2</th>\n",
       "      <td>Mỡ (Bún Bò)</td>\n",
       "      <td>https://www.foody.vn/thanh-vien/bb_mylove_forever</td>\n",
       "      <td>7972</td>\n",
       "    </tr>\n",
       "    <tr>\n",
       "      <th>3</th>\n",
       "      <td>Trang Nguyễn</td>\n",
       "      <td>https://www.foody.vn/thanh-vien/shy1303</td>\n",
       "      <td>801</td>\n",
       "    </tr>\n",
       "    <tr>\n",
       "      <th>4</th>\n",
       "      <td>Quynh Anh Nguyen</td>\n",
       "      <td>https://www.foody.vn/thanh-vien/quynhanhnho</td>\n",
       "      <td>1245</td>\n",
       "    </tr>\n",
       "    <tr>\n",
       "      <th>...</th>\n",
       "      <td>...</td>\n",
       "      <td>...</td>\n",
       "      <td>...</td>\n",
       "    </tr>\n",
       "    <tr>\n",
       "      <th>16854</th>\n",
       "      <td>Lan Yeung</td>\n",
       "      <td>https://www.foody.vn/thanh-vien/Tavia</td>\n",
       "      <td>179</td>\n",
       "    </tr>\n",
       "    <tr>\n",
       "      <th>16858</th>\n",
       "      <td>Dung Tran</td>\n",
       "      <td>https://www.foody.vn/thanh-vien/EatEverything1997</td>\n",
       "      <td>965</td>\n",
       "    </tr>\n",
       "    <tr>\n",
       "      <th>16860</th>\n",
       "      <td>Naru Nguyễn</td>\n",
       "      <td>https://www.foody.vn/thanh-vien/rabbittheking</td>\n",
       "      <td>7526</td>\n",
       "    </tr>\n",
       "    <tr>\n",
       "      <th>16861</th>\n",
       "      <td>Huynh Nguyen</td>\n",
       "      <td>https://www.foody.vn/thanh-vien/khanhnguyen3394</td>\n",
       "      <td>6700</td>\n",
       "    </tr>\n",
       "    <tr>\n",
       "      <th>16863</th>\n",
       "      <td>Khuu Tai</td>\n",
       "      <td>https://www.foody.vn/thanh-vien/khuutantai</td>\n",
       "      <td>5806</td>\n",
       "    </tr>\n",
       "  </tbody>\n",
       "</table>\n",
       "<p>9867 rows × 3 columns</p>\n",
       "</div>"
      ],
      "text/plain": [
       "              user_name                                          user_link  \\\n",
       "0             Lam Nhung         https://www.foody.vn/thanh-vien/calyna2004   \n",
       "1       Ngọc Ánh Nguyễn  https://www.foody.vn/thanh-vien/nguyenngocanh1...   \n",
       "2           Mỡ (Bún Bò)  https://www.foody.vn/thanh-vien/bb_mylove_forever   \n",
       "3          Trang Nguyễn            https://www.foody.vn/thanh-vien/shy1303   \n",
       "4      Quynh Anh Nguyen        https://www.foody.vn/thanh-vien/quynhanhnho   \n",
       "...                 ...                                                ...   \n",
       "16854         Lan Yeung              https://www.foody.vn/thanh-vien/Tavia   \n",
       "16858         Dung Tran  https://www.foody.vn/thanh-vien/EatEverything1997   \n",
       "16860       Naru Nguyễn      https://www.foody.vn/thanh-vien/rabbittheking   \n",
       "16861      Huynh Nguyen    https://www.foody.vn/thanh-vien/khanhnguyen3394   \n",
       "16863          Khuu Tai         https://www.foody.vn/thanh-vien/khuutantai   \n",
       "\n",
       "       user_id  \n",
       "0         7847  \n",
       "1         1972  \n",
       "2         7972  \n",
       "3          801  \n",
       "4         1245  \n",
       "...        ...  \n",
       "16854      179  \n",
       "16858      965  \n",
       "16860     7526  \n",
       "16861     6700  \n",
       "16863     5806  \n",
       "\n",
       "[9867 rows x 3 columns]"
      ]
     },
     "execution_count": 26,
     "metadata": {},
     "output_type": "execute_result"
    }
   ],
   "source": [
    "df_users"
   ]
  },
  {
   "cell_type": "code",
   "execution_count": 27,
   "id": "97b04e40-d560-49c2-a496-bdd830ebb1f5",
   "metadata": {},
   "outputs": [],
   "source": [
    "df_users.to_csv(\"data/organized/users.csv\", index=False)"
   ]
  },
  {
   "cell_type": "markdown",
   "id": "52cf42e4-0157-48e8-8344-bfb716520da3",
   "metadata": {},
   "source": [
    "### 4.2 ratings.csv"
   ]
  },
  {
   "cell_type": "code",
   "execution_count": 28,
   "id": "51f74def-cf0c-4e21-882d-91c965d818fe",
   "metadata": {},
   "outputs": [],
   "source": [
    "df_ratings.rename(columns={\"link_rest\": \"link\"}, inplace=True)"
   ]
  },
  {
   "cell_type": "code",
   "execution_count": 29,
   "id": "d00c25b8-a03a-41be-b137-dd8aaf7e801b",
   "metadata": {},
   "outputs": [
    {
     "data": {
      "text/html": [
       "<div>\n",
       "<style scoped>\n",
       "    .dataframe tbody tr th:only-of-type {\n",
       "        vertical-align: middle;\n",
       "    }\n",
       "\n",
       "    .dataframe tbody tr th {\n",
       "        vertical-align: top;\n",
       "    }\n",
       "\n",
       "    .dataframe thead th {\n",
       "        text-align: right;\n",
       "    }\n",
       "</style>\n",
       "<table border=\"1\" class=\"dataframe\">\n",
       "  <thead>\n",
       "    <tr style=\"text-align: right;\">\n",
       "      <th></th>\n",
       "      <th>cmt</th>\n",
       "      <th>user_link</th>\n",
       "      <th>device_user</th>\n",
       "      <th>time</th>\n",
       "      <th>rating_score</th>\n",
       "      <th>user_name</th>\n",
       "      <th>link</th>\n",
       "    </tr>\n",
       "  </thead>\n",
       "  <tbody>\n",
       "    <tr>\n",
       "      <th>3182</th>\n",
       "      <td>Súp cua chất lượng, nhiều cua nhưng mà cái giá...</td>\n",
       "      <td>https://www.foody.vn/thanh-vien/mminguyen017</td>\n",
       "      <td>via iPhone</td>\n",
       "      <td>19/12/2016 13:59</td>\n",
       "      <td>6.4</td>\n",
       "      <td>Minh Khương</td>\n",
       "      <td>https://www.foody.vn/ho-chi-minh/sup-cua-hanh-...</td>\n",
       "    </tr>\n",
       "    <tr>\n",
       "      <th>12642</th>\n",
       "      <td>Lần trước mua mang về thì ok, sữa chua nhiều (...</td>\n",
       "      <td>https://www.foody.vn/thanh-vien/tsunaho21376</td>\n",
       "      <td>via iPhone</td>\n",
       "      <td>10/9/2020 21:34</td>\n",
       "      <td>4.2</td>\n",
       "      <td>Phuong Lu</td>\n",
       "      <td>https://www.foody.vn/ho-chi-minh/sua-chua-tran...</td>\n",
       "    </tr>\n",
       "    <tr>\n",
       "      <th>15490</th>\n",
       "      <td>Mình muốn đi ăn ở nhà hàng này từ rất lâu rồi ...</td>\n",
       "      <td>https://www.foody.vn/thanh-vien/foodee_aprvcpbq</td>\n",
       "      <td>via Android</td>\n",
       "      <td>23/9/2019 19:41</td>\n",
       "      <td>2.8</td>\n",
       "      <td>Vy Vy</td>\n",
       "      <td>https://www.foody.vn/ho-chi-minh/d-maris-buffe...</td>\n",
       "    </tr>\n",
       "  </tbody>\n",
       "</table>\n",
       "</div>"
      ],
      "text/plain": [
       "                                                     cmt  \\\n",
       "3182   Súp cua chất lượng, nhiều cua nhưng mà cái giá...   \n",
       "12642  Lần trước mua mang về thì ok, sữa chua nhiều (...   \n",
       "15490  Mình muốn đi ăn ở nhà hàng này từ rất lâu rồi ...   \n",
       "\n",
       "                                             user_link  device_user  \\\n",
       "3182      https://www.foody.vn/thanh-vien/mminguyen017   via iPhone   \n",
       "12642     https://www.foody.vn/thanh-vien/tsunaho21376   via iPhone   \n",
       "15490  https://www.foody.vn/thanh-vien/foodee_aprvcpbq  via Android   \n",
       "\n",
       "                   time  rating_score    user_name  \\\n",
       "3182   19/12/2016 13:59           6.4  Minh Khương   \n",
       "12642   10/9/2020 21:34           4.2    Phuong Lu   \n",
       "15490   23/9/2019 19:41           2.8        Vy Vy   \n",
       "\n",
       "                                                    link  \n",
       "3182   https://www.foody.vn/ho-chi-minh/sup-cua-hanh-...  \n",
       "12642  https://www.foody.vn/ho-chi-minh/sua-chua-tran...  \n",
       "15490  https://www.foody.vn/ho-chi-minh/d-maris-buffe...  "
      ]
     },
     "execution_count": 29,
     "metadata": {},
     "output_type": "execute_result"
    }
   ],
   "source": [
    "df_ratings.sample(3)"
   ]
  },
  {
   "cell_type": "code",
   "execution_count": 30,
   "id": "2802ff0c-9ff5-4647-b889-d2dc5b3b52a7",
   "metadata": {},
   "outputs": [],
   "source": [
    "df_ratings = df_ratings.merge(df_users[[\"user_name\", \"user_id\"]], how=\"inner\", on=\"user_name\")"
   ]
  },
  {
   "cell_type": "code",
   "execution_count": 31,
   "id": "34e821c5-5226-4325-ba4c-7b78201891d5",
   "metadata": {},
   "outputs": [],
   "source": [
    "df_ratings = df_ratings.merge(df_rest_full[[\"rest_id\", \"link\"]], how=\"inner\", on=\"link\")"
   ]
  },
  {
   "cell_type": "code",
   "execution_count": 32,
   "id": "68c11337-ce3e-4bd5-bf14-ae47601a18f6",
   "metadata": {},
   "outputs": [],
   "source": [
    "df_ratings_org = df_ratings[[\"user_id\", \"rest_id\", \"time\", \"device_user\", \"rating_score\", \"cmt\"]]"
   ]
  },
  {
   "cell_type": "code",
   "execution_count": 33,
   "id": "c3ef3eec-73b6-4b6c-b267-acd3781a0203",
   "metadata": {},
   "outputs": [
    {
     "name": "stderr",
     "output_type": "stream",
     "text": [
      "/home/henry/miniconda3/envs/nlpvenv/lib/python3.7/site-packages/pandas/util/_decorators.py:311: SettingWithCopyWarning: \n",
      "A value is trying to be set on a copy of a slice from a DataFrame\n",
      "\n",
      "See the caveats in the documentation: https://pandas.pydata.org/pandas-docs/stable/user_guide/indexing.html#returning-a-view-versus-a-copy\n",
      "  return func(*args, **kwargs)\n"
     ]
    }
   ],
   "source": [
    "df_ratings_org.drop_duplicates(inplace=True)"
   ]
  },
  {
   "cell_type": "code",
   "execution_count": 34,
   "id": "5416fd36-c328-4f04-91fb-88e973f04c07",
   "metadata": {},
   "outputs": [
    {
     "data": {
      "text/html": [
       "<div>\n",
       "<style scoped>\n",
       "    .dataframe tbody tr th:only-of-type {\n",
       "        vertical-align: middle;\n",
       "    }\n",
       "\n",
       "    .dataframe tbody tr th {\n",
       "        vertical-align: top;\n",
       "    }\n",
       "\n",
       "    .dataframe thead th {\n",
       "        text-align: right;\n",
       "    }\n",
       "</style>\n",
       "<table border=\"1\" class=\"dataframe\">\n",
       "  <thead>\n",
       "    <tr style=\"text-align: right;\">\n",
       "      <th></th>\n",
       "      <th>user_id</th>\n",
       "      <th>rest_id</th>\n",
       "      <th>time</th>\n",
       "      <th>device_user</th>\n",
       "      <th>rating_score</th>\n",
       "      <th>cmt</th>\n",
       "    </tr>\n",
       "  </thead>\n",
       "  <tbody>\n",
       "    <tr>\n",
       "      <th>0</th>\n",
       "      <td>7847</td>\n",
       "      <td>253</td>\n",
       "      <td>29/2/2016 17:49</td>\n",
       "      <td>via Web</td>\n",
       "      <td>8.0</td>\n",
       "      <td>Mình mới đến lại thứ 7 vừa rồi, mình thích nhấ...</td>\n",
       "    </tr>\n",
       "    <tr>\n",
       "      <th>1</th>\n",
       "      <td>1972</td>\n",
       "      <td>253</td>\n",
       "      <td>27/10/2015 7:49</td>\n",
       "      <td>via iPhone</td>\n",
       "      <td>5.4</td>\n",
       "      <td>Quán này nghỉ vào 14-15 âm hàng tháng. Hôm qua...</td>\n",
       "    </tr>\n",
       "    <tr>\n",
       "      <th>2</th>\n",
       "      <td>7972</td>\n",
       "      <td>253</td>\n",
       "      <td>30/7/2015 20:15</td>\n",
       "      <td>via Web</td>\n",
       "      <td>7.2</td>\n",
       "      <td>Mình ăn ở đây từ cái hồi mới nghe danh bên địa...</td>\n",
       "    </tr>\n",
       "    <tr>\n",
       "      <th>3</th>\n",
       "      <td>7972</td>\n",
       "      <td>253</td>\n",
       "      <td>26/5/2014 22:02</td>\n",
       "      <td>via Web</td>\n",
       "      <td>5.6</td>\n",
       "      <td>quán ruột sau khi ăn ở bên 533/59 ốc luộc huỳn...</td>\n",
       "    </tr>\n",
       "    <tr>\n",
       "      <th>4</th>\n",
       "      <td>801</td>\n",
       "      <td>253</td>\n",
       "      <td>14/7/2015 22:49</td>\n",
       "      <td>via iPhone</td>\n",
       "      <td>6.2</td>\n",
       "      <td>Lần đầu đi với đám bạn tới đây. Đường đi đúng ...</td>\n",
       "    </tr>\n",
       "    <tr>\n",
       "      <th>...</th>\n",
       "      <td>...</td>\n",
       "      <td>...</td>\n",
       "      <td>...</td>\n",
       "      <td>...</td>\n",
       "      <td>...</td>\n",
       "      <td>...</td>\n",
       "    </tr>\n",
       "    <tr>\n",
       "      <th>34424</th>\n",
       "      <td>6873</td>\n",
       "      <td>376</td>\n",
       "      <td>30/6/2022 22:52</td>\n",
       "      <td>via MobileWeb</td>\n",
       "      <td>10.0</td>\n",
       "      <td>Đò ăn ngon xỉu, quá đỉnh✨</td>\n",
       "    </tr>\n",
       "    <tr>\n",
       "      <th>34425</th>\n",
       "      <td>2020</td>\n",
       "      <td>376</td>\n",
       "      <td>29/6/2022 18:14</td>\n",
       "      <td>via MobileWeb</td>\n",
       "      <td>10.0</td>\n",
       "      <td>Món ăn rất ngon. Set panacotta ở gogi house là...</td>\n",
       "    </tr>\n",
       "    <tr>\n",
       "      <th>34426</th>\n",
       "      <td>2020</td>\n",
       "      <td>376</td>\n",
       "      <td>29/6/2022 18:11</td>\n",
       "      <td>via MobileWeb</td>\n",
       "      <td>10.0</td>\n",
       "      <td>Món ăn rất phong phú và hợp giá tiền</td>\n",
       "    </tr>\n",
       "    <tr>\n",
       "      <th>34427</th>\n",
       "      <td>5606</td>\n",
       "      <td>376</td>\n",
       "      <td>27/6/2022 0:04</td>\n",
       "      <td>via iPhone</td>\n",
       "      <td>10.0</td>\n",
       "      <td>Món ăn ngon, nhân viên phục vụ rất tốt. Trải n...</td>\n",
       "    </tr>\n",
       "    <tr>\n",
       "      <th>34428</th>\n",
       "      <td>162</td>\n",
       "      <td>376</td>\n",
       "      <td>23/6/2022 22:17</td>\n",
       "      <td>via MobileWeb</td>\n",
       "      <td>10.0</td>\n",
       "      <td>Món ăn ở đây rất ngon, nhân viên phục vụ nhiệt...</td>\n",
       "    </tr>\n",
       "  </tbody>\n",
       "</table>\n",
       "<p>15315 rows × 6 columns</p>\n",
       "</div>"
      ],
      "text/plain": [
       "       user_id  rest_id             time    device_user  rating_score  \\\n",
       "0         7847      253  29/2/2016 17:49        via Web           8.0   \n",
       "1         1972      253  27/10/2015 7:49     via iPhone           5.4   \n",
       "2         7972      253  30/7/2015 20:15        via Web           7.2   \n",
       "3         7972      253  26/5/2014 22:02        via Web           5.6   \n",
       "4          801      253  14/7/2015 22:49     via iPhone           6.2   \n",
       "...        ...      ...              ...            ...           ...   \n",
       "34424     6873      376  30/6/2022 22:52  via MobileWeb          10.0   \n",
       "34425     2020      376  29/6/2022 18:14  via MobileWeb          10.0   \n",
       "34426     2020      376  29/6/2022 18:11  via MobileWeb          10.0   \n",
       "34427     5606      376   27/6/2022 0:04     via iPhone          10.0   \n",
       "34428      162      376  23/6/2022 22:17  via MobileWeb          10.0   \n",
       "\n",
       "                                                     cmt  \n",
       "0      Mình mới đến lại thứ 7 vừa rồi, mình thích nhấ...  \n",
       "1      Quán này nghỉ vào 14-15 âm hàng tháng. Hôm qua...  \n",
       "2      Mình ăn ở đây từ cái hồi mới nghe danh bên địa...  \n",
       "3      quán ruột sau khi ăn ở bên 533/59 ốc luộc huỳn...  \n",
       "4      Lần đầu đi với đám bạn tới đây. Đường đi đúng ...  \n",
       "...                                                  ...  \n",
       "34424                          Đò ăn ngon xỉu, quá đỉnh✨  \n",
       "34425  Món ăn rất ngon. Set panacotta ở gogi house là...  \n",
       "34426               Món ăn rất phong phú và hợp giá tiền  \n",
       "34427  Món ăn ngon, nhân viên phục vụ rất tốt. Trải n...  \n",
       "34428  Món ăn ở đây rất ngon, nhân viên phục vụ nhiệt...  \n",
       "\n",
       "[15315 rows x 6 columns]"
      ]
     },
     "execution_count": 34,
     "metadata": {},
     "output_type": "execute_result"
    }
   ],
   "source": [
    "df_ratings_org"
   ]
  },
  {
   "cell_type": "code",
   "execution_count": 35,
   "id": "039a00e2-18dd-4a66-8030-8f235e727edc",
   "metadata": {},
   "outputs": [],
   "source": [
    "df_ratings_org.to_csv(\"data/organized/ratings.csv\", index=False)"
   ]
  },
  {
   "cell_type": "code",
   "execution_count": null,
   "id": "77dbca30-dec9-4690-99ce-ec7f666a2fc2",
   "metadata": {},
   "outputs": [],
   "source": []
  }
 ],
 "metadata": {
  "kernelspec": {
   "display_name": "Python 3 (ipykernel)",
   "language": "python",
   "name": "python3"
  },
  "language_info": {
   "codemirror_mode": {
    "name": "ipython",
    "version": 3
   },
   "file_extension": ".py",
   "mimetype": "text/x-python",
   "name": "python",
   "nbconvert_exporter": "python",
   "pygments_lexer": "ipython3",
   "version": "3.7.13"
  }
 },
 "nbformat": 4,
 "nbformat_minor": 5
}
